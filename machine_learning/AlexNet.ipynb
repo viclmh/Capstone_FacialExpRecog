{
  "cells": [
    {
      "cell_type": "code",
      "execution_count": null,
      "metadata": {
        "colab": {
          "base_uri": "https://localhost:8080/"
        },
        "id": "vilbbSu17GHo",
        "outputId": "d3fab263-5b73-42b4-81fe-b24ddc8f6d25"
      },
      "outputs": [
        {
          "output_type": "stream",
          "name": "stdout",
          "text": [
            "Mounted at /content/drive\n"
          ]
        }
      ],
      "source": [
        "from google.colab import drive\n",
        "drive.mount('/content/drive', force_remount=True)"
      ]
    },
    {
      "cell_type": "code",
      "source": [
        "!unzip \"/content/drive/My Drive/SI699/100.zip\" -d \"/content\""
      ],
      "metadata": {
        "id": "OKPySF9Esm9Q"
      },
      "execution_count": null,
      "outputs": []
    },
    {
      "cell_type": "code",
      "execution_count": null,
      "metadata": {
        "id": "UC35lPG85T1Z"
      },
      "outputs": [],
      "source": [
        "!pip install keras==2.6.0\n",
        "!pip install tensorflow==2.6.0"
      ]
    },
    {
      "cell_type": "code",
      "execution_count": null,
      "metadata": {
        "id": "Re0oDrRb5AIf"
      },
      "outputs": [],
      "source": [
        "import tensorflow as tf\n",
        "import keras\n",
        "import numpy as np\n",
        "import cv2\n",
        "import os\n",
        "# import matplotlib.pyplot as plt\n",
        "from sklearn.model_selection import train_test_split\n",
        "from tensorflow.keras import datasets, layers, models\n",
        "from tensorflow.keras.utils import to_categorical\n",
        "from tensorflow.keras.metrics import BinaryAccuracy\n",
        "from tensorflow.keras.layers import Dense\n",
        "from sklearn.metrics import confusion_matrix, ConfusionMatrixDisplay\n",
        "import matplotlib.pyplot as plt\n",
        "from sklearn import metrics"
      ]
    },
    {
      "cell_type": "code",
      "execution_count": null,
      "metadata": {
        "colab": {
          "base_uri": "https://localhost:8080/"
        },
        "id": "gwvTk-sh5G9S",
        "outputId": "5a921f34-0f50-4999-fa26-eb47b8c001c8"
      },
      "outputs": [
        {
          "output_type": "stream",
          "name": "stdout",
          "text": [
            "2.6.0\n",
            "2.6.0\n"
          ]
        }
      ],
      "source": [
        "print(tf.__version__)\n",
        "print(keras.__version__)"
      ]
    },
    {
      "cell_type": "code",
      "execution_count": null,
      "metadata": {
        "id": "YmoUGgqm72T9",
        "colab": {
          "base_uri": "https://localhost:8080/"
        },
        "outputId": "ad274d64-d4df-4c53-84d3-04869393b0a1"
      },
      "outputs": [
        {
          "output_type": "stream",
          "name": "stdout",
          "text": [
            "Fri Apr 14 20:13:15 2023       \n",
            "+-----------------------------------------------------------------------------+\n",
            "| NVIDIA-SMI 525.85.12    Driver Version: 525.85.12    CUDA Version: 12.0     |\n",
            "|-------------------------------+----------------------+----------------------+\n",
            "| GPU  Name        Persistence-M| Bus-Id        Disp.A | Volatile Uncorr. ECC |\n",
            "| Fan  Temp  Perf  Pwr:Usage/Cap|         Memory-Usage | GPU-Util  Compute M. |\n",
            "|                               |                      |               MIG M. |\n",
            "|===============================+======================+======================|\n",
            "|   0  Tesla T4            Off  | 00000000:00:04.0 Off |                    0 |\n",
            "| N/A   38C    P8     9W /  70W |      0MiB / 15360MiB |      0%      Default |\n",
            "|                               |                      |                  N/A |\n",
            "+-------------------------------+----------------------+----------------------+\n",
            "                                                                               \n",
            "+-----------------------------------------------------------------------------+\n",
            "| Processes:                                                                  |\n",
            "|  GPU   GI   CI        PID   Type   Process name                  GPU Memory |\n",
            "|        ID   ID                                                   Usage      |\n",
            "|=============================================================================|\n",
            "|  No running processes found                                                 |\n",
            "+-----------------------------------------------------------------------------+\n"
          ]
        }
      ],
      "source": [
        "gpu_info = !nvidia-smi\n",
        "gpu_info = '\\n'.join(gpu_info)\n",
        "if gpu_info.find('failed') >= 0:\n",
        "  print('Not connected to a GPU')\n",
        "else:\n",
        "  print(gpu_info)"
      ]
    },
    {
      "cell_type": "markdown",
      "source": [
        "\n",
        "# Training Set & Testing Set"
      ],
      "metadata": {
        "id": "wi5E293fb8z4"
      }
    },
    {
      "cell_type": "code",
      "execution_count": null,
      "metadata": {
        "colab": {
          "base_uri": "https://localhost:8080/"
        },
        "id": "IiDJ3mu8Ac90",
        "outputId": "9417b9de-1149-4073-e9aa-b42c6c15613b"
      },
      "outputs": [
        {
          "output_type": "stream",
          "name": "stdout",
          "text": [
            "(100, 100, 1)\n"
          ]
        }
      ],
      "source": [
        "# Read a sample\n",
        "import cv2\n",
        "folder_name = '/content/100/1/'\n",
        "filename = '0' + '.jpg'\n",
        "img = cv2.imread(folder_name + filename, cv2.IMREAD_GRAYSCALE).reshape(100, 100, 1)\n",
        "print(img.shape)"
      ]
    },
    {
      "cell_type": "code",
      "source": [
        "print(img[:, :, 0])"
      ],
      "metadata": {
        "id": "JhUSBEwjeCrB",
        "colab": {
          "base_uri": "https://localhost:8080/"
        },
        "outputId": "52c71e06-24dc-4a61-dee9-727910468ab9"
      },
      "execution_count": null,
      "outputs": [
        {
          "output_type": "stream",
          "name": "stdout",
          "text": [
            "[[153 147 138 ... 174 175 177]\n",
            " [143 134 124 ... 175 177 178]\n",
            " [139 127 115 ... 178 179 180]\n",
            " ...\n",
            " [  9  11  14 ... 133 134 132]\n",
            " [  9  12  11 ... 133 133 132]\n",
            " [  6  12  10 ... 131 131 131]]\n"
          ]
        }
      ]
    },
    {
      "cell_type": "code",
      "execution_count": null,
      "metadata": {
        "id": "y6vf7ktbAhWr"
      },
      "outputs": [],
      "source": [
        "def readImages(folder_name, num):\n",
        "    images = []\n",
        "    count = 0\n",
        "    for name in os.listdir(folder_name):\n",
        "      try:\n",
        "        img = cv2.imread(folder_name + name, cv2.IMREAD_GRAYSCALE).reshape(100, 100, 1)\n",
        "      except:\n",
        "        print(name)\n",
        "      images.append(img)\n",
        "      count += 1\n",
        "      if count == num:\n",
        "        break\n",
        "    matrix = np.stack(images, axis=0)\n",
        "    return matrix"
      ]
    },
    {
      "cell_type": "code",
      "source": [
        "images_0 = readImages('/content/100/0/', 5000)\n",
        "images_1 = readImages('/content/100/1/', 5000)\n",
        "images_2 = readImages('/content/100/2/', 5000)\n",
        "images_3 = readImages('/content/100/3/', 5000)"
      ],
      "metadata": {
        "id": "0AZh7U2gu_Ro",
        "colab": {
          "base_uri": "https://localhost:8080/"
        },
        "outputId": "dc4d3912-4aba-4f47-d011-8d4393bae0b6"
      },
      "execution_count": null,
      "outputs": [
        {
          "output_type": "stream",
          "name": "stdout",
          "text": [
            ".DS_Store\n"
          ]
        }
      ]
    },
    {
      "cell_type": "code",
      "source": [
        "print(images_0.shape)\n",
        "print(images_1.shape)\n",
        "print(images_2.shape)\n",
        "print(images_3.shape)"
      ],
      "metadata": {
        "colab": {
          "base_uri": "https://localhost:8080/"
        },
        "id": "_I9WWHngurEm",
        "outputId": "c5321c9f-cd08-4129-dc21-3695701486ae"
      },
      "execution_count": null,
      "outputs": [
        {
          "output_type": "stream",
          "name": "stdout",
          "text": [
            "(5000, 100, 100, 1)\n",
            "(5000, 100, 100, 1)\n",
            "(5000, 100, 100, 1)\n",
            "(5000, 100, 100, 1)\n"
          ]
        }
      ]
    },
    {
      "cell_type": "code",
      "source": [
        "labels_0 = np.zeros((5000,1), int)\n",
        "labels_1 = np.ones((5000,1), int)\n",
        "labels_2 = np.zeros((5000,1), int)\n",
        "labels_2.fill(2)\n",
        "labels_3 = np.zeros((5000,1), int)\n",
        "labels_3.fill(3)\n",
        "print(labels_0.shape)\n",
        "print(labels_1.shape)\n",
        "print(labels_2.shape)\n",
        "print(labels_3.shape)"
      ],
      "metadata": {
        "colab": {
          "base_uri": "https://localhost:8080/"
        },
        "id": "0_SnBNTewYKb",
        "outputId": "31352e0c-3c7e-4eeb-d94a-f716ca73fd5e"
      },
      "execution_count": null,
      "outputs": [
        {
          "output_type": "stream",
          "name": "stdout",
          "text": [
            "(5000, 1)\n",
            "(5000, 1)\n",
            "(5000, 1)\n",
            "(5000, 1)\n"
          ]
        }
      ]
    },
    {
      "cell_type": "code",
      "source": [
        "labels = np.concatenate((labels_0, labels_1, labels_2, labels_3), axis=0)\n",
        "y_train_labels = to_categorical(labels)"
      ],
      "metadata": {
        "id": "kAGUziglwsXY"
      },
      "execution_count": null,
      "outputs": []
    },
    {
      "cell_type": "code",
      "source": [
        "images = np.vstack((images_0, images_1, images_2, images_3))"
      ],
      "metadata": {
        "id": "BlyAK60xw0St"
      },
      "execution_count": null,
      "outputs": []
    },
    {
      "cell_type": "code",
      "source": [
        "train_images, test_images, train_labels, test_labels = train_test_split(images, labels, test_size=0.2, random_state=42)"
      ],
      "metadata": {
        "id": "F79QAcduneB1"
      },
      "execution_count": null,
      "outputs": []
    },
    {
      "cell_type": "code",
      "execution_count": null,
      "metadata": {
        "id": "05tJCbRDH2TK"
      },
      "outputs": [],
      "source": [
        "train_images = train_images.astype('float32') / 255\n",
        "test_images = test_images.astype('float32') / 255"
      ]
    },
    {
      "cell_type": "code",
      "source": [
        "y_train_labels = to_categorical(train_labels)\n",
        "y_test_labels = to_categorical(test_labels)"
      ],
      "metadata": {
        "id": "CEUzcMHSnM-C"
      },
      "execution_count": null,
      "outputs": []
    },
    {
      "cell_type": "code",
      "source": [
        "print(train_images.shape)\n",
        "print(y_train_labels.shape)\n",
        "print(test_images.shape)\n",
        "print(y_test_labels.shape)"
      ],
      "metadata": {
        "id": "pJmeOfp0nxcC",
        "colab": {
          "base_uri": "https://localhost:8080/"
        },
        "outputId": "dec29b2a-747a-4d4f-aabd-4305b2ea23c6"
      },
      "execution_count": null,
      "outputs": [
        {
          "output_type": "stream",
          "name": "stdout",
          "text": [
            "(16000, 100, 100, 1)\n",
            "(16000, 4)\n",
            "(4000, 100, 100, 1)\n",
            "(4000, 4)\n"
          ]
        }
      ]
    },
    {
      "cell_type": "markdown",
      "source": [
        "# Validation Set"
      ],
      "metadata": {
        "id": "3RTVAH3prKZK"
      }
    },
    {
      "cell_type": "code",
      "source": [
        "!unzip \"/content/drive/My Drive/SI699/Validation_100.zip\" -d \"/content\""
      ],
      "metadata": {
        "id": "QyQTaTgurJS4"
      },
      "execution_count": null,
      "outputs": []
    },
    {
      "cell_type": "code",
      "source": [
        "count = 500"
      ],
      "metadata": {
        "id": "KY42fOONumeW"
      },
      "execution_count": null,
      "outputs": []
    },
    {
      "cell_type": "code",
      "source": [
        "images_val_0 = readImages('/content/Validation_100/0/', count)\n",
        "images_val_1 = readImages('/content/Validation_100/1/', count)\n",
        "images_val_2 = readImages('/content/Validation_100/2/', count)\n",
        "images_val_3 = readImages('/content/Validation_100/3/', count)"
      ],
      "metadata": {
        "id": "0OWrHxrrrJwj"
      },
      "execution_count": null,
      "outputs": []
    },
    {
      "cell_type": "code",
      "source": [
        "validation_images = np.vstack((images_val_0, images_val_1, images_val_2, images_val_3))\n",
        "val_images = validation_images.astype('float32') / 255"
      ],
      "metadata": {
        "id": "34LqhKVwsE65"
      },
      "execution_count": null,
      "outputs": []
    },
    {
      "cell_type": "code",
      "source": [
        "labels_val_0 = np.zeros((count,1), int)\n",
        "labels_val_1 = np.ones((count,1), int)\n",
        "labels_val_2 = np.zeros((count,1), int)\n",
        "labels_val_2.fill(2)\n",
        "labels_val_3 = np.zeros((count,1), int)\n",
        "labels_val_3.fill(3)\n",
        "print(labels_val_0.shape)\n",
        "print(labels_val_1.shape)\n",
        "print(labels_val_2.shape)\n",
        "print(labels_val_3.shape)"
      ],
      "metadata": {
        "id": "VIYLPfyrrnwL",
        "colab": {
          "base_uri": "https://localhost:8080/"
        },
        "outputId": "c0f858f9-2008-4f57-aafb-6de188798fc2"
      },
      "execution_count": null,
      "outputs": [
        {
          "output_type": "stream",
          "name": "stdout",
          "text": [
            "(500, 1)\n",
            "(500, 1)\n",
            "(500, 1)\n",
            "(500, 1)\n"
          ]
        }
      ]
    },
    {
      "cell_type": "code",
      "source": [
        "print(val_images.shape)"
      ],
      "metadata": {
        "id": "iDfs7wgEhl2i",
        "colab": {
          "base_uri": "https://localhost:8080/"
        },
        "outputId": "2762ac58-5db0-4eef-e56c-94771aa74c96"
      },
      "execution_count": null,
      "outputs": [
        {
          "output_type": "stream",
          "name": "stdout",
          "text": [
            "(2000, 100, 100, 1)\n"
          ]
        }
      ]
    },
    {
      "cell_type": "code",
      "source": [
        "val_labels = np.concatenate((labels_val_0, labels_val_1, labels_val_2, labels_val_3), axis=0)"
      ],
      "metadata": {
        "id": "UGjuOAEBrynf"
      },
      "execution_count": null,
      "outputs": []
    },
    {
      "cell_type": "code",
      "execution_count": null,
      "metadata": {
        "id": "lGnes2UNI4d7"
      },
      "outputs": [],
      "source": [
        "y_val_labels = to_categorical(val_labels)\n"
      ]
    },
    {
      "cell_type": "code",
      "source": [
        "print(train_images.shape)\n",
        "print(y_train_labels.shape)\n",
        "print(val_images.shape)\n",
        "print(y_val_labels.shape)"
      ],
      "metadata": {
        "id": "ZWoRf1ems6UQ",
        "colab": {
          "base_uri": "https://localhost:8080/"
        },
        "outputId": "d8f57c2c-707e-4d86-97ff-75c4336b1204"
      },
      "execution_count": null,
      "outputs": [
        {
          "output_type": "stream",
          "name": "stdout",
          "text": [
            "(16000, 100, 100, 1)\n",
            "(16000, 4)\n",
            "(2000, 100, 100, 1)\n",
            "(2000, 4)\n"
          ]
        }
      ]
    },
    {
      "cell_type": "markdown",
      "source": [
        "# AlexNet"
      ],
      "metadata": {
        "id": "IOB8CFiHAFAa"
      }
    },
    {
      "cell_type": "code",
      "source": [
        "# The architecture of AlexNet is referenced from: Krizhevsky, A., Sutskever, I., & Hinton, G. E. (2012). ImageNet classification with deep convolutional neural networks. Communications of the ACM, 60(6), 84–90. https://doi.org/10.1145/3065386\n",
        "\n",
        "alex = models.Sequential()\n",
        "alex.add(layers.Conv2D(filters=96, kernel_size=(11,11), strides=(4,4), activation='relu', input_shape=(100,100,1)))\n",
        "alex.add(layers.MaxPool2D(pool_size=(3,3), strides=(2,2)))\n",
        "alex.add(layers.BatchNormalization())\n",
        "\n",
        "alex.add(layers.Conv2D(filters=256, kernel_size=(5,5), activation='relu', padding=\"same\"))\n",
        "alex.add(layers.MaxPool2D(pool_size=(3,3), strides=(2,2)))\n",
        "alex.add(layers.BatchNormalization())\n",
        "\n",
        "\n",
        "alex.add(layers.Conv2D(filters=384, kernel_size=(3,3), strides=(1,1), activation='relu', padding=\"same\"))\n",
        "alex.add(layers.BatchNormalization())\n",
        "\n",
        "\n",
        "alex.add(layers.Conv2D(filters=384, kernel_size=(3,3), strides=(1,1), activation='relu', padding=\"same\"))\n",
        "alex.add(layers.BatchNormalization())\n",
        "\n",
        "alex.add(layers.Conv2D(filters=256, kernel_size=(3,3), strides=(1,1), activation='relu', padding=\"same\"))\n",
        "alex.add(layers.MaxPool2D(pool_size=(3,3), strides=(2,2)))\n",
        "alex.add(layers.BatchNormalization())      \n",
        "\n",
        "\n",
        "alex.add(layers.Flatten())\n",
        "alex.add(layers.Dense(4096, activation='relu'))\n",
        "alex.add(layers.Dropout(0.5))\n",
        "alex.add(layers.Dense(4096, activation='relu'))\n",
        "alex.add(layers.Dropout(0.5))\n",
        "alex.add(layers.Dense(4, activation='softmax'))\n",
        "alex.summary()"
      ],
      "metadata": {
        "id": "S-mtmNO2ADyT",
        "colab": {
          "base_uri": "https://localhost:8080/"
        },
        "outputId": "74381504-7b06-4d1f-9b10-cf401d409a10"
      },
      "execution_count": null,
      "outputs": [
        {
          "output_type": "stream",
          "name": "stdout",
          "text": [
            "Model: \"sequential\"\n",
            "_________________________________________________________________\n",
            "Layer (type)                 Output Shape              Param #   \n",
            "=================================================================\n",
            "conv2d (Conv2D)              (None, 23, 23, 96)        11712     \n",
            "_________________________________________________________________\n",
            "max_pooling2d (MaxPooling2D) (None, 11, 11, 96)        0         \n",
            "_________________________________________________________________\n",
            "batch_normalization (BatchNo (None, 11, 11, 96)        384       \n",
            "_________________________________________________________________\n",
            "conv2d_1 (Conv2D)            (None, 11, 11, 256)       614656    \n",
            "_________________________________________________________________\n",
            "max_pooling2d_1 (MaxPooling2 (None, 5, 5, 256)         0         \n",
            "_________________________________________________________________\n",
            "batch_normalization_1 (Batch (None, 5, 5, 256)         1024      \n",
            "_________________________________________________________________\n",
            "conv2d_2 (Conv2D)            (None, 5, 5, 384)         885120    \n",
            "_________________________________________________________________\n",
            "batch_normalization_2 (Batch (None, 5, 5, 384)         1536      \n",
            "_________________________________________________________________\n",
            "conv2d_3 (Conv2D)            (None, 5, 5, 384)         1327488   \n",
            "_________________________________________________________________\n",
            "batch_normalization_3 (Batch (None, 5, 5, 384)         1536      \n",
            "_________________________________________________________________\n",
            "conv2d_4 (Conv2D)            (None, 5, 5, 256)         884992    \n",
            "_________________________________________________________________\n",
            "max_pooling2d_2 (MaxPooling2 (None, 2, 2, 256)         0         \n",
            "_________________________________________________________________\n",
            "batch_normalization_4 (Batch (None, 2, 2, 256)         1024      \n",
            "_________________________________________________________________\n",
            "flatten (Flatten)            (None, 1024)              0         \n",
            "_________________________________________________________________\n",
            "dense (Dense)                (None, 4096)              4198400   \n",
            "_________________________________________________________________\n",
            "dropout (Dropout)            (None, 4096)              0         \n",
            "_________________________________________________________________\n",
            "dense_1 (Dense)              (None, 4096)              16781312  \n",
            "_________________________________________________________________\n",
            "dropout_1 (Dropout)          (None, 4096)              0         \n",
            "_________________________________________________________________\n",
            "dense_2 (Dense)              (None, 4)                 16388     \n",
            "=================================================================\n",
            "Total params: 24,725,572\n",
            "Trainable params: 24,722,820\n",
            "Non-trainable params: 2,752\n",
            "_________________________________________________________________\n"
          ]
        }
      ]
    },
    {
      "cell_type": "code",
      "source": [
        "# Use SGD as the optimizer\n",
        "optimizer = tf.keras.optimizers.SGD(lr = 0.01, momentum = 0.9)\n",
        "\n",
        "# Training\n",
        "alex.compile(loss='categorical_crossentropy', optimizer=optimizer, metrics=['accuracy'])\n",
        "history = alex.fit(train_images, y_train_labels, batch_size=128, epochs=50, validation_data=(val_images, y_val_labels),\n",
        "       verbose=2)\n"
      ],
      "metadata": {
        "colab": {
          "base_uri": "https://localhost:8080/"
        },
        "id": "ccLRSV4NAYHy",
        "outputId": "614b7e22-a861-405c-e01c-64b9134704b7"
      },
      "execution_count": null,
      "outputs": [
        {
          "output_type": "stream",
          "name": "stderr",
          "text": [
            "/usr/local/lib/python3.9/dist-packages/keras/optimizer_v2/optimizer_v2.py:355: UserWarning: The `lr` argument is deprecated, use `learning_rate` instead.\n",
            "  warnings.warn(\n"
          ]
        },
        {
          "output_type": "stream",
          "name": "stdout",
          "text": [
            "Epoch 1/50\n",
            "125/125 - 14s - loss: 1.5955 - accuracy: 0.2767 - val_loss: 1.5519 - val_accuracy: 0.2560\n",
            "Epoch 2/50\n",
            "125/125 - 4s - loss: 1.4141 - accuracy: 0.3106 - val_loss: 1.3366 - val_accuracy: 0.3550\n",
            "Epoch 3/50\n",
            "125/125 - 4s - loss: 1.2748 - accuracy: 0.3974 - val_loss: 1.2860 - val_accuracy: 0.3955\n",
            "Epoch 4/50\n",
            "125/125 - 4s - loss: 1.1844 - accuracy: 0.4501 - val_loss: 1.2973 - val_accuracy: 0.3520\n",
            "Epoch 5/50\n",
            "125/125 - 4s - loss: 1.1210 - accuracy: 0.4913 - val_loss: 1.1827 - val_accuracy: 0.4530\n",
            "Epoch 6/50\n",
            "125/125 - 4s - loss: 1.0755 - accuracy: 0.5196 - val_loss: 1.2347 - val_accuracy: 0.4240\n",
            "Epoch 7/50\n",
            "125/125 - 4s - loss: 1.0226 - accuracy: 0.5433 - val_loss: 1.6880 - val_accuracy: 0.3440\n",
            "Epoch 8/50\n",
            "125/125 - 4s - loss: 0.9952 - accuracy: 0.5624 - val_loss: 1.7601 - val_accuracy: 0.3475\n",
            "Epoch 9/50\n",
            "125/125 - 4s - loss: 0.9344 - accuracy: 0.5966 - val_loss: 1.0439 - val_accuracy: 0.5240\n",
            "Epoch 10/50\n",
            "125/125 - 4s - loss: 0.8862 - accuracy: 0.6216 - val_loss: 1.0314 - val_accuracy: 0.5300\n",
            "Epoch 11/50\n",
            "125/125 - 4s - loss: 0.8438 - accuracy: 0.6446 - val_loss: 1.0218 - val_accuracy: 0.5480\n",
            "Epoch 12/50\n",
            "125/125 - 4s - loss: 0.8010 - accuracy: 0.6628 - val_loss: 0.9764 - val_accuracy: 0.5750\n",
            "Epoch 13/50\n",
            "125/125 - 4s - loss: 0.7574 - accuracy: 0.6779 - val_loss: 1.0008 - val_accuracy: 0.5630\n",
            "Epoch 14/50\n",
            "125/125 - 4s - loss: 0.7212 - accuracy: 0.6955 - val_loss: 0.9919 - val_accuracy: 0.5925\n",
            "Epoch 15/50\n",
            "125/125 - 4s - loss: 0.6799 - accuracy: 0.7164 - val_loss: 1.0988 - val_accuracy: 0.5670\n",
            "Epoch 16/50\n",
            "125/125 - 4s - loss: 0.6155 - accuracy: 0.7413 - val_loss: 1.0551 - val_accuracy: 0.5785\n",
            "Epoch 17/50\n",
            "125/125 - 4s - loss: 0.5762 - accuracy: 0.7617 - val_loss: 1.1359 - val_accuracy: 0.5880\n",
            "Epoch 18/50\n",
            "125/125 - 4s - loss: 0.5252 - accuracy: 0.7851 - val_loss: 1.1907 - val_accuracy: 0.5815\n",
            "Epoch 19/50\n",
            "125/125 - 4s - loss: 0.4769 - accuracy: 0.8058 - val_loss: 1.1759 - val_accuracy: 0.5840\n",
            "Epoch 20/50\n",
            "125/125 - 4s - loss: 0.4403 - accuracy: 0.8229 - val_loss: 1.2419 - val_accuracy: 0.5810\n",
            "Epoch 21/50\n",
            "125/125 - 4s - loss: 0.3837 - accuracy: 0.8474 - val_loss: 1.2318 - val_accuracy: 0.6035\n",
            "Epoch 22/50\n",
            "125/125 - 4s - loss: 0.3409 - accuracy: 0.8654 - val_loss: 1.4485 - val_accuracy: 0.5890\n",
            "Epoch 23/50\n",
            "125/125 - 4s - loss: 0.3024 - accuracy: 0.8804 - val_loss: 1.4037 - val_accuracy: 0.5915\n",
            "Epoch 24/50\n",
            "125/125 - 4s - loss: 0.2649 - accuracy: 0.8990 - val_loss: 1.6866 - val_accuracy: 0.5765\n",
            "Epoch 25/50\n",
            "125/125 - 4s - loss: 0.2290 - accuracy: 0.9123 - val_loss: 1.7894 - val_accuracy: 0.5825\n",
            "Epoch 26/50\n",
            "125/125 - 4s - loss: 0.2181 - accuracy: 0.9188 - val_loss: 1.3919 - val_accuracy: 0.6060\n",
            "Epoch 27/50\n",
            "125/125 - 4s - loss: 0.1715 - accuracy: 0.9342 - val_loss: 2.0062 - val_accuracy: 0.5570\n",
            "Epoch 28/50\n",
            "125/125 - 4s - loss: 0.1687 - accuracy: 0.9377 - val_loss: 1.5996 - val_accuracy: 0.5900\n",
            "Epoch 29/50\n",
            "125/125 - 4s - loss: 0.1332 - accuracy: 0.9514 - val_loss: 1.8302 - val_accuracy: 0.5860\n",
            "Epoch 30/50\n",
            "125/125 - 4s - loss: 0.1313 - accuracy: 0.9522 - val_loss: 1.9194 - val_accuracy: 0.6110\n",
            "Epoch 31/50\n",
            "125/125 - 5s - loss: 0.1085 - accuracy: 0.9602 - val_loss: 2.4096 - val_accuracy: 0.5860\n",
            "Epoch 32/50\n",
            "125/125 - 5s - loss: 0.1135 - accuracy: 0.9592 - val_loss: 1.9458 - val_accuracy: 0.6110\n",
            "Epoch 33/50\n",
            "125/125 - 5s - loss: 0.0799 - accuracy: 0.9714 - val_loss: 1.9376 - val_accuracy: 0.6110\n",
            "Epoch 34/50\n",
            "125/125 - 5s - loss: 0.0705 - accuracy: 0.9756 - val_loss: 2.4781 - val_accuracy: 0.5710\n",
            "Epoch 35/50\n",
            "125/125 - 4s - loss: 0.0782 - accuracy: 0.9722 - val_loss: 2.4213 - val_accuracy: 0.5630\n",
            "Epoch 36/50\n",
            "125/125 - 4s - loss: 0.0862 - accuracy: 0.9681 - val_loss: 2.1863 - val_accuracy: 0.6090\n",
            "Epoch 37/50\n",
            "125/125 - 4s - loss: 0.0515 - accuracy: 0.9812 - val_loss: 2.3828 - val_accuracy: 0.5870\n",
            "Epoch 38/50\n",
            "125/125 - 4s - loss: 0.0564 - accuracy: 0.9794 - val_loss: 2.3052 - val_accuracy: 0.6045\n",
            "Epoch 39/50\n",
            "125/125 - 4s - loss: 0.0525 - accuracy: 0.9821 - val_loss: 2.2399 - val_accuracy: 0.6020\n",
            "Epoch 40/50\n",
            "125/125 - 4s - loss: 0.0569 - accuracy: 0.9797 - val_loss: 2.6781 - val_accuracy: 0.5815\n",
            "Epoch 41/50\n",
            "125/125 - 4s - loss: 0.0535 - accuracy: 0.9815 - val_loss: 2.4110 - val_accuracy: 0.6155\n",
            "Epoch 42/50\n",
            "125/125 - 4s - loss: 0.0401 - accuracy: 0.9853 - val_loss: 2.3518 - val_accuracy: 0.6170\n",
            "Epoch 43/50\n",
            "125/125 - 4s - loss: 0.0323 - accuracy: 0.9895 - val_loss: 2.4693 - val_accuracy: 0.6045\n",
            "Epoch 44/50\n",
            "125/125 - 4s - loss: 0.0382 - accuracy: 0.9877 - val_loss: 2.4758 - val_accuracy: 0.6100\n",
            "Epoch 45/50\n",
            "125/125 - 4s - loss: 0.0228 - accuracy: 0.9924 - val_loss: 2.5713 - val_accuracy: 0.6080\n",
            "Epoch 46/50\n",
            "125/125 - 4s - loss: 0.0244 - accuracy: 0.9913 - val_loss: 2.7555 - val_accuracy: 0.6040\n",
            "Epoch 47/50\n",
            "125/125 - 4s - loss: 0.0430 - accuracy: 0.9854 - val_loss: 2.5458 - val_accuracy: 0.6055\n",
            "Epoch 48/50\n",
            "125/125 - 4s - loss: 0.0293 - accuracy: 0.9886 - val_loss: 2.6936 - val_accuracy: 0.6065\n",
            "Epoch 49/50\n",
            "125/125 - 4s - loss: 0.0345 - accuracy: 0.9881 - val_loss: 2.5631 - val_accuracy: 0.6040\n",
            "Epoch 50/50\n",
            "125/125 - 4s - loss: 0.0277 - accuracy: 0.9900 - val_loss: 2.4985 - val_accuracy: 0.6250\n"
          ]
        }
      ]
    },
    {
      "cell_type": "code",
      "source": [
        "test_loss, test_acc = alex.evaluate(test_images, y_test_labels)"
      ],
      "metadata": {
        "colab": {
          "base_uri": "https://localhost:8080/"
        },
        "id": "SKBMLjRkAWH7",
        "outputId": "a02a4364-6385-43d3-f990-0d268cf27ba4"
      },
      "execution_count": null,
      "outputs": [
        {
          "output_type": "stream",
          "name": "stdout",
          "text": [
            "125/125 [==============================] - 1s 5ms/step - loss: 2.4706 - accuracy: 0.6140\n"
          ]
        }
      ]
    },
    {
      "cell_type": "code",
      "source": [
        "predictions = alex.predict(test_images)"
      ],
      "metadata": {
        "id": "2uHf_DNVKL1K"
      },
      "execution_count": null,
      "outputs": []
    },
    {
      "cell_type": "code",
      "source": [
        "def plotConfusionMatrix(predictions):\n",
        "  y_pred=np.argmax(predictions, axis=1)\n",
        "  y_test=np.argmax(y_test_labels, axis=1)\n",
        "\n",
        "  confusion_matrix = metrics.confusion_matrix(y_pred, y_test, normalize='true')\n",
        "\n",
        "  disp = metrics.ConfusionMatrixDisplay(confusion_matrix=confusion_matrix, display_labels=[\"Neutral\", \"Happy\", \"Sad\", \"Surprise\"])\n",
        "  disp.plot()\n",
        "\n",
        "  plt.savefig(\"AlexNet.svg\")\n",
        "  plt.show()"
      ],
      "metadata": {
        "id": "ScwMr_BHKRpS"
      },
      "execution_count": null,
      "outputs": []
    },
    {
      "cell_type": "code",
      "source": [
        "plotConfusionMatrix(predictions)"
      ],
      "metadata": {
        "colab": {
          "base_uri": "https://localhost:8080/",
          "height": 449
        },
        "id": "MbuYNYgxKXOE",
        "outputId": "32121414-8ab9-47d8-fbf6-22d92525718b"
      },
      "execution_count": null,
      "outputs": [
        {
          "output_type": "display_data",
          "data": {
            "text/plain": [
              "<Figure size 640x480 with 2 Axes>"
            ],
            "image/png": "[encoded data removed]"
          },
          "metadata": {}
        }
      ]
    },
    {
      "cell_type": "code",
      "source": [
        "def plotAccuracyandLoss(history, name):\n",
        "  print(history.history.keys())\n",
        "  plt.plot(history.history['accuracy'])\n",
        "  plt.plot(history.history['val_accuracy'])\n",
        "  plt.title(f'{name} Accuracy')\n",
        "  plt.ylabel('Accuracy')\n",
        "  plt.xlabel('Epochs')\n",
        "  plt.legend(['training', 'validation'], loc='upper left')\n",
        "  plt.savefig(f\"{name}_acc.svg\")\n",
        "  plt.show()"
      ],
      "metadata": {
        "id": "S1GIF1XeZYHG"
      },
      "execution_count": null,
      "outputs": []
    },
    {
      "cell_type": "code",
      "source": [
        "plotAccuracyandLoss(history, \"AlexNet\")"
      ],
      "metadata": {
        "colab": {
          "base_uri": "https://localhost:8080/",
          "height": 490
        },
        "id": "ne4ZtLDuZaPE",
        "outputId": "be9ee8e2-786e-45d5-ab98-c9a1ea6624db"
      },
      "execution_count": null,
      "outputs": [
        {
          "output_type": "stream",
          "name": "stdout",
          "text": [
            "dict_keys(['loss', 'accuracy', 'val_loss', 'val_accuracy'])\n"
          ]
        },
        {
          "output_type": "display_data",
          "data": {
            "text/plain": [
              "<Figure size 640x480 with 1 Axes>"
            ],
            "image/png": "[encoded data removed]"
          },
          "metadata": {}
        }
      ]
    }
  ],
  "metadata": {
    "accelerator": "GPU",
    "colab": {
      "machine_shape": "hm",
      "provenance": []
    },
    "gpuClass": "standard",
    "kernelspec": {
      "display_name": "Python 3",
      "name": "python3"
    },
    "language_info": {
      "name": "python"
    }
  },
  "nbformat": 4,
  "nbformat_minor": 0
}