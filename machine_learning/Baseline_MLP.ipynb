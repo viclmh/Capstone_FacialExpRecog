{
  "cells": [
    {
      "cell_type": "code",
      "execution_count": 1,
      "metadata": {
        "colab": {
          "base_uri": "https://localhost:8080/"
        },
        "id": "vilbbSu17GHo",
        "outputId": "512ad463-d28a-44c8-c30a-9ad06ce24301"
      },
      "outputs": [
        {
          "output_type": "stream",
          "name": "stdout",
          "text": [
            "Mounted at /content/drive\n"
          ]
        }
      ],
      "source": [
        "from google.colab import drive\n",
        "drive.mount('/content/drive', force_remount=True)"
      ]
    },
    {
      "cell_type": "code",
      "source": [
        "!unzip \"/content/drive/My Drive/SI699/100.zip\" -d \"/content\""
      ],
      "metadata": {
        "id": "OKPySF9Esm9Q"
      },
      "execution_count": null,
      "outputs": []
    },
    {
      "cell_type": "code",
      "execution_count": 3,
      "metadata": {
        "id": "UC35lPG85T1Z",
        "colab": {
          "base_uri": "https://localhost:8080/"
        },
        "outputId": "94a6b106-ae9b-4dc2-b88c-6ad7774d93e3"
      },
      "outputs": [
        {
          "output_type": "stream",
          "name": "stdout",
          "text": [
            "Looking in indexes: https://pypi.org/simple, https://us-python.pkg.dev/colab-wheels/public/simple/\n",
            "Collecting keras==2.6.0\n",
            "  Downloading keras-2.6.0-py2.py3-none-any.whl (1.3 MB)\n",
            "\u001b[2K     \u001b[90m━━━━━━━━━━━━━━━━━━━━━━━━━━━━━━━━━━━━━━━━\u001b[0m \u001b[32m1.3/1.3 MB\u001b[0m \u001b[31m49.9 MB/s\u001b[0m eta \u001b[36m0:00:00\u001b[0m\n",
            "\u001b[?25hInstalling collected packages: keras\n",
            "  Attempting uninstall: keras\n",
            "    Found existing installation: keras 2.12.0\n",
            "    Uninstalling keras-2.12.0:\n",
            "      Successfully uninstalled keras-2.12.0\n",
            "\u001b[31mERROR: pip's dependency resolver does not currently take into account all the packages that are installed. This behaviour is the source of the following dependency conflicts.\n",
            "tensorflow 2.12.0 requires keras<2.13,>=2.12.0, but you have keras 2.6.0 which is incompatible.\u001b[0m\u001b[31m\n",
            "\u001b[0mSuccessfully installed keras-2.6.0\n",
            "Looking in indexes: https://pypi.org/simple, https://us-python.pkg.dev/colab-wheels/public/simple/\n",
            "Collecting tensorflow==2.6.0\n",
            "  Downloading tensorflow-2.6.0-cp39-cp39-manylinux2010_x86_64.whl (458.4 MB)\n",
            "\u001b[2K     \u001b[90m━━━━━━━━━━━━━━━━━━━━━━━━━━━━━━━━━━━━━━━\u001b[0m \u001b[32m458.4/458.4 MB\u001b[0m \u001b[31m3.3 MB/s\u001b[0m eta \u001b[36m0:00:00\u001b[0m\n",
            "\u001b[?25hRequirement already satisfied: grpcio<2.0,>=1.37.0 in /usr/local/lib/python3.9/dist-packages (from tensorflow==2.6.0) (1.53.0)\n",
            "Requirement already satisfied: keras~=2.6 in /usr/local/lib/python3.9/dist-packages (from tensorflow==2.6.0) (2.6.0)\n",
            "Requirement already satisfied: wheel~=0.35 in /usr/local/lib/python3.9/dist-packages (from tensorflow==2.6.0) (0.40.0)\n",
            "Requirement already satisfied: protobuf>=3.9.2 in /usr/local/lib/python3.9/dist-packages (from tensorflow==2.6.0) (3.20.3)\n",
            "Collecting numpy~=1.19.2\n",
            "  Downloading numpy-1.19.5-cp39-cp39-manylinux2010_x86_64.whl (14.9 MB)\n",
            "\u001b[2K     \u001b[90m━━━━━━━━━━━━━━━━━━━━━━━━━━━━━━━━━━━━━━━━\u001b[0m \u001b[32m14.9/14.9 MB\u001b[0m \u001b[31m94.8 MB/s\u001b[0m eta \u001b[36m0:00:00\u001b[0m\n",
            "\u001b[?25hRequirement already satisfied: tensorboard~=2.6 in /usr/local/lib/python3.9/dist-packages (from tensorflow==2.6.0) (2.12.1)\n",
            "Collecting typing-extensions~=3.7.4\n",
            "  Downloading typing_extensions-3.7.4.3-py3-none-any.whl (22 kB)\n",
            "Requirement already satisfied: google-pasta~=0.2 in /usr/local/lib/python3.9/dist-packages (from tensorflow==2.6.0) (0.2.0)\n",
            "Requirement already satisfied: opt-einsum~=3.3.0 in /usr/local/lib/python3.9/dist-packages (from tensorflow==2.6.0) (3.3.0)\n",
            "Requirement already satisfied: astunparse~=1.6.3 in /usr/local/lib/python3.9/dist-packages (from tensorflow==2.6.0) (1.6.3)\n",
            "Collecting wrapt~=1.12.1\n",
            "  Downloading wrapt-1.12.1.tar.gz (27 kB)\n",
            "  Preparing metadata (setup.py) ... \u001b[?25l\u001b[?25hdone\n",
            "Requirement already satisfied: gast==0.4.0 in /usr/local/lib/python3.9/dist-packages (from tensorflow==2.6.0) (0.4.0)\n",
            "Collecting h5py~=3.1.0\n",
            "  Downloading h5py-3.1.0-cp39-cp39-manylinux1_x86_64.whl (4.4 MB)\n",
            "\u001b[2K     \u001b[90m━━━━━━━━━━━━━━━━━━━━━━━━━━━━━━━━━━━━━━━━\u001b[0m \u001b[32m4.4/4.4 MB\u001b[0m \u001b[31m105.5 MB/s\u001b[0m eta \u001b[36m0:00:00\u001b[0m\n",
            "\u001b[?25hRequirement already satisfied: tensorflow-estimator~=2.6 in /usr/local/lib/python3.9/dist-packages (from tensorflow==2.6.0) (2.12.0)\n",
            "Collecting keras-preprocessing~=1.1.2\n",
            "  Downloading Keras_Preprocessing-1.1.2-py2.py3-none-any.whl (42 kB)\n",
            "\u001b[2K     \u001b[90m━━━━━━━━━━━━━━━━━━━━━━━━━━━━━━━━━━━━━━━━\u001b[0m \u001b[32m42.6/42.6 kB\u001b[0m \u001b[31m4.4 MB/s\u001b[0m eta \u001b[36m0:00:00\u001b[0m\n",
            "\u001b[?25hCollecting six~=1.15.0\n",
            "  Downloading six-1.15.0-py2.py3-none-any.whl (10 kB)\n",
            "Collecting flatbuffers~=1.12.0\n",
            "  Downloading flatbuffers-1.12-py2.py3-none-any.whl (15 kB)\n",
            "Collecting clang~=5.0\n",
            "  Downloading clang-5.0.tar.gz (30 kB)\n",
            "  Preparing metadata (setup.py) ... \u001b[?25l\u001b[?25hdone\n",
            "Collecting absl-py~=0.10\n",
            "  Downloading absl_py-0.15.0-py3-none-any.whl (132 kB)\n",
            "\u001b[2K     \u001b[90m━━━━━━━━━━━━━━━━━━━━━━━━━━━━━━━━━━━━━━\u001b[0m \u001b[32m132.0/132.0 kB\u001b[0m \u001b[31m17.9 MB/s\u001b[0m eta \u001b[36m0:00:00\u001b[0m\n",
            "\u001b[?25hCollecting termcolor~=1.1.0\n",
            "  Downloading termcolor-1.1.0.tar.gz (3.9 kB)\n",
            "  Preparing metadata (setup.py) ... \u001b[?25l\u001b[?25hdone\n",
            "Requirement already satisfied: markdown>=2.6.8 in /usr/local/lib/python3.9/dist-packages (from tensorboard~=2.6->tensorflow==2.6.0) (3.4.3)\n",
            "Requirement already satisfied: requests<3,>=2.21.0 in /usr/local/lib/python3.9/dist-packages (from tensorboard~=2.6->tensorflow==2.6.0) (2.27.1)\n",
            "Requirement already satisfied: google-auth-oauthlib<1.1,>=0.5 in /usr/local/lib/python3.9/dist-packages (from tensorboard~=2.6->tensorflow==2.6.0) (1.0.0)\n",
            "Requirement already satisfied: setuptools>=41.0.0 in /usr/local/lib/python3.9/dist-packages (from tensorboard~=2.6->tensorflow==2.6.0) (67.6.1)\n",
            "Requirement already satisfied: tensorboard-plugin-wit>=1.6.0 in /usr/local/lib/python3.9/dist-packages (from tensorboard~=2.6->tensorflow==2.6.0) (1.8.1)\n",
            "Requirement already satisfied: tensorboard-data-server<0.8.0,>=0.7.0 in /usr/local/lib/python3.9/dist-packages (from tensorboard~=2.6->tensorflow==2.6.0) (0.7.0)\n",
            "Requirement already satisfied: google-auth<3,>=1.6.3 in /usr/local/lib/python3.9/dist-packages (from tensorboard~=2.6->tensorflow==2.6.0) (2.17.2)\n",
            "Requirement already satisfied: werkzeug>=1.0.1 in /usr/local/lib/python3.9/dist-packages (from tensorboard~=2.6->tensorflow==2.6.0) (2.2.3)\n",
            "Requirement already satisfied: rsa<5,>=3.1.4 in /usr/local/lib/python3.9/dist-packages (from google-auth<3,>=1.6.3->tensorboard~=2.6->tensorflow==2.6.0) (4.9)\n",
            "Requirement already satisfied: pyasn1-modules>=0.2.1 in /usr/local/lib/python3.9/dist-packages (from google-auth<3,>=1.6.3->tensorboard~=2.6->tensorflow==2.6.0) (0.2.8)\n",
            "Requirement already satisfied: cachetools<6.0,>=2.0.0 in /usr/local/lib/python3.9/dist-packages (from google-auth<3,>=1.6.3->tensorboard~=2.6->tensorflow==2.6.0) (5.3.0)\n",
            "Requirement already satisfied: requests-oauthlib>=0.7.0 in /usr/local/lib/python3.9/dist-packages (from google-auth-oauthlib<1.1,>=0.5->tensorboard~=2.6->tensorflow==2.6.0) (1.3.1)\n",
            "Requirement already satisfied: importlib-metadata>=4.4 in /usr/local/lib/python3.9/dist-packages (from markdown>=2.6.8->tensorboard~=2.6->tensorflow==2.6.0) (6.3.0)\n",
            "Requirement already satisfied: charset-normalizer~=2.0.0 in /usr/local/lib/python3.9/dist-packages (from requests<3,>=2.21.0->tensorboard~=2.6->tensorflow==2.6.0) (2.0.12)\n",
            "Requirement already satisfied: urllib3<1.27,>=1.21.1 in /usr/local/lib/python3.9/dist-packages (from requests<3,>=2.21.0->tensorboard~=2.6->tensorflow==2.6.0) (1.26.15)\n",
            "Requirement already satisfied: idna<4,>=2.5 in /usr/local/lib/python3.9/dist-packages (from requests<3,>=2.21.0->tensorboard~=2.6->tensorflow==2.6.0) (3.4)\n",
            "Requirement already satisfied: certifi>=2017.4.17 in /usr/local/lib/python3.9/dist-packages (from requests<3,>=2.21.0->tensorboard~=2.6->tensorflow==2.6.0) (2022.12.7)\n",
            "Requirement already satisfied: MarkupSafe>=2.1.1 in /usr/local/lib/python3.9/dist-packages (from werkzeug>=1.0.1->tensorboard~=2.6->tensorflow==2.6.0) (2.1.2)\n",
            "Requirement already satisfied: zipp>=0.5 in /usr/local/lib/python3.9/dist-packages (from importlib-metadata>=4.4->markdown>=2.6.8->tensorboard~=2.6->tensorflow==2.6.0) (3.15.0)\n",
            "Requirement already satisfied: pyasn1<0.5.0,>=0.4.6 in /usr/local/lib/python3.9/dist-packages (from pyasn1-modules>=0.2.1->google-auth<3,>=1.6.3->tensorboard~=2.6->tensorflow==2.6.0) (0.4.8)\n",
            "Requirement already satisfied: oauthlib>=3.0.0 in /usr/local/lib/python3.9/dist-packages (from requests-oauthlib>=0.7.0->google-auth-oauthlib<1.1,>=0.5->tensorboard~=2.6->tensorflow==2.6.0) (3.2.2)\n",
            "Building wheels for collected packages: clang, termcolor, wrapt\n",
            "  Building wheel for clang (setup.py) ... \u001b[?25l\u001b[?25hdone\n",
            "  Created wheel for clang: filename=clang-5.0-py3-none-any.whl size=30692 sha256=e17dfcff5b9f75338d1d97ba9b7009ad93d12a852fda9beb9dcb58b6ca9cdaf2\n",
            "  Stored in directory: /root/.cache/pip/wheels/3a/ce/7a/27094f689461801c934296d07078773603663dfcaca63bb064\n",
            "  Building wheel for termcolor (setup.py) ... \u001b[?25l\u001b[?25hdone\n",
            "  Created wheel for termcolor: filename=termcolor-1.1.0-py3-none-any.whl size=4845 sha256=755bc3f855f9ea823a50c724ea54a77f4a82ef7cdd714f043059cbd807ae4d4c\n",
            "  Stored in directory: /root/.cache/pip/wheels/b6/0d/90/0d1bbd99855f99cb2f6c2e5ff96f8023fad8ec367695f7d72d\n",
            "  Building wheel for wrapt (setup.py) ... \u001b[?25l\u001b[?25hdone\n",
            "  Created wheel for wrapt: filename=wrapt-1.12.1-cp39-cp39-linux_x86_64.whl size=75944 sha256=dee2a83b49d6799ebc7336aa31fb645e37944dae2e40f8288a9944a096c8877c\n",
            "  Stored in directory: /root/.cache/pip/wheels/98/23/68/efe259aaca055e93b08e74fbe512819c69a2155c11ba3c0f10\n",
            "Successfully built clang termcolor wrapt\n",
            "Installing collected packages: wrapt, typing-extensions, termcolor, flatbuffers, clang, six, numpy, keras-preprocessing, h5py, absl-py, tensorflow\n",
            "  Attempting uninstall: wrapt\n",
            "    Found existing installation: wrapt 1.14.1\n",
            "    Uninstalling wrapt-1.14.1:\n",
            "      Successfully uninstalled wrapt-1.14.1\n",
            "  Attempting uninstall: typing-extensions\n",
            "    Found existing installation: typing_extensions 4.5.0\n",
            "    Uninstalling typing_extensions-4.5.0:\n",
            "      Successfully uninstalled typing_extensions-4.5.0\n",
            "  Attempting uninstall: termcolor\n",
            "    Found existing installation: termcolor 2.2.0\n",
            "    Uninstalling termcolor-2.2.0:\n",
            "      Successfully uninstalled termcolor-2.2.0\n",
            "  Attempting uninstall: flatbuffers\n",
            "    Found existing installation: flatbuffers 23.3.3\n",
            "    Uninstalling flatbuffers-23.3.3:\n",
            "      Successfully uninstalled flatbuffers-23.3.3\n",
            "  Attempting uninstall: six\n",
            "    Found existing installation: six 1.16.0\n",
            "    Uninstalling six-1.16.0:\n",
            "      Successfully uninstalled six-1.16.0\n",
            "  Attempting uninstall: numpy\n",
            "    Found existing installation: numpy 1.22.4\n",
            "    Uninstalling numpy-1.22.4:\n",
            "      Successfully uninstalled numpy-1.22.4\n",
            "  Attempting uninstall: h5py\n",
            "    Found existing installation: h5py 3.8.0\n",
            "    Uninstalling h5py-3.8.0:\n",
            "      Successfully uninstalled h5py-3.8.0\n",
            "  Attempting uninstall: absl-py\n",
            "    Found existing installation: absl-py 1.4.0\n",
            "    Uninstalling absl-py-1.4.0:\n",
            "      Successfully uninstalled absl-py-1.4.0\n",
            "  Attempting uninstall: tensorflow\n",
            "    Found existing installation: tensorflow 2.12.0\n",
            "    Uninstalling tensorflow-2.12.0:\n",
            "      Successfully uninstalled tensorflow-2.12.0\n",
            "\u001b[31mERROR: pip's dependency resolver does not currently take into account all the packages that are installed. This behaviour is the source of the following dependency conflicts.\n",
            "xarray 2022.12.0 requires numpy>=1.20, but you have numpy 1.19.5 which is incompatible.\n",
            "xarray-einstats 0.5.1 requires numpy>=1.20, but you have numpy 1.19.5 which is incompatible.\n",
            "sqlalchemy 2.0.9 requires typing-extensions>=4.2.0, but you have typing-extensions 3.7.4.3 which is incompatible.\n",
            "pydantic 1.10.7 requires typing-extensions>=4.2.0, but you have typing-extensions 3.7.4.3 which is incompatible.\n",
            "pandas 1.5.3 requires numpy>=1.20.3; python_version < \"3.10\", but you have numpy 1.19.5 which is incompatible.\n",
            "optax 0.1.4 requires typing-extensions>=3.10.0, but you have typing-extensions 3.7.4.3 which is incompatible.\n",
            "ml-dtypes 0.0.4 requires numpy>1.20, but you have numpy 1.19.5 which is incompatible.\n",
            "matplotlib 3.7.1 requires numpy>=1.20, but you have numpy 1.19.5 which is incompatible.\n",
            "librosa 0.10.0.post2 requires numpy!=1.22.0,!=1.22.1,!=1.22.2,>=1.20.3, but you have numpy 1.19.5 which is incompatible.\n",
            "librosa 0.10.0.post2 requires typing-extensions>=4.1.1, but you have typing-extensions 3.7.4.3 which is incompatible.\n",
            "jaxlib 0.4.7+cuda11.cudnn86 requires numpy>=1.21, but you have numpy 1.19.5 which is incompatible.\n",
            "jax 0.4.8 requires numpy>=1.21, but you have numpy 1.19.5 which is incompatible.\n",
            "flax 0.6.8 requires typing-extensions>=4.1.1, but you have typing-extensions 3.7.4.3 which is incompatible.\n",
            "cupy-cuda11x 11.0.0 requires numpy<1.26,>=1.20, but you have numpy 1.19.5 which is incompatible.\n",
            "cmdstanpy 1.1.0 requires numpy>=1.21, but you have numpy 1.19.5 which is incompatible.\n",
            "chex 0.1.7 requires typing-extensions>=4.2.0; python_version < \"3.11\", but you have typing-extensions 3.7.4.3 which is incompatible.\n",
            "bokeh 2.4.3 requires typing-extensions>=3.10.0, but you have typing-extensions 3.7.4.3 which is incompatible.\n",
            "astropy 5.2.2 requires numpy>=1.20, but you have numpy 1.19.5 which is incompatible.\n",
            "arviz 0.15.1 requires numpy>=1.20.0, but you have numpy 1.19.5 which is incompatible.\n",
            "arviz 0.15.1 requires typing-extensions>=4.1.0, but you have typing-extensions 3.7.4.3 which is incompatible.\u001b[0m\u001b[31m\n",
            "\u001b[0mSuccessfully installed absl-py-0.15.0 clang-5.0 flatbuffers-1.12 h5py-3.1.0 keras-preprocessing-1.1.2 numpy-1.19.5 six-1.15.0 tensorflow-2.6.0 termcolor-1.1.0 typing-extensions-3.7.4.3 wrapt-1.12.1\n"
          ]
        }
      ],
      "source": [
        "!pip install keras==2.6.0\n",
        "!pip install tensorflow==2.6.0"
      ]
    },
    {
      "cell_type": "code",
      "execution_count": 4,
      "metadata": {
        "id": "Re0oDrRb5AIf"
      },
      "outputs": [],
      "source": [
        "import tensorflow as tf\n",
        "import keras\n",
        "import numpy as np\n",
        "import cv2\n",
        "import os\n",
        "# import matplotlib.pyplot as plt\n",
        "from sklearn.model_selection import train_test_split\n",
        "from tensorflow.keras import datasets, layers, models\n",
        "from tensorflow.keras.utils import to_categorical\n",
        "from tensorflow.keras.metrics import BinaryAccuracy\n",
        "from tensorflow.keras.layers import Dense\n",
        "from sklearn.metrics import confusion_matrix, ConfusionMatrixDisplay\n",
        "import matplotlib.pyplot as plt\n",
        "from sklearn import metrics"
      ]
    },
    {
      "cell_type": "code",
      "execution_count": 5,
      "metadata": {
        "colab": {
          "base_uri": "https://localhost:8080/"
        },
        "id": "gwvTk-sh5G9S",
        "outputId": "ace8334a-7122-49dd-859e-8c2d34297445"
      },
      "outputs": [
        {
          "output_type": "stream",
          "name": "stdout",
          "text": [
            "2.6.0\n",
            "2.6.0\n"
          ]
        }
      ],
      "source": [
        "print(tf.__version__)\n",
        "print(keras.__version__)"
      ]
    },
    {
      "cell_type": "code",
      "execution_count": 6,
      "metadata": {
        "id": "YmoUGgqm72T9",
        "colab": {
          "base_uri": "https://localhost:8080/"
        },
        "outputId": "1e3ae1f3-77de-406c-9a99-360ba7d758ac"
      },
      "outputs": [
        {
          "output_type": "stream",
          "name": "stdout",
          "text": [
            "Fri Apr 14 20:34:04 2023       \n",
            "+-----------------------------------------------------------------------------+\n",
            "| NVIDIA-SMI 525.85.12    Driver Version: 525.85.12    CUDA Version: 12.0     |\n",
            "|-------------------------------+----------------------+----------------------+\n",
            "| GPU  Name        Persistence-M| Bus-Id        Disp.A | Volatile Uncorr. ECC |\n",
            "| Fan  Temp  Perf  Pwr:Usage/Cap|         Memory-Usage | GPU-Util  Compute M. |\n",
            "|                               |                      |               MIG M. |\n",
            "|===============================+======================+======================|\n",
            "|   0  Tesla T4            Off  | 00000000:00:04.0 Off |                    0 |\n",
            "| N/A   36C    P8     9W /  70W |      0MiB / 15360MiB |      0%      Default |\n",
            "|                               |                      |                  N/A |\n",
            "+-------------------------------+----------------------+----------------------+\n",
            "                                                                               \n",
            "+-----------------------------------------------------------------------------+\n",
            "| Processes:                                                                  |\n",
            "|  GPU   GI   CI        PID   Type   Process name                  GPU Memory |\n",
            "|        ID   ID                                                   Usage      |\n",
            "|=============================================================================|\n",
            "|  No running processes found                                                 |\n",
            "+-----------------------------------------------------------------------------+\n"
          ]
        }
      ],
      "source": [
        "gpu_info = !nvidia-smi\n",
        "gpu_info = '\\n'.join(gpu_info)\n",
        "if gpu_info.find('failed') >= 0:\n",
        "  print('Not connected to a GPU')\n",
        "else:\n",
        "  print(gpu_info)"
      ]
    },
    {
      "cell_type": "markdown",
      "source": [
        "\n",
        "# Training Set & Testing Set"
      ],
      "metadata": {
        "id": "wi5E293fb8z4"
      }
    },
    {
      "cell_type": "code",
      "execution_count": 7,
      "metadata": {
        "colab": {
          "base_uri": "https://localhost:8080/"
        },
        "id": "IiDJ3mu8Ac90",
        "outputId": "642fc8ec-b68a-45ff-9c48-d442a86ced02"
      },
      "outputs": [
        {
          "output_type": "stream",
          "name": "stdout",
          "text": [
            "(100, 100, 1)\n"
          ]
        }
      ],
      "source": [
        "# Read a sample\n",
        "import cv2\n",
        "folder_name = '/content/100/1/'\n",
        "filename = '0' + '.jpg'\n",
        "img = cv2.imread(folder_name + filename, cv2.IMREAD_GRAYSCALE).reshape(100, 100, 1)\n",
        "print(img.shape)"
      ]
    },
    {
      "cell_type": "code",
      "source": [
        "print(img[:, :, 0])"
      ],
      "metadata": {
        "id": "JhUSBEwjeCrB",
        "colab": {
          "base_uri": "https://localhost:8080/"
        },
        "outputId": "7e3fbcbb-359f-4517-822c-12355a72496c"
      },
      "execution_count": 8,
      "outputs": [
        {
          "output_type": "stream",
          "name": "stdout",
          "text": [
            "[[153 147 138 ... 174 175 177]\n",
            " [143 134 124 ... 175 177 178]\n",
            " [139 127 115 ... 178 179 180]\n",
            " ...\n",
            " [  9  11  14 ... 133 134 132]\n",
            " [  9  12  11 ... 133 133 132]\n",
            " [  6  12  10 ... 131 131 131]]\n"
          ]
        }
      ]
    },
    {
      "cell_type": "code",
      "execution_count": 9,
      "metadata": {
        "id": "y6vf7ktbAhWr"
      },
      "outputs": [],
      "source": [
        "def readImages(folder_name, num):\n",
        "    images = []\n",
        "    count = 0\n",
        "    for name in os.listdir(folder_name):\n",
        "      try:\n",
        "        img = cv2.imread(folder_name + name, cv2.IMREAD_GRAYSCALE).reshape(100, 100, 1)\n",
        "      except:\n",
        "        print(name)\n",
        "      images.append(img)\n",
        "      count += 1\n",
        "      if count == num:\n",
        "        break\n",
        "    matrix = np.stack(images, axis=0)\n",
        "    return matrix"
      ]
    },
    {
      "cell_type": "code",
      "source": [
        "images_0 = readImages('/content/100/0/', 5000)\n",
        "images_1 = readImages('/content/100/1/', 5000)\n",
        "images_2 = readImages('/content/100/2/', 5000)\n",
        "images_3 = readImages('/content/100/3/', 5000)"
      ],
      "metadata": {
        "id": "0AZh7U2gu_Ro",
        "colab": {
          "base_uri": "https://localhost:8080/"
        },
        "outputId": "0ed92bde-bb6a-41a9-d54b-7a972472f474"
      },
      "execution_count": 10,
      "outputs": [
        {
          "output_type": "stream",
          "name": "stdout",
          "text": [
            ".DS_Store\n"
          ]
        }
      ]
    },
    {
      "cell_type": "code",
      "source": [
        "print(images_0.shape)\n",
        "print(images_1.shape)\n",
        "print(images_2.shape)\n",
        "print(images_3.shape)"
      ],
      "metadata": {
        "colab": {
          "base_uri": "https://localhost:8080/"
        },
        "id": "_I9WWHngurEm",
        "outputId": "003e961f-74a2-43ba-d166-b4b7a08beae7"
      },
      "execution_count": 11,
      "outputs": [
        {
          "output_type": "stream",
          "name": "stdout",
          "text": [
            "(5000, 100, 100, 1)\n",
            "(5000, 100, 100, 1)\n",
            "(5000, 100, 100, 1)\n",
            "(5000, 100, 100, 1)\n"
          ]
        }
      ]
    },
    {
      "cell_type": "code",
      "source": [
        "labels_0 = np.zeros((5000,1), int)\n",
        "labels_1 = np.ones((5000,1), int)\n",
        "labels_2 = np.zeros((5000,1), int)\n",
        "labels_2.fill(2)\n",
        "labels_3 = np.zeros((5000,1), int)\n",
        "labels_3.fill(3)\n",
        "print(labels_0.shape)\n",
        "print(labels_1.shape)\n",
        "print(labels_2.shape)\n",
        "print(labels_3.shape)"
      ],
      "metadata": {
        "colab": {
          "base_uri": "https://localhost:8080/"
        },
        "id": "0_SnBNTewYKb",
        "outputId": "f0f4822d-bf27-41e6-f545-2a2e70f79371"
      },
      "execution_count": 12,
      "outputs": [
        {
          "output_type": "stream",
          "name": "stdout",
          "text": [
            "(5000, 1)\n",
            "(5000, 1)\n",
            "(5000, 1)\n",
            "(5000, 1)\n"
          ]
        }
      ]
    },
    {
      "cell_type": "code",
      "source": [
        "labels = np.concatenate((labels_0, labels_1, labels_2, labels_3), axis=0)\n",
        "y_train_labels = to_categorical(labels)"
      ],
      "metadata": {
        "id": "kAGUziglwsXY"
      },
      "execution_count": 13,
      "outputs": []
    },
    {
      "cell_type": "code",
      "source": [
        "images = np.vstack((images_0, images_1, images_2, images_3))"
      ],
      "metadata": {
        "id": "BlyAK60xw0St"
      },
      "execution_count": 14,
      "outputs": []
    },
    {
      "cell_type": "code",
      "source": [
        "train_images, test_images, train_labels, test_labels = train_test_split(images, labels, test_size=0.2, random_state=42)"
      ],
      "metadata": {
        "id": "F79QAcduneB1"
      },
      "execution_count": 15,
      "outputs": []
    },
    {
      "cell_type": "code",
      "execution_count": 16,
      "metadata": {
        "id": "05tJCbRDH2TK"
      },
      "outputs": [],
      "source": [
        "train_images = train_images.astype('float32') / 255\n",
        "test_images = test_images.astype('float32') / 255"
      ]
    },
    {
      "cell_type": "code",
      "source": [
        "y_train_labels = to_categorical(train_labels)\n",
        "y_test_labels = to_categorical(test_labels)"
      ],
      "metadata": {
        "id": "CEUzcMHSnM-C"
      },
      "execution_count": 17,
      "outputs": []
    },
    {
      "cell_type": "code",
      "source": [
        "print(train_images.shape)\n",
        "print(y_train_labels.shape)\n",
        "print(test_images.shape)\n",
        "print(y_test_labels.shape)"
      ],
      "metadata": {
        "id": "pJmeOfp0nxcC",
        "colab": {
          "base_uri": "https://localhost:8080/"
        },
        "outputId": "f09dc0e5-9655-4d4f-d9bd-4f8b38e4d39c"
      },
      "execution_count": 18,
      "outputs": [
        {
          "output_type": "stream",
          "name": "stdout",
          "text": [
            "(16000, 100, 100, 1)\n",
            "(16000, 4)\n",
            "(4000, 100, 100, 1)\n",
            "(4000, 4)\n"
          ]
        }
      ]
    },
    {
      "cell_type": "markdown",
      "source": [
        "# Validation Set"
      ],
      "metadata": {
        "id": "3RTVAH3prKZK"
      }
    },
    {
      "cell_type": "code",
      "source": [
        "!unzip \"/content/drive/My Drive/SI699/Validation_100.zip\" -d \"/content\""
      ],
      "metadata": {
        "id": "QyQTaTgurJS4"
      },
      "execution_count": null,
      "outputs": []
    },
    {
      "cell_type": "code",
      "source": [
        "count = 500"
      ],
      "metadata": {
        "id": "KY42fOONumeW"
      },
      "execution_count": 20,
      "outputs": []
    },
    {
      "cell_type": "code",
      "source": [
        "images_val_0 = readImages('/content/Validation_100/0/', count)\n",
        "images_val_1 = readImages('/content/Validation_100/1/', count)\n",
        "images_val_2 = readImages('/content/Validation_100/2/', count)\n",
        "images_val_3 = readImages('/content/Validation_100/3/', count)"
      ],
      "metadata": {
        "id": "0OWrHxrrrJwj"
      },
      "execution_count": 21,
      "outputs": []
    },
    {
      "cell_type": "code",
      "source": [
        "validation_images = np.vstack((images_val_0, images_val_1, images_val_2, images_val_3))\n",
        "val_images = validation_images.astype('float32') / 255"
      ],
      "metadata": {
        "id": "34LqhKVwsE65"
      },
      "execution_count": 22,
      "outputs": []
    },
    {
      "cell_type": "code",
      "source": [
        "labels_val_0 = np.zeros((count,1), int)\n",
        "labels_val_1 = np.ones((count,1), int)\n",
        "labels_val_2 = np.zeros((count,1), int)\n",
        "labels_val_2.fill(2)\n",
        "labels_val_3 = np.zeros((count,1), int)\n",
        "labels_val_3.fill(3)\n",
        "print(labels_val_0.shape)\n",
        "print(labels_val_1.shape)\n",
        "print(labels_val_2.shape)\n",
        "print(labels_val_3.shape)"
      ],
      "metadata": {
        "id": "VIYLPfyrrnwL",
        "colab": {
          "base_uri": "https://localhost:8080/"
        },
        "outputId": "25d7bbc5-7590-4458-fc6b-014559ec944b"
      },
      "execution_count": 23,
      "outputs": [
        {
          "output_type": "stream",
          "name": "stdout",
          "text": [
            "(500, 1)\n",
            "(500, 1)\n",
            "(500, 1)\n",
            "(500, 1)\n"
          ]
        }
      ]
    },
    {
      "cell_type": "code",
      "source": [
        "print(val_images.shape)"
      ],
      "metadata": {
        "id": "iDfs7wgEhl2i",
        "colab": {
          "base_uri": "https://localhost:8080/"
        },
        "outputId": "3e6238d4-159f-4950-b444-75a4bd6d458f"
      },
      "execution_count": 24,
      "outputs": [
        {
          "output_type": "stream",
          "name": "stdout",
          "text": [
            "(2000, 100, 100, 1)\n"
          ]
        }
      ]
    },
    {
      "cell_type": "code",
      "source": [
        "val_labels = np.concatenate((labels_val_0, labels_val_1, labels_val_2, labels_val_3), axis=0)"
      ],
      "metadata": {
        "id": "UGjuOAEBrynf"
      },
      "execution_count": 25,
      "outputs": []
    },
    {
      "cell_type": "code",
      "execution_count": 26,
      "metadata": {
        "id": "lGnes2UNI4d7"
      },
      "outputs": [],
      "source": [
        "y_val_labels = to_categorical(val_labels)\n"
      ]
    },
    {
      "cell_type": "code",
      "source": [
        "print(train_images.shape)\n",
        "print(y_train_labels.shape)\n",
        "print(val_images.shape)\n",
        "print(y_val_labels.shape)"
      ],
      "metadata": {
        "id": "ZWoRf1ems6UQ",
        "colab": {
          "base_uri": "https://localhost:8080/"
        },
        "outputId": "38094429-df09-4e1e-d010-cdfb467eaf49"
      },
      "execution_count": 27,
      "outputs": [
        {
          "output_type": "stream",
          "name": "stdout",
          "text": [
            "(16000, 100, 100, 1)\n",
            "(16000, 4)\n",
            "(2000, 100, 100, 1)\n",
            "(2000, 4)\n"
          ]
        }
      ]
    },
    {
      "cell_type": "markdown",
      "source": [
        "# MLP"
      ],
      "metadata": {
        "id": "s7lQNfAI3iY0"
      }
    },
    {
      "cell_type": "code",
      "execution_count": 42,
      "metadata": {
        "id": "H1_4XsltH7Di",
        "colab": {
          "base_uri": "https://localhost:8080/"
        },
        "outputId": "0f26e76e-1324-429f-ce42-0f421340dbc3"
      },
      "outputs": [
        {
          "output_type": "stream",
          "name": "stdout",
          "text": [
            "Model: \"sequential_2\"\n",
            "_________________________________________________________________\n",
            "Layer (type)                 Output Shape              Param #   \n",
            "=================================================================\n",
            "flatten_2 (Flatten)          (None, 10000)             0         \n",
            "_________________________________________________________________\n",
            "dense_10 (Dense)             (None, 256)               2560256   \n",
            "_________________________________________________________________\n",
            "dense_11 (Dense)             (None, 128)               32896     \n",
            "_________________________________________________________________\n",
            "dense_12 (Dense)             (None, 64)                8256      \n",
            "_________________________________________________________________\n",
            "dense_13 (Dense)             (None, 32)                2080      \n",
            "_________________________________________________________________\n",
            "dense_14 (Dense)             (None, 4)                 132       \n",
            "=================================================================\n",
            "Total params: 2,603,620\n",
            "Trainable params: 2,603,620\n",
            "Non-trainable params: 0\n",
            "_________________________________________________________________\n"
          ]
        }
      ],
      "source": [
        "# MLP\n",
        "mlp = models.Sequential()\n",
        "mlp.add(layers.Flatten(input_shape = train_images[0].shape))\n",
        "# mlp.add(Dense(64, activation = 'relu'))\n",
        "# mlp.add(Dense(64, activation = 'relu'))\n",
        "mlp.add(Dense(256, activation = 'relu'))\n",
        "mlp.add(Dense(128, activation = 'relu'))\n",
        "mlp.add(Dense(64, activation = 'relu'))\n",
        "mlp.add(Dense(32, activation = 'relu'))\n",
        "mlp.add(Dense(4, activation = 'softmax'))\n",
        "mlp.summary()"
      ]
    },
    {
      "cell_type": "code",
      "source": [
        "mlp.compile(optimizer='adam',\n",
        "              loss='categorical_crossentropy',\n",
        "              metrics=['accuracy'])\n",
        "history = mlp.fit(train_images, y_train_labels, epochs=30, verbose = True, validation_data = (val_images, y_val_labels))"
      ],
      "metadata": {
        "colab": {
          "base_uri": "https://localhost:8080/"
        },
        "id": "ZEVctqw93lfg",
        "outputId": "2a401313-3fdd-4577-8303-1328be2f0e04"
      },
      "execution_count": 43,
      "outputs": [
        {
          "output_type": "stream",
          "name": "stdout",
          "text": [
            "Epoch 1/30\n",
            "500/500 [==============================] - 2s 3ms/step - loss: 1.3866 - accuracy: 0.3159 - val_loss: 1.3459 - val_accuracy: 0.3020\n",
            "Epoch 2/30\n",
            "500/500 [==============================] - 1s 2ms/step - loss: 1.2705 - accuracy: 0.3966 - val_loss: 1.2609 - val_accuracy: 0.4235\n",
            "Epoch 3/30\n",
            "500/500 [==============================] - 1s 2ms/step - loss: 1.2616 - accuracy: 0.4047 - val_loss: 1.3398 - val_accuracy: 0.3685\n",
            "Epoch 4/30\n",
            "500/500 [==============================] - 1s 2ms/step - loss: 1.2189 - accuracy: 0.4351 - val_loss: 1.2190 - val_accuracy: 0.4280\n",
            "Epoch 5/30\n",
            "500/500 [==============================] - 1s 2ms/step - loss: 1.2001 - accuracy: 0.4433 - val_loss: 1.2611 - val_accuracy: 0.4195\n",
            "Epoch 6/30\n",
            "500/500 [==============================] - 1s 2ms/step - loss: 1.1884 - accuracy: 0.4564 - val_loss: 1.1689 - val_accuracy: 0.4565\n",
            "Epoch 7/30\n",
            "500/500 [==============================] - 1s 2ms/step - loss: 1.1721 - accuracy: 0.4689 - val_loss: 1.1544 - val_accuracy: 0.4815\n",
            "Epoch 8/30\n",
            "500/500 [==============================] - 1s 2ms/step - loss: 1.1652 - accuracy: 0.4715 - val_loss: 1.1733 - val_accuracy: 0.4450\n",
            "Epoch 9/30\n",
            "500/500 [==============================] - 1s 2ms/step - loss: 1.1592 - accuracy: 0.4798 - val_loss: 1.1456 - val_accuracy: 0.4755\n",
            "Epoch 10/30\n",
            "500/500 [==============================] - 1s 2ms/step - loss: 1.1483 - accuracy: 0.4813 - val_loss: 1.1501 - val_accuracy: 0.4770\n",
            "Epoch 11/30\n",
            "500/500 [==============================] - 1s 2ms/step - loss: 1.1493 - accuracy: 0.4870 - val_loss: 1.1553 - val_accuracy: 0.4765\n",
            "Epoch 12/30\n",
            "500/500 [==============================] - 1s 2ms/step - loss: 1.1468 - accuracy: 0.4896 - val_loss: 1.1743 - val_accuracy: 0.4595\n",
            "Epoch 13/30\n",
            "500/500 [==============================] - 1s 2ms/step - loss: 1.1418 - accuracy: 0.4869 - val_loss: 1.1630 - val_accuracy: 0.4650\n",
            "Epoch 14/30\n",
            "500/500 [==============================] - 1s 2ms/step - loss: 1.1385 - accuracy: 0.4922 - val_loss: 1.1819 - val_accuracy: 0.4520\n",
            "Epoch 15/30\n",
            "500/500 [==============================] - 1s 2ms/step - loss: 1.1301 - accuracy: 0.4963 - val_loss: 1.1996 - val_accuracy: 0.4580\n",
            "Epoch 16/30\n",
            "500/500 [==============================] - 1s 2ms/step - loss: 1.1323 - accuracy: 0.4949 - val_loss: 1.1912 - val_accuracy: 0.4600\n",
            "Epoch 17/30\n",
            "500/500 [==============================] - 1s 2ms/step - loss: 1.1294 - accuracy: 0.5012 - val_loss: 1.1566 - val_accuracy: 0.4755\n",
            "Epoch 18/30\n",
            "500/500 [==============================] - 1s 2ms/step - loss: 1.1182 - accuracy: 0.5036 - val_loss: 1.1629 - val_accuracy: 0.4750\n",
            "Epoch 19/30\n",
            "500/500 [==============================] - 1s 2ms/step - loss: 1.1203 - accuracy: 0.5072 - val_loss: 1.1564 - val_accuracy: 0.4780\n",
            "Epoch 20/30\n",
            "500/500 [==============================] - 1s 2ms/step - loss: 1.1126 - accuracy: 0.5094 - val_loss: 1.1390 - val_accuracy: 0.4900\n",
            "Epoch 21/30\n",
            "500/500 [==============================] - 1s 2ms/step - loss: 1.1142 - accuracy: 0.5074 - val_loss: 1.1336 - val_accuracy: 0.4930\n",
            "Epoch 22/30\n",
            "500/500 [==============================] - 1s 2ms/step - loss: 1.1077 - accuracy: 0.5099 - val_loss: 1.1531 - val_accuracy: 0.4735\n",
            "Epoch 23/30\n",
            "500/500 [==============================] - 1s 2ms/step - loss: 1.1136 - accuracy: 0.5061 - val_loss: 1.2332 - val_accuracy: 0.4365\n",
            "Epoch 24/30\n",
            "500/500 [==============================] - 1s 2ms/step - loss: 1.1089 - accuracy: 0.5169 - val_loss: 1.1694 - val_accuracy: 0.4620\n",
            "Epoch 25/30\n",
            "500/500 [==============================] - 1s 2ms/step - loss: 1.1024 - accuracy: 0.5189 - val_loss: 1.1461 - val_accuracy: 0.4870\n",
            "Epoch 26/30\n",
            "500/500 [==============================] - 1s 2ms/step - loss: 1.1043 - accuracy: 0.5146 - val_loss: 1.1551 - val_accuracy: 0.4935\n",
            "Epoch 27/30\n",
            "500/500 [==============================] - 1s 2ms/step - loss: 1.0920 - accuracy: 0.5196 - val_loss: 1.1410 - val_accuracy: 0.4785\n",
            "Epoch 28/30\n",
            "500/500 [==============================] - 1s 2ms/step - loss: 1.1008 - accuracy: 0.5164 - val_loss: 1.1292 - val_accuracy: 0.4925\n",
            "Epoch 29/30\n",
            "500/500 [==============================] - 1s 2ms/step - loss: 1.0973 - accuracy: 0.5191 - val_loss: 1.1608 - val_accuracy: 0.4650\n",
            "Epoch 30/30\n",
            "500/500 [==============================] - 1s 2ms/step - loss: 1.0971 - accuracy: 0.5181 - val_loss: 1.1576 - val_accuracy: 0.4735\n"
          ]
        }
      ]
    },
    {
      "cell_type": "code",
      "source": [
        "predictions = mlp.predict(test_images)\n",
        "predictions"
      ],
      "metadata": {
        "colab": {
          "base_uri": "https://localhost:8080/"
        },
        "id": "3M1Ocl7KG78p",
        "outputId": "625136f7-2742-4814-d77f-a877491ece72"
      },
      "execution_count": 44,
      "outputs": [
        {
          "output_type": "execute_result",
          "data": {
            "text/plain": [
              "array([[0.45428172, 0.21525155, 0.17510512, 0.1553616 ],\n",
              "       [0.419489  , 0.05812742, 0.14521721, 0.37716633],\n",
              "       [0.38005808, 0.16480373, 0.26109153, 0.19404665],\n",
              "       ...,\n",
              "       [0.35468674, 0.11102709, 0.22301695, 0.3112692 ],\n",
              "       [0.46572024, 0.15036745, 0.23911919, 0.14479314],\n",
              "       [0.22252299, 0.04640236, 0.11437201, 0.61670256]], dtype=float32)"
            ]
          },
          "metadata": {},
          "execution_count": 44
        }
      ]
    },
    {
      "cell_type": "code",
      "source": [
        "def plotConfusionMatrix(predictions):\n",
        "  y_pred=np.argmax(predictions, axis=1)\n",
        "  y_test=np.argmax(y_test_labels, axis=1)\n",
        "\n",
        "  confusion_matrix = metrics.confusion_matrix(y_pred, y_test, normalize='true')\n",
        "\n",
        "  disp = metrics.ConfusionMatrixDisplay(confusion_matrix=confusion_matrix, display_labels=[\"Neutral\", \"Happy\", \"Sad\", \"Surprise\"])\n",
        "  disp.plot()\n",
        "\n",
        "  plt.savefig(\"MLP.svg\")\n",
        "  plt.show()"
      ],
      "metadata": {
        "id": "T2bGqQLbG9t7"
      },
      "execution_count": 45,
      "outputs": []
    },
    {
      "cell_type": "code",
      "source": [
        "plotConfusionMatrix(predictions)"
      ],
      "metadata": {
        "colab": {
          "base_uri": "https://localhost:8080/",
          "height": 449
        },
        "id": "_5bej8qLGyA1",
        "outputId": "3da30c2b-8ab4-484a-afb0-a6b359cd2692"
      },
      "execution_count": 46,
      "outputs": [
        {
          "output_type": "display_data",
          "data": {
            "text/plain": [
              "<Figure size 640x480 with 2 Axes>"
            ],
            "image/png": "[encoded data removed]"
          },
          "metadata": {}
        }
      ]
    },
    {
      "cell_type": "code",
      "source": [
        "def plotAccuracyandLoss(history, name):\n",
        "  print(history.history.keys())\n",
        "  plt.plot(history.history['accuracy'])\n",
        "  plt.plot(history.history['val_accuracy'])\n",
        "  plt.title(f'{name} Accuracy')\n",
        "  plt.ylabel('Accuracy')\n",
        "  plt.xlabel('Epochs')\n",
        "  plt.legend(['training', 'validation'], loc='upper left')\n",
        "  plt.savefig(f\"{name}_acc.svg\")\n",
        "  plt.show()"
      ],
      "metadata": {
        "id": "zqEBGseUd4K9"
      },
      "execution_count": 40,
      "outputs": []
    },
    {
      "cell_type": "code",
      "source": [
        "plotAccuracyandLoss(history, \"MLP\")"
      ],
      "metadata": {
        "colab": {
          "base_uri": "https://localhost:8080/",
          "height": 490
        },
        "id": "mVI1HIKzd54m",
        "outputId": "a150b9ff-a360-443e-c85f-c4b27f7b45de"
      },
      "execution_count": 41,
      "outputs": [
        {
          "output_type": "stream",
          "name": "stdout",
          "text": [
            "dict_keys(['loss', 'accuracy', 'val_loss', 'val_accuracy'])\n"
          ]
        },
        {
          "output_type": "display_data",
          "data": {
            "text/plain": [
              "<Figure size 640x480 with 1 Axes>"
            ],
            "image/png": "[encoded data removed]"
          },
          "metadata": {}
        }
      ]
    }
  ],
  "metadata": {
    "accelerator": "GPU",
    "colab": {
      "machine_shape": "hm",
      "provenance": []
    },
    "gpuClass": "standard",
    "kernelspec": {
      "display_name": "Python 3",
      "name": "python3"
    },
    "language_info": {
      "name": "python"
    }
  },
  "nbformat": 4,
  "nbformat_minor": 0
}