{
  "cells": [
    {
      "cell_type": "code",
      "execution_count": 1,
      "metadata": {
        "colab": {
          "base_uri": "https://localhost:8080/"
        },
        "id": "vilbbSu17GHo",
        "outputId": "303a9e47-2e8b-4d00-bd13-533eb08e026c"
      },
      "outputs": [
        {
          "output_type": "stream",
          "name": "stdout",
          "text": [
            "Mounted at /content/drive\n"
          ]
        }
      ],
      "source": [
        "from google.colab import drive\n",
        "drive.mount('/content/drive', force_remount=True)"
      ]
    },
    {
      "cell_type": "code",
      "source": [
        "!unzip \"/content/drive/My Drive/SI699/100.zip\" -d \"/content\""
      ],
      "metadata": {
        "id": "OKPySF9Esm9Q"
      },
      "execution_count": null,
      "outputs": []
    },
    {
      "cell_type": "code",
      "execution_count": null,
      "metadata": {
        "id": "UC35lPG85T1Z"
      },
      "outputs": [],
      "source": [
        "!pip install keras==2.6.0\n",
        "!pip install tensorflow==2.6.0"
      ]
    },
    {
      "cell_type": "code",
      "execution_count": 4,
      "metadata": {
        "id": "Re0oDrRb5AIf"
      },
      "outputs": [],
      "source": [
        "import tensorflow as tf\n",
        "import keras\n",
        "import numpy as np\n",
        "import cv2\n",
        "import os\n",
        "# import matplotlib.pyplot as plt\n",
        "from sklearn.model_selection import train_test_split\n",
        "from tensorflow.keras import datasets, layers, models\n",
        "from tensorflow.keras.utils import to_categorical\n",
        "from tensorflow.keras.metrics import BinaryAccuracy\n",
        "from tensorflow.keras.layers import Dense\n",
        "from sklearn.metrics import confusion_matrix, ConfusionMatrixDisplay\n",
        "import matplotlib.pyplot as plt\n",
        "from sklearn import metrics"
      ]
    },
    {
      "cell_type": "code",
      "execution_count": 5,
      "metadata": {
        "colab": {
          "base_uri": "https://localhost:8080/"
        },
        "id": "gwvTk-sh5G9S",
        "outputId": "779f09c9-d8a0-417d-c212-fbdf520ac7f2"
      },
      "outputs": [
        {
          "output_type": "stream",
          "name": "stdout",
          "text": [
            "2.6.0\n",
            "2.6.0\n"
          ]
        }
      ],
      "source": [
        "print(tf.__version__)\n",
        "print(keras.__version__)"
      ]
    },
    {
      "cell_type": "code",
      "execution_count": 6,
      "metadata": {
        "id": "YmoUGgqm72T9",
        "colab": {
          "base_uri": "https://localhost:8080/"
        },
        "outputId": "ea41bf20-61f9-4f51-9604-908a3f3b929e"
      },
      "outputs": [
        {
          "output_type": "stream",
          "name": "stdout",
          "text": [
            "Sat Apr 15 04:53:28 2023       \n",
            "+-----------------------------------------------------------------------------+\n",
            "| NVIDIA-SMI 525.85.12    Driver Version: 525.85.12    CUDA Version: 12.0     |\n",
            "|-------------------------------+----------------------+----------------------+\n",
            "| GPU  Name        Persistence-M| Bus-Id        Disp.A | Volatile Uncorr. ECC |\n",
            "| Fan  Temp  Perf  Pwr:Usage/Cap|         Memory-Usage | GPU-Util  Compute M. |\n",
            "|                               |                      |               MIG M. |\n",
            "|===============================+======================+======================|\n",
            "|   0  Tesla T4            Off  | 00000000:00:04.0 Off |                    0 |\n",
            "| N/A   42C    P8    11W /  70W |      0MiB / 15360MiB |      0%      Default |\n",
            "|                               |                      |                  N/A |\n",
            "+-------------------------------+----------------------+----------------------+\n",
            "                                                                               \n",
            "+-----------------------------------------------------------------------------+\n",
            "| Processes:                                                                  |\n",
            "|  GPU   GI   CI        PID   Type   Process name                  GPU Memory |\n",
            "|        ID   ID                                                   Usage      |\n",
            "|=============================================================================|\n",
            "|  No running processes found                                                 |\n",
            "+-----------------------------------------------------------------------------+\n"
          ]
        }
      ],
      "source": [
        "gpu_info = !nvidia-smi\n",
        "gpu_info = '\\n'.join(gpu_info)\n",
        "if gpu_info.find('failed') >= 0:\n",
        "  print('Not connected to a GPU')\n",
        "else:\n",
        "  print(gpu_info)"
      ]
    },
    {
      "cell_type": "markdown",
      "source": [
        "\n",
        "# Training Set & Testing Set"
      ],
      "metadata": {
        "id": "wi5E293fb8z4"
      }
    },
    {
      "cell_type": "code",
      "execution_count": 7,
      "metadata": {
        "colab": {
          "base_uri": "https://localhost:8080/"
        },
        "id": "IiDJ3mu8Ac90",
        "outputId": "c066726b-d8d0-410b-98ae-83bd196d8479"
      },
      "outputs": [
        {
          "output_type": "stream",
          "name": "stdout",
          "text": [
            "(100, 100, 1)\n"
          ]
        }
      ],
      "source": [
        "# Read a sample\n",
        "import cv2\n",
        "folder_name = '/content/100/1/'\n",
        "filename = '0' + '.jpg'\n",
        "img = cv2.imread(folder_name + filename, cv2.IMREAD_GRAYSCALE).reshape(100, 100, 1)\n",
        "print(img.shape)"
      ]
    },
    {
      "cell_type": "code",
      "source": [
        "print(img[:, :, 0])"
      ],
      "metadata": {
        "id": "JhUSBEwjeCrB",
        "colab": {
          "base_uri": "https://localhost:8080/"
        },
        "outputId": "88073f8f-1a9c-4966-81c4-8d997adc7d52"
      },
      "execution_count": 8,
      "outputs": [
        {
          "output_type": "stream",
          "name": "stdout",
          "text": [
            "[[153 147 138 ... 174 175 177]\n",
            " [143 134 124 ... 175 177 178]\n",
            " [139 127 115 ... 178 179 180]\n",
            " ...\n",
            " [  9  11  14 ... 133 134 132]\n",
            " [  9  12  11 ... 133 133 132]\n",
            " [  6  12  10 ... 131 131 131]]\n"
          ]
        }
      ]
    },
    {
      "cell_type": "code",
      "execution_count": 9,
      "metadata": {
        "id": "y6vf7ktbAhWr"
      },
      "outputs": [],
      "source": [
        "def readImages(folder_name, num):\n",
        "    images = []\n",
        "    count = 0\n",
        "    for name in os.listdir(folder_name):\n",
        "      try:\n",
        "        img = cv2.imread(folder_name + name, cv2.IMREAD_GRAYSCALE).reshape(100, 100, 1)\n",
        "      except:\n",
        "        print(name)\n",
        "      images.append(img)\n",
        "      count += 1\n",
        "      if count == num:\n",
        "        break\n",
        "    matrix = np.stack(images, axis=0)\n",
        "    return matrix"
      ]
    },
    {
      "cell_type": "code",
      "source": [
        "images_0 = readImages('/content/100/0/', 5000)\n",
        "images_1 = readImages('/content/100/1/', 5000)\n",
        "images_2 = readImages('/content/100/2/', 5000)\n",
        "images_3 = readImages('/content/100/3/', 5000)"
      ],
      "metadata": {
        "id": "0AZh7U2gu_Ro",
        "colab": {
          "base_uri": "https://localhost:8080/"
        },
        "outputId": "b8ce4ca0-5018-4ed3-f346-2ec34581c57d"
      },
      "execution_count": 10,
      "outputs": [
        {
          "output_type": "stream",
          "name": "stdout",
          "text": [
            ".DS_Store\n"
          ]
        }
      ]
    },
    {
      "cell_type": "code",
      "source": [
        "print(images_0.shape)\n",
        "print(images_1.shape)\n",
        "print(images_2.shape)\n",
        "print(images_3.shape)"
      ],
      "metadata": {
        "colab": {
          "base_uri": "https://localhost:8080/"
        },
        "id": "_I9WWHngurEm",
        "outputId": "b2a0a57d-d1c2-46b7-8432-e7b84d0a7c2b"
      },
      "execution_count": 11,
      "outputs": [
        {
          "output_type": "stream",
          "name": "stdout",
          "text": [
            "(5000, 100, 100, 1)\n",
            "(5000, 100, 100, 1)\n",
            "(5000, 100, 100, 1)\n",
            "(5000, 100, 100, 1)\n"
          ]
        }
      ]
    },
    {
      "cell_type": "code",
      "source": [
        "labels_0 = np.zeros((5000,1), int)\n",
        "labels_1 = np.ones((5000,1), int)\n",
        "labels_2 = np.zeros((5000,1), int)\n",
        "labels_2.fill(2)\n",
        "labels_3 = np.zeros((5000,1), int)\n",
        "labels_3.fill(3)\n",
        "print(labels_0.shape)\n",
        "print(labels_1.shape)\n",
        "print(labels_2.shape)\n",
        "print(labels_3.shape)"
      ],
      "metadata": {
        "colab": {
          "base_uri": "https://localhost:8080/"
        },
        "id": "0_SnBNTewYKb",
        "outputId": "5718fb3d-7b95-4d45-cb54-3c853f2f48dc"
      },
      "execution_count": 12,
      "outputs": [
        {
          "output_type": "stream",
          "name": "stdout",
          "text": [
            "(5000, 1)\n",
            "(5000, 1)\n",
            "(5000, 1)\n",
            "(5000, 1)\n"
          ]
        }
      ]
    },
    {
      "cell_type": "code",
      "source": [
        "labels = np.concatenate((labels_0, labels_1, labels_2, labels_3), axis=0)\n",
        "y_train_labels = to_categorical(labels)"
      ],
      "metadata": {
        "id": "kAGUziglwsXY"
      },
      "execution_count": 13,
      "outputs": []
    },
    {
      "cell_type": "code",
      "source": [
        "images = np.vstack((images_0, images_1, images_2, images_3))"
      ],
      "metadata": {
        "id": "BlyAK60xw0St"
      },
      "execution_count": 14,
      "outputs": []
    },
    {
      "cell_type": "code",
      "source": [
        "train_images, test_images, train_labels, test_labels = train_test_split(images, labels, test_size=0.2, random_state=42)"
      ],
      "metadata": {
        "id": "F79QAcduneB1"
      },
      "execution_count": 15,
      "outputs": []
    },
    {
      "cell_type": "code",
      "execution_count": 16,
      "metadata": {
        "id": "05tJCbRDH2TK"
      },
      "outputs": [],
      "source": [
        "train_images = train_images.astype('float32') / 255\n",
        "test_images = test_images.astype('float32') / 255"
      ]
    },
    {
      "cell_type": "code",
      "source": [
        "y_train_labels = to_categorical(train_labels)\n",
        "y_test_labels = to_categorical(test_labels)"
      ],
      "metadata": {
        "id": "CEUzcMHSnM-C"
      },
      "execution_count": 17,
      "outputs": []
    },
    {
      "cell_type": "code",
      "source": [
        "print(train_images.shape)\n",
        "print(y_train_labels.shape)\n",
        "print(test_images.shape)\n",
        "print(y_test_labels.shape)"
      ],
      "metadata": {
        "id": "pJmeOfp0nxcC",
        "colab": {
          "base_uri": "https://localhost:8080/"
        },
        "outputId": "813ff5c1-8f6a-48db-ab8e-ab0278d03208"
      },
      "execution_count": 18,
      "outputs": [
        {
          "output_type": "stream",
          "name": "stdout",
          "text": [
            "(16000, 100, 100, 1)\n",
            "(16000, 4)\n",
            "(4000, 100, 100, 1)\n",
            "(4000, 4)\n"
          ]
        }
      ]
    },
    {
      "cell_type": "markdown",
      "source": [
        "# Validation Set"
      ],
      "metadata": {
        "id": "3RTVAH3prKZK"
      }
    },
    {
      "cell_type": "code",
      "source": [
        "!unzip \"/content/drive/My Drive/SI699/Validation_100.zip\" -d \"/content\""
      ],
      "metadata": {
        "id": "QyQTaTgurJS4"
      },
      "execution_count": null,
      "outputs": []
    },
    {
      "cell_type": "code",
      "source": [
        "count = 500"
      ],
      "metadata": {
        "id": "KY42fOONumeW"
      },
      "execution_count": 20,
      "outputs": []
    },
    {
      "cell_type": "code",
      "source": [
        "images_val_0 = readImages('/content/Validation_100/0/', count)\n",
        "images_val_1 = readImages('/content/Validation_100/1/', count)\n",
        "images_val_2 = readImages('/content/Validation_100/2/', count)\n",
        "images_val_3 = readImages('/content/Validation_100/3/', count)"
      ],
      "metadata": {
        "id": "0OWrHxrrrJwj"
      },
      "execution_count": 21,
      "outputs": []
    },
    {
      "cell_type": "code",
      "source": [
        "validation_images = np.vstack((images_val_0, images_val_1, images_val_2, images_val_3))\n",
        "val_images = validation_images.astype('float32') / 255"
      ],
      "metadata": {
        "id": "34LqhKVwsE65"
      },
      "execution_count": 22,
      "outputs": []
    },
    {
      "cell_type": "code",
      "source": [
        "labels_val_0 = np.zeros((count,1), int)\n",
        "labels_val_1 = np.ones((count,1), int)\n",
        "labels_val_2 = np.zeros((count,1), int)\n",
        "labels_val_2.fill(2)\n",
        "labels_val_3 = np.zeros((count,1), int)\n",
        "labels_val_3.fill(3)\n",
        "print(labels_val_0.shape)\n",
        "print(labels_val_1.shape)\n",
        "print(labels_val_2.shape)\n",
        "print(labels_val_3.shape)"
      ],
      "metadata": {
        "id": "VIYLPfyrrnwL",
        "colab": {
          "base_uri": "https://localhost:8080/"
        },
        "outputId": "f3f6d7cd-3e03-4a05-d718-208cd16c6c69"
      },
      "execution_count": 23,
      "outputs": [
        {
          "output_type": "stream",
          "name": "stdout",
          "text": [
            "(500, 1)\n",
            "(500, 1)\n",
            "(500, 1)\n",
            "(500, 1)\n"
          ]
        }
      ]
    },
    {
      "cell_type": "code",
      "source": [
        "print(val_images.shape)"
      ],
      "metadata": {
        "id": "iDfs7wgEhl2i",
        "colab": {
          "base_uri": "https://localhost:8080/"
        },
        "outputId": "9f55b6b3-6558-4e0c-88b5-f4da239b2a3f"
      },
      "execution_count": 24,
      "outputs": [
        {
          "output_type": "stream",
          "name": "stdout",
          "text": [
            "(2000, 100, 100, 1)\n"
          ]
        }
      ]
    },
    {
      "cell_type": "code",
      "source": [
        "val_labels = np.concatenate((labels_val_0, labels_val_1, labels_val_2, labels_val_3), axis=0)"
      ],
      "metadata": {
        "id": "UGjuOAEBrynf"
      },
      "execution_count": 25,
      "outputs": []
    },
    {
      "cell_type": "code",
      "execution_count": 26,
      "metadata": {
        "id": "lGnes2UNI4d7"
      },
      "outputs": [],
      "source": [
        "y_val_labels = to_categorical(val_labels)\n"
      ]
    },
    {
      "cell_type": "code",
      "source": [
        "print(train_images.shape)\n",
        "print(y_train_labels.shape)\n",
        "print(val_images.shape)\n",
        "print(y_val_labels.shape)"
      ],
      "metadata": {
        "id": "ZWoRf1ems6UQ",
        "colab": {
          "base_uri": "https://localhost:8080/"
        },
        "outputId": "b3d0c5b9-9204-4b46-db83-01eed46aca7f"
      },
      "execution_count": 27,
      "outputs": [
        {
          "output_type": "stream",
          "name": "stdout",
          "text": [
            "(16000, 100, 100, 1)\n",
            "(16000, 4)\n",
            "(2000, 100, 100, 1)\n",
            "(2000, 4)\n"
          ]
        }
      ]
    },
    {
      "cell_type": "markdown",
      "source": [
        "# MLP"
      ],
      "metadata": {
        "id": "s7lQNfAI3iY0"
      }
    },
    {
      "cell_type": "code",
      "execution_count": 28,
      "metadata": {
        "id": "H1_4XsltH7Di",
        "colab": {
          "base_uri": "https://localhost:8080/"
        },
        "outputId": "3e1c22b8-a0e2-4963-9f42-9222625ac833"
      },
      "outputs": [
        {
          "output_type": "stream",
          "name": "stdout",
          "text": [
            "Model: \"sequential\"\n",
            "_________________________________________________________________\n",
            "Layer (type)                 Output Shape              Param #   \n",
            "=================================================================\n",
            "flatten (Flatten)            (None, 10000)             0         \n",
            "_________________________________________________________________\n",
            "dense (Dense)                (None, 256)               2560256   \n",
            "_________________________________________________________________\n",
            "dense_1 (Dense)              (None, 128)               32896     \n",
            "_________________________________________________________________\n",
            "dense_2 (Dense)              (None, 64)                8256      \n",
            "_________________________________________________________________\n",
            "dense_3 (Dense)              (None, 32)                2080      \n",
            "_________________________________________________________________\n",
            "dense_4 (Dense)              (None, 4)                 132       \n",
            "=================================================================\n",
            "Total params: 2,603,620\n",
            "Trainable params: 2,603,620\n",
            "Non-trainable params: 0\n",
            "_________________________________________________________________\n"
          ]
        }
      ],
      "source": [
        "# MLP\n",
        "mlp = models.Sequential()\n",
        "mlp.add(layers.Flatten(input_shape = train_images[0].shape))\n",
        "# mlp.add(Dense(64, activation = 'relu'))\n",
        "# mlp.add(Dense(64, activation = 'relu'))\n",
        "mlp.add(Dense(256, activation = 'relu'))\n",
        "mlp.add(Dense(128, activation = 'relu'))\n",
        "mlp.add(Dense(64, activation = 'relu'))\n",
        "mlp.add(Dense(32, activation = 'relu'))\n",
        "mlp.add(Dense(4, activation = 'softmax'))\n",
        "mlp.summary()"
      ]
    },
    {
      "cell_type": "code",
      "source": [
        "mlp.compile(optimizer='adam',\n",
        "              loss='categorical_crossentropy',\n",
        "              metrics=['accuracy'])\n",
        "history = mlp.fit(train_images, y_train_labels, epochs=30, verbose = True, validation_data = (val_images, y_val_labels))"
      ],
      "metadata": {
        "colab": {
          "base_uri": "https://localhost:8080/"
        },
        "id": "ZEVctqw93lfg",
        "outputId": "b8a88b1a-76dd-4b36-b6c3-bb05da6dde84"
      },
      "execution_count": 29,
      "outputs": [
        {
          "output_type": "stream",
          "name": "stdout",
          "text": [
            "Epoch 1/30\n",
            "500/500 [==============================] - 5s 3ms/step - loss: 1.4223 - accuracy: 0.3058 - val_loss: 1.3163 - val_accuracy: 0.3895\n",
            "Epoch 2/30\n",
            "500/500 [==============================] - 1s 2ms/step - loss: 1.2922 - accuracy: 0.3773 - val_loss: 1.2426 - val_accuracy: 0.4045\n",
            "Epoch 3/30\n",
            "500/500 [==============================] - 1s 2ms/step - loss: 1.2490 - accuracy: 0.4083 - val_loss: 1.2011 - val_accuracy: 0.4450\n",
            "Epoch 4/30\n",
            "500/500 [==============================] - 1s 2ms/step - loss: 1.2343 - accuracy: 0.4198 - val_loss: 1.2616 - val_accuracy: 0.4170\n",
            "Epoch 5/30\n",
            "500/500 [==============================] - 1s 2ms/step - loss: 1.2154 - accuracy: 0.4377 - val_loss: 1.2250 - val_accuracy: 0.4370\n",
            "Epoch 6/30\n",
            "500/500 [==============================] - 1s 3ms/step - loss: 1.1885 - accuracy: 0.4543 - val_loss: 1.1782 - val_accuracy: 0.4575\n",
            "Epoch 7/30\n",
            "500/500 [==============================] - 1s 3ms/step - loss: 1.1851 - accuracy: 0.4583 - val_loss: 1.2116 - val_accuracy: 0.4510\n",
            "Epoch 8/30\n",
            "500/500 [==============================] - 1s 3ms/step - loss: 1.1770 - accuracy: 0.4674 - val_loss: 1.2316 - val_accuracy: 0.4215\n",
            "Epoch 9/30\n",
            "500/500 [==============================] - 1s 2ms/step - loss: 1.1698 - accuracy: 0.4743 - val_loss: 1.1833 - val_accuracy: 0.4545\n",
            "Epoch 10/30\n",
            "500/500 [==============================] - 1s 2ms/step - loss: 1.1653 - accuracy: 0.4700 - val_loss: 1.1851 - val_accuracy: 0.4760\n",
            "Epoch 11/30\n",
            "500/500 [==============================] - 1s 2ms/step - loss: 1.1558 - accuracy: 0.4819 - val_loss: 1.1679 - val_accuracy: 0.4755\n",
            "Epoch 12/30\n",
            "500/500 [==============================] - 1s 2ms/step - loss: 1.1533 - accuracy: 0.4793 - val_loss: 1.2722 - val_accuracy: 0.4195\n",
            "Epoch 13/30\n",
            "500/500 [==============================] - 1s 2ms/step - loss: 1.1475 - accuracy: 0.4885 - val_loss: 1.1474 - val_accuracy: 0.4905\n",
            "Epoch 14/30\n",
            "500/500 [==============================] - 1s 2ms/step - loss: 1.1468 - accuracy: 0.4863 - val_loss: 1.1422 - val_accuracy: 0.4820\n",
            "Epoch 15/30\n",
            "500/500 [==============================] - 1s 2ms/step - loss: 1.1371 - accuracy: 0.4971 - val_loss: 1.1545 - val_accuracy: 0.4880\n",
            "Epoch 16/30\n",
            "500/500 [==============================] - 1s 2ms/step - loss: 1.1310 - accuracy: 0.4983 - val_loss: 1.1434 - val_accuracy: 0.4845\n",
            "Epoch 17/30\n",
            "500/500 [==============================] - 1s 2ms/step - loss: 1.1308 - accuracy: 0.5016 - val_loss: 1.1378 - val_accuracy: 0.4905\n",
            "Epoch 18/30\n",
            "500/500 [==============================] - 1s 2ms/step - loss: 1.1269 - accuracy: 0.5013 - val_loss: 1.1663 - val_accuracy: 0.4720\n",
            "Epoch 19/30\n",
            "500/500 [==============================] - 1s 3ms/step - loss: 1.1224 - accuracy: 0.5054 - val_loss: 1.1549 - val_accuracy: 0.4730\n",
            "Epoch 20/30\n",
            "500/500 [==============================] - 1s 3ms/step - loss: 1.1224 - accuracy: 0.5047 - val_loss: 1.1358 - val_accuracy: 0.4930\n",
            "Epoch 21/30\n",
            "500/500 [==============================] - 1s 3ms/step - loss: 1.1186 - accuracy: 0.5046 - val_loss: 1.1583 - val_accuracy: 0.4780\n",
            "Epoch 22/30\n",
            "500/500 [==============================] - 1s 3ms/step - loss: 1.1262 - accuracy: 0.5009 - val_loss: 1.1436 - val_accuracy: 0.4815\n",
            "Epoch 23/30\n",
            "500/500 [==============================] - 1s 3ms/step - loss: 1.1187 - accuracy: 0.5064 - val_loss: 1.1625 - val_accuracy: 0.4665\n",
            "Epoch 24/30\n",
            "500/500 [==============================] - 1s 3ms/step - loss: 1.1084 - accuracy: 0.5132 - val_loss: 1.1748 - val_accuracy: 0.4660\n",
            "Epoch 25/30\n",
            "500/500 [==============================] - 1s 2ms/step - loss: 1.1136 - accuracy: 0.5082 - val_loss: 1.1403 - val_accuracy: 0.4955\n",
            "Epoch 26/30\n",
            "500/500 [==============================] - 1s 2ms/step - loss: 1.1172 - accuracy: 0.5072 - val_loss: 1.1492 - val_accuracy: 0.4800\n",
            "Epoch 27/30\n",
            "500/500 [==============================] - 1s 3ms/step - loss: 1.1094 - accuracy: 0.5116 - val_loss: 1.1836 - val_accuracy: 0.4580\n",
            "Epoch 28/30\n",
            "500/500 [==============================] - 1s 2ms/step - loss: 1.1109 - accuracy: 0.5133 - val_loss: 1.1452 - val_accuracy: 0.4915\n",
            "Epoch 29/30\n",
            "500/500 [==============================] - 1s 3ms/step - loss: 1.1045 - accuracy: 0.5173 - val_loss: 1.2343 - val_accuracy: 0.4475\n",
            "Epoch 30/30\n",
            "500/500 [==============================] - 1s 2ms/step - loss: 1.1082 - accuracy: 0.5144 - val_loss: 1.1446 - val_accuracy: 0.4850\n"
          ]
        }
      ]
    },
    {
      "cell_type": "code",
      "source": [
        "predictions = mlp.predict(test_images)\n",
        "predictions"
      ],
      "metadata": {
        "colab": {
          "base_uri": "https://localhost:8080/"
        },
        "id": "3M1Ocl7KG78p",
        "outputId": "34e19e9c-c121-43fb-e92b-4430fab8164a"
      },
      "execution_count": 30,
      "outputs": [
        {
          "output_type": "execute_result",
          "data": {
            "text/plain": [
              "array([[0.24375775, 0.4700668 , 0.12434424, 0.16183124],\n",
              "       [0.28805038, 0.16605374, 0.12034012, 0.42555577],\n",
              "       [0.33445784, 0.11798566, 0.35216582, 0.19539072],\n",
              "       ...,\n",
              "       [0.27070203, 0.28228864, 0.18784356, 0.25916576],\n",
              "       [0.45157698, 0.13377121, 0.23964511, 0.1750066 ],\n",
              "       [0.2475732 , 0.14313611, 0.10058354, 0.50870717]], dtype=float32)"
            ]
          },
          "metadata": {},
          "execution_count": 30
        }
      ]
    },
    {
      "cell_type": "code",
      "source": [
        "test_loss, test_acc = mlp.evaluate(test_images, y_test_labels)"
      ],
      "metadata": {
        "colab": {
          "base_uri": "https://localhost:8080/"
        },
        "id": "gNc2BzMYReH1",
        "outputId": "2d148fbd-189b-4ba0-f5f7-dd0d938aaff0"
      },
      "execution_count": 36,
      "outputs": [
        {
          "output_type": "stream",
          "name": "stdout",
          "text": [
            "125/125 [==============================] - 0s 3ms/step - loss: 1.1352 - accuracy: 0.4942\n"
          ]
        }
      ]
    },
    {
      "cell_type": "code",
      "source": [
        "def plotConfusionMatrix(predictions):\n",
        "  y_pred=np.argmax(predictions, axis=1)\n",
        "  y_test=np.argmax(y_test_labels, axis=1)\n",
        "\n",
        "  confusion_matrix = metrics.confusion_matrix(y_pred, y_test, normalize='true')\n",
        "\n",
        "  disp = metrics.ConfusionMatrixDisplay(confusion_matrix=confusion_matrix, display_labels=[\"Neutral\", \"Happy\", \"Sad\", \"Surprise\"])\n",
        "  disp.plot()\n",
        "\n",
        "  plt.savefig(\"MLP.svg\")\n",
        "  plt.show()"
      ],
      "metadata": {
        "id": "T2bGqQLbG9t7"
      },
      "execution_count": 31,
      "outputs": []
    },
    {
      "cell_type": "code",
      "source": [
        "plotConfusionMatrix(predictions)"
      ],
      "metadata": {
        "colab": {
          "base_uri": "https://localhost:8080/",
          "height": 449
        },
        "id": "_5bej8qLGyA1",
        "outputId": "ff9388eb-9d8a-45ee-da2d-81568bfda76a"
      },
      "execution_count": 32,
      "outputs": [
        {
          "output_type": "display_data",
          "data": {
            "text/plain": [
              "<Figure size 640x480 with 2 Axes>"
            ],
            "image/png": "[encoded data removed]"
          },
          "metadata": {}
        }
      ]
    },
    {
      "cell_type": "code",
      "source": [
        "def plotAccuracyandLoss(history, name):\n",
        "  print(history.history.keys())\n",
        "  plt.plot(history.history['accuracy'])\n",
        "  plt.plot(history.history['val_accuracy'])\n",
        "  plt.title(f'{name} Accuracy')\n",
        "  plt.ylabel('Accuracy')\n",
        "  plt.xlabel('Epochs')\n",
        "  plt.legend(['training', 'validation'], loc='upper left')\n",
        "  plt.savefig(f\"{name}_acc.svg\")\n",
        "  plt.show()"
      ],
      "metadata": {
        "id": "zqEBGseUd4K9"
      },
      "execution_count": 33,
      "outputs": []
    },
    {
      "cell_type": "code",
      "source": [
        "plotAccuracyandLoss(history, \"MLP\")"
      ],
      "metadata": {
        "colab": {
          "base_uri": "https://localhost:8080/",
          "height": 490
        },
        "id": "mVI1HIKzd54m",
        "outputId": "66d47f50-cd6f-45aa-e676-2d1525b3a177"
      },
      "execution_count": 34,
      "outputs": [
        {
          "output_type": "stream",
          "name": "stdout",
          "text": [
            "dict_keys(['loss', 'accuracy', 'val_loss', 'val_accuracy'])\n"
          ]
        },
        {
          "output_type": "display_data",
          "data": {
            "text/plain": [
              "<Figure size 640x480 with 1 Axes>"
            ],
            "image/png": "[encoded data removed]"
          },
          "metadata": {}
        }
      ]
    }
  ],
  "metadata": {
    "accelerator": "GPU",
    "colab": {
      "machine_shape": "hm",
      "provenance": []
    },
    "gpuClass": "standard",
    "kernelspec": {
      "display_name": "Python 3",
      "name": "python3"
    },
    "language_info": {
      "name": "python"
    }
  },
  "nbformat": 4,
  "nbformat_minor": 0
}