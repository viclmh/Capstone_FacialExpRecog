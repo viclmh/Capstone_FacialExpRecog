{
  "cells": [
    {
      "cell_type": "code",
      "execution_count": null,
      "metadata": {
        "colab": {
          "base_uri": "https://localhost:8080/"
        },
        "id": "vilbbSu17GHo",
        "outputId": "a8a00e31-6864-42bf-e5d9-544ead73287b"
      },
      "outputs": [
        {
          "output_type": "stream",
          "name": "stdout",
          "text": [
            "Mounted at /content/drive\n"
          ]
        }
      ],
      "source": [
        "from google.colab import drive\n",
        "drive.mount('/content/drive', force_remount=True)"
      ]
    },
    {
      "cell_type": "code",
      "source": [
        "!unzip \"/content/drive/My Drive/SI699/100.zip\" -d \"/content\""
      ],
      "metadata": {
        "id": "OKPySF9Esm9Q"
      },
      "execution_count": null,
      "outputs": []
    },
    {
      "cell_type": "code",
      "source": [
        "### train_48.zip -> training set of image size 48*48\n",
        "### validation_48.zip -> validation set of image size 48*48"
      ],
      "metadata": {
        "id": "932mNrbTciRi"
      },
      "execution_count": null,
      "outputs": []
    },
    {
      "cell_type": "code",
      "execution_count": null,
      "metadata": {
        "id": "UC35lPG85T1Z",
        "colab": {
          "base_uri": "https://localhost:8080/"
        },
        "outputId": "8a2098ec-18e5-4d17-b0f1-4275774011fd"
      },
      "outputs": [
        {
          "output_type": "stream",
          "name": "stdout",
          "text": [
            "Looking in indexes: https://pypi.org/simple, https://us-python.pkg.dev/colab-wheels/public/simple/\n",
            "Collecting keras==2.6.0\n",
            "  Downloading keras-2.6.0-py2.py3-none-any.whl (1.3 MB)\n",
            "\u001b[2K     \u001b[90m━━━━━━━━━━━━━━━━━━━━━━━━━━━━━━━━━━━━━━━━\u001b[0m \u001b[32m1.3/1.3 MB\u001b[0m \u001b[31m69.8 MB/s\u001b[0m eta \u001b[36m0:00:00\u001b[0m\n",
            "\u001b[?25hInstalling collected packages: keras\n",
            "  Attempting uninstall: keras\n",
            "    Found existing installation: keras 2.12.0\n",
            "    Uninstalling keras-2.12.0:\n",
            "      Successfully uninstalled keras-2.12.0\n",
            "\u001b[31mERROR: pip's dependency resolver does not currently take into account all the packages that are installed. This behaviour is the source of the following dependency conflicts.\n",
            "tensorflow 2.12.0 requires keras<2.13,>=2.12.0, but you have keras 2.6.0 which is incompatible.\u001b[0m\u001b[31m\n",
            "\u001b[0mSuccessfully installed keras-2.6.0\n",
            "Looking in indexes: https://pypi.org/simple, https://us-python.pkg.dev/colab-wheels/public/simple/\n",
            "Collecting tensorflow==2.6.0\n",
            "  Downloading tensorflow-2.6.0-cp39-cp39-manylinux2010_x86_64.whl (458.4 MB)\n",
            "\u001b[2K     \u001b[90m━━━━━━━━━━━━━━━━━━━━━━━━━━━━━━━━━━━━━━━\u001b[0m \u001b[32m458.4/458.4 MB\u001b[0m \u001b[31m2.9 MB/s\u001b[0m eta \u001b[36m0:00:00\u001b[0m\n",
            "\u001b[?25hRequirement already satisfied: tensorboard~=2.6 in /usr/local/lib/python3.9/dist-packages (from tensorflow==2.6.0) (2.12.1)\n",
            "Collecting termcolor~=1.1.0\n",
            "  Downloading termcolor-1.1.0.tar.gz (3.9 kB)\n",
            "  Preparing metadata (setup.py) ... \u001b[?25l\u001b[?25hdone\n",
            "Collecting six~=1.15.0\n",
            "  Downloading six-1.15.0-py2.py3-none-any.whl (10 kB)\n",
            "Collecting keras-preprocessing~=1.1.2\n",
            "  Downloading Keras_Preprocessing-1.1.2-py2.py3-none-any.whl (42 kB)\n",
            "\u001b[2K     \u001b[90m━━━━━━━━━━━━━━━━━━━━━━━━━━━━━━━━━━━━━━━━\u001b[0m \u001b[32m42.6/42.6 kB\u001b[0m \u001b[31m6.2 MB/s\u001b[0m eta \u001b[36m0:00:00\u001b[0m\n",
            "\u001b[?25hRequirement already satisfied: opt-einsum~=3.3.0 in /usr/local/lib/python3.9/dist-packages (from tensorflow==2.6.0) (3.3.0)\n",
            "Requirement already satisfied: gast==0.4.0 in /usr/local/lib/python3.9/dist-packages (from tensorflow==2.6.0) (0.4.0)\n",
            "Collecting flatbuffers~=1.12.0\n",
            "  Downloading flatbuffers-1.12-py2.py3-none-any.whl (15 kB)\n",
            "Collecting absl-py~=0.10\n",
            "  Downloading absl_py-0.15.0-py3-none-any.whl (132 kB)\n",
            "\u001b[2K     \u001b[90m━━━━━━━━━━━━━━━━━━━━━━━━━━━━━━━━━━━━━━\u001b[0m \u001b[32m132.0/132.0 kB\u001b[0m \u001b[31m19.9 MB/s\u001b[0m eta \u001b[36m0:00:00\u001b[0m\n",
            "\u001b[?25hRequirement already satisfied: grpcio<2.0,>=1.37.0 in /usr/local/lib/python3.9/dist-packages (from tensorflow==2.6.0) (1.53.0)\n",
            "Requirement already satisfied: wheel~=0.35 in /usr/local/lib/python3.9/dist-packages (from tensorflow==2.6.0) (0.40.0)\n",
            "Requirement already satisfied: protobuf>=3.9.2 in /usr/local/lib/python3.9/dist-packages (from tensorflow==2.6.0) (3.20.3)\n",
            "Requirement already satisfied: keras~=2.6 in /usr/local/lib/python3.9/dist-packages (from tensorflow==2.6.0) (2.6.0)\n",
            "Requirement already satisfied: tensorflow-estimator~=2.6 in /usr/local/lib/python3.9/dist-packages (from tensorflow==2.6.0) (2.12.0)\n",
            "Requirement already satisfied: google-pasta~=0.2 in /usr/local/lib/python3.9/dist-packages (from tensorflow==2.6.0) (0.2.0)\n",
            "Requirement already satisfied: astunparse~=1.6.3 in /usr/local/lib/python3.9/dist-packages (from tensorflow==2.6.0) (1.6.3)\n",
            "Collecting h5py~=3.1.0\n",
            "  Downloading h5py-3.1.0-cp39-cp39-manylinux1_x86_64.whl (4.4 MB)\n",
            "\u001b[2K     \u001b[90m━━━━━━━━━━━━━━━━━━━━━━━━━━━━━━━━━━━━━━━━\u001b[0m \u001b[32m4.4/4.4 MB\u001b[0m \u001b[31m105.5 MB/s\u001b[0m eta \u001b[36m0:00:00\u001b[0m\n",
            "\u001b[?25hCollecting clang~=5.0\n",
            "  Downloading clang-5.0.tar.gz (30 kB)\n",
            "  Preparing metadata (setup.py) ... \u001b[?25l\u001b[?25hdone\n",
            "Collecting numpy~=1.19.2\n",
            "  Downloading numpy-1.19.5-cp39-cp39-manylinux2010_x86_64.whl (14.9 MB)\n",
            "\u001b[2K     \u001b[90m━━━━━━━━━━━━━━━━━━━━━━━━━━━━━━━━━━━━━━━━\u001b[0m \u001b[32m14.9/14.9 MB\u001b[0m \u001b[31m36.8 MB/s\u001b[0m eta \u001b[36m0:00:00\u001b[0m\n",
            "\u001b[?25hCollecting typing-extensions~=3.7.4\n",
            "  Downloading typing_extensions-3.7.4.3-py3-none-any.whl (22 kB)\n",
            "Collecting wrapt~=1.12.1\n",
            "  Downloading wrapt-1.12.1.tar.gz (27 kB)\n",
            "  Preparing metadata (setup.py) ... \u001b[?25l\u001b[?25hdone\n",
            "Requirement already satisfied: markdown>=2.6.8 in /usr/local/lib/python3.9/dist-packages (from tensorboard~=2.6->tensorflow==2.6.0) (3.4.3)\n",
            "Requirement already satisfied: google-auth-oauthlib<1.1,>=0.5 in /usr/local/lib/python3.9/dist-packages (from tensorboard~=2.6->tensorflow==2.6.0) (1.0.0)\n",
            "Requirement already satisfied: tensorboard-data-server<0.8.0,>=0.7.0 in /usr/local/lib/python3.9/dist-packages (from tensorboard~=2.6->tensorflow==2.6.0) (0.7.0)\n",
            "Requirement already satisfied: requests<3,>=2.21.0 in /usr/local/lib/python3.9/dist-packages (from tensorboard~=2.6->tensorflow==2.6.0) (2.27.1)\n",
            "Requirement already satisfied: tensorboard-plugin-wit>=1.6.0 in /usr/local/lib/python3.9/dist-packages (from tensorboard~=2.6->tensorflow==2.6.0) (1.8.1)\n",
            "Requirement already satisfied: setuptools>=41.0.0 in /usr/local/lib/python3.9/dist-packages (from tensorboard~=2.6->tensorflow==2.6.0) (67.6.1)\n",
            "Requirement already satisfied: werkzeug>=1.0.1 in /usr/local/lib/python3.9/dist-packages (from tensorboard~=2.6->tensorflow==2.6.0) (2.2.3)\n",
            "Requirement already satisfied: google-auth<3,>=1.6.3 in /usr/local/lib/python3.9/dist-packages (from tensorboard~=2.6->tensorflow==2.6.0) (2.17.2)\n",
            "Requirement already satisfied: pyasn1-modules>=0.2.1 in /usr/local/lib/python3.9/dist-packages (from google-auth<3,>=1.6.3->tensorboard~=2.6->tensorflow==2.6.0) (0.2.8)\n",
            "Requirement already satisfied: rsa<5,>=3.1.4 in /usr/local/lib/python3.9/dist-packages (from google-auth<3,>=1.6.3->tensorboard~=2.6->tensorflow==2.6.0) (4.9)\n",
            "Requirement already satisfied: cachetools<6.0,>=2.0.0 in /usr/local/lib/python3.9/dist-packages (from google-auth<3,>=1.6.3->tensorboard~=2.6->tensorflow==2.6.0) (5.3.0)\n",
            "Requirement already satisfied: requests-oauthlib>=0.7.0 in /usr/local/lib/python3.9/dist-packages (from google-auth-oauthlib<1.1,>=0.5->tensorboard~=2.6->tensorflow==2.6.0) (1.3.1)\n",
            "Requirement already satisfied: importlib-metadata>=4.4 in /usr/local/lib/python3.9/dist-packages (from markdown>=2.6.8->tensorboard~=2.6->tensorflow==2.6.0) (6.3.0)\n",
            "Requirement already satisfied: charset-normalizer~=2.0.0 in /usr/local/lib/python3.9/dist-packages (from requests<3,>=2.21.0->tensorboard~=2.6->tensorflow==2.6.0) (2.0.12)\n",
            "Requirement already satisfied: certifi>=2017.4.17 in /usr/local/lib/python3.9/dist-packages (from requests<3,>=2.21.0->tensorboard~=2.6->tensorflow==2.6.0) (2022.12.7)\n",
            "Requirement already satisfied: idna<4,>=2.5 in /usr/local/lib/python3.9/dist-packages (from requests<3,>=2.21.0->tensorboard~=2.6->tensorflow==2.6.0) (3.4)\n",
            "Requirement already satisfied: urllib3<1.27,>=1.21.1 in /usr/local/lib/python3.9/dist-packages (from requests<3,>=2.21.0->tensorboard~=2.6->tensorflow==2.6.0) (1.26.15)\n",
            "Requirement already satisfied: MarkupSafe>=2.1.1 in /usr/local/lib/python3.9/dist-packages (from werkzeug>=1.0.1->tensorboard~=2.6->tensorflow==2.6.0) (2.1.2)\n",
            "Requirement already satisfied: zipp>=0.5 in /usr/local/lib/python3.9/dist-packages (from importlib-metadata>=4.4->markdown>=2.6.8->tensorboard~=2.6->tensorflow==2.6.0) (3.15.0)\n",
            "Requirement already satisfied: pyasn1<0.5.0,>=0.4.6 in /usr/local/lib/python3.9/dist-packages (from pyasn1-modules>=0.2.1->google-auth<3,>=1.6.3->tensorboard~=2.6->tensorflow==2.6.0) (0.4.8)\n",
            "Requirement already satisfied: oauthlib>=3.0.0 in /usr/local/lib/python3.9/dist-packages (from requests-oauthlib>=0.7.0->google-auth-oauthlib<1.1,>=0.5->tensorboard~=2.6->tensorflow==2.6.0) (3.2.2)\n",
            "Building wheels for collected packages: clang, termcolor, wrapt\n",
            "  Building wheel for clang (setup.py) ... \u001b[?25l\u001b[?25hdone\n",
            "  Created wheel for clang: filename=clang-5.0-py3-none-any.whl size=30692 sha256=d3c06f616786b94c7ae3dc86d253be2012bb9de0f1d21b89b2c03efdff7b198f\n",
            "  Stored in directory: /root/.cache/pip/wheels/3a/ce/7a/27094f689461801c934296d07078773603663dfcaca63bb064\n",
            "  Building wheel for termcolor (setup.py) ... \u001b[?25l\u001b[?25hdone\n",
            "  Created wheel for termcolor: filename=termcolor-1.1.0-py3-none-any.whl size=4845 sha256=4e3a8e3d446fc5aa68abe6389413c1778af8c69576a3cd7758cd9f16fc95459c\n",
            "  Stored in directory: /root/.cache/pip/wheels/b6/0d/90/0d1bbd99855f99cb2f6c2e5ff96f8023fad8ec367695f7d72d\n",
            "  Building wheel for wrapt (setup.py) ... \u001b[?25l\u001b[?25hdone\n",
            "  Created wheel for wrapt: filename=wrapt-1.12.1-cp39-cp39-linux_x86_64.whl size=75939 sha256=6529b8ab9044b7d1ad2da40d95c542b09e7d20787829bbc7cb5c002ba67eeac0\n",
            "  Stored in directory: /root/.cache/pip/wheels/98/23/68/efe259aaca055e93b08e74fbe512819c69a2155c11ba3c0f10\n",
            "Successfully built clang termcolor wrapt\n",
            "Installing collected packages: wrapt, typing-extensions, termcolor, flatbuffers, clang, six, numpy, keras-preprocessing, h5py, absl-py, tensorflow\n",
            "  Attempting uninstall: wrapt\n",
            "    Found existing installation: wrapt 1.14.1\n",
            "    Uninstalling wrapt-1.14.1:\n",
            "      Successfully uninstalled wrapt-1.14.1\n",
            "  Attempting uninstall: typing-extensions\n",
            "    Found existing installation: typing_extensions 4.5.0\n",
            "    Uninstalling typing_extensions-4.5.0:\n",
            "      Successfully uninstalled typing_extensions-4.5.0\n",
            "  Attempting uninstall: termcolor\n",
            "    Found existing installation: termcolor 2.2.0\n",
            "    Uninstalling termcolor-2.2.0:\n",
            "      Successfully uninstalled termcolor-2.2.0\n",
            "  Attempting uninstall: flatbuffers\n",
            "    Found existing installation: flatbuffers 23.3.3\n",
            "    Uninstalling flatbuffers-23.3.3:\n",
            "      Successfully uninstalled flatbuffers-23.3.3\n",
            "  Attempting uninstall: six\n",
            "    Found existing installation: six 1.16.0\n",
            "    Uninstalling six-1.16.0:\n",
            "      Successfully uninstalled six-1.16.0\n",
            "  Attempting uninstall: numpy\n",
            "    Found existing installation: numpy 1.22.4\n",
            "    Uninstalling numpy-1.22.4:\n",
            "      Successfully uninstalled numpy-1.22.4\n",
            "  Attempting uninstall: h5py\n",
            "    Found existing installation: h5py 3.8.0\n",
            "    Uninstalling h5py-3.8.0:\n",
            "      Successfully uninstalled h5py-3.8.0\n",
            "  Attempting uninstall: absl-py\n",
            "    Found existing installation: absl-py 1.4.0\n",
            "    Uninstalling absl-py-1.4.0:\n",
            "      Successfully uninstalled absl-py-1.4.0\n",
            "  Attempting uninstall: tensorflow\n",
            "    Found existing installation: tensorflow 2.12.0\n",
            "    Uninstalling tensorflow-2.12.0:\n",
            "      Successfully uninstalled tensorflow-2.12.0\n",
            "\u001b[31mERROR: pip's dependency resolver does not currently take into account all the packages that are installed. This behaviour is the source of the following dependency conflicts.\n",
            "xarray 2022.12.0 requires numpy>=1.20, but you have numpy 1.19.5 which is incompatible.\n",
            "xarray-einstats 0.5.1 requires numpy>=1.20, but you have numpy 1.19.5 which is incompatible.\n",
            "sqlalchemy 2.0.9 requires typing-extensions>=4.2.0, but you have typing-extensions 3.7.4.3 which is incompatible.\n",
            "pydantic 1.10.7 requires typing-extensions>=4.2.0, but you have typing-extensions 3.7.4.3 which is incompatible.\n",
            "pandas 1.5.3 requires numpy>=1.20.3; python_version < \"3.10\", but you have numpy 1.19.5 which is incompatible.\n",
            "optax 0.1.4 requires typing-extensions>=3.10.0, but you have typing-extensions 3.7.4.3 which is incompatible.\n",
            "ml-dtypes 0.0.4 requires numpy>1.20, but you have numpy 1.19.5 which is incompatible.\n",
            "matplotlib 3.7.1 requires numpy>=1.20, but you have numpy 1.19.5 which is incompatible.\n",
            "librosa 0.10.0.post2 requires numpy!=1.22.0,!=1.22.1,!=1.22.2,>=1.20.3, but you have numpy 1.19.5 which is incompatible.\n",
            "librosa 0.10.0.post2 requires typing-extensions>=4.1.1, but you have typing-extensions 3.7.4.3 which is incompatible.\n",
            "jaxlib 0.4.7+cuda11.cudnn86 requires numpy>=1.21, but you have numpy 1.19.5 which is incompatible.\n",
            "jax 0.4.8 requires numpy>=1.21, but you have numpy 1.19.5 which is incompatible.\n",
            "flax 0.6.8 requires typing-extensions>=4.1.1, but you have typing-extensions 3.7.4.3 which is incompatible.\n",
            "cupy-cuda11x 11.0.0 requires numpy<1.26,>=1.20, but you have numpy 1.19.5 which is incompatible.\n",
            "cmdstanpy 1.1.0 requires numpy>=1.21, but you have numpy 1.19.5 which is incompatible.\n",
            "chex 0.1.7 requires typing-extensions>=4.2.0; python_version < \"3.11\", but you have typing-extensions 3.7.4.3 which is incompatible.\n",
            "bokeh 2.4.3 requires typing-extensions>=3.10.0, but you have typing-extensions 3.7.4.3 which is incompatible.\n",
            "astropy 5.2.2 requires numpy>=1.20, but you have numpy 1.19.5 which is incompatible.\n",
            "arviz 0.15.1 requires numpy>=1.20.0, but you have numpy 1.19.5 which is incompatible.\n",
            "arviz 0.15.1 requires typing-extensions>=4.1.0, but you have typing-extensions 3.7.4.3 which is incompatible.\u001b[0m\u001b[31m\n",
            "\u001b[0mSuccessfully installed absl-py-0.15.0 clang-5.0 flatbuffers-1.12 h5py-3.1.0 keras-preprocessing-1.1.2 numpy-1.19.5 six-1.15.0 tensorflow-2.6.0 termcolor-1.1.0 typing-extensions-3.7.4.3 wrapt-1.12.1\n"
          ]
        }
      ],
      "source": [
        "!pip install keras==2.6.0\n",
        "!pip install tensorflow==2.6.0"
      ]
    },
    {
      "cell_type": "code",
      "execution_count": null,
      "metadata": {
        "id": "Re0oDrRb5AIf"
      },
      "outputs": [],
      "source": [
        "import tensorflow as tf\n",
        "import keras\n",
        "import numpy as np\n",
        "import cv2\n",
        "import os\n",
        "# import matplotlib.pyplot as plt\n",
        "from sklearn.model_selection import train_test_split\n",
        "from tensorflow.keras import datasets, layers, models\n",
        "from tensorflow.keras.utils import to_categorical\n",
        "from tensorflow.keras.metrics import BinaryAccuracy\n",
        "from tensorflow.keras.layers import Dense\n",
        "from sklearn.metrics import confusion_matrix, ConfusionMatrixDisplay\n",
        "import matplotlib.pyplot as plt\n",
        "from sklearn import metrics"
      ]
    },
    {
      "cell_type": "code",
      "execution_count": null,
      "metadata": {
        "colab": {
          "base_uri": "https://localhost:8080/"
        },
        "id": "gwvTk-sh5G9S",
        "outputId": "8dd07eae-f872-47ec-ab49-572b8f82fd84"
      },
      "outputs": [
        {
          "output_type": "stream",
          "name": "stdout",
          "text": [
            "2.6.0\n",
            "2.6.0\n"
          ]
        }
      ],
      "source": [
        "print(tf.__version__)\n",
        "print(keras.__version__)"
      ]
    },
    {
      "cell_type": "code",
      "execution_count": null,
      "metadata": {
        "id": "YmoUGgqm72T9",
        "colab": {
          "base_uri": "https://localhost:8080/"
        },
        "outputId": "644ed9c1-d732-443c-a223-739b79d1cfce"
      },
      "outputs": [
        {
          "output_type": "stream",
          "name": "stdout",
          "text": [
            "Fri Apr 14 18:33:17 2023       \n",
            "+-----------------------------------------------------------------------------+\n",
            "| NVIDIA-SMI 525.85.12    Driver Version: 525.85.12    CUDA Version: 12.0     |\n",
            "|-------------------------------+----------------------+----------------------+\n",
            "| GPU  Name        Persistence-M| Bus-Id        Disp.A | Volatile Uncorr. ECC |\n",
            "| Fan  Temp  Perf  Pwr:Usage/Cap|         Memory-Usage | GPU-Util  Compute M. |\n",
            "|                               |                      |               MIG M. |\n",
            "|===============================+======================+======================|\n",
            "|   0  Tesla T4            Off  | 00000000:00:04.0 Off |                    0 |\n",
            "| N/A   44C    P8    11W /  70W |      0MiB / 15360MiB |      0%      Default |\n",
            "|                               |                      |                  N/A |\n",
            "+-------------------------------+----------------------+----------------------+\n",
            "                                                                               \n",
            "+-----------------------------------------------------------------------------+\n",
            "| Processes:                                                                  |\n",
            "|  GPU   GI   CI        PID   Type   Process name                  GPU Memory |\n",
            "|        ID   ID                                                   Usage      |\n",
            "|=============================================================================|\n",
            "|  No running processes found                                                 |\n",
            "+-----------------------------------------------------------------------------+\n"
          ]
        }
      ],
      "source": [
        "gpu_info = !nvidia-smi\n",
        "gpu_info = '\\n'.join(gpu_info)\n",
        "if gpu_info.find('failed') >= 0:\n",
        "  print('Not connected to a GPU')\n",
        "else:\n",
        "  print(gpu_info)"
      ]
    },
    {
      "cell_type": "markdown",
      "source": [
        "\n",
        "# Training Set & Testing Set"
      ],
      "metadata": {
        "id": "wi5E293fb8z4"
      }
    },
    {
      "cell_type": "code",
      "execution_count": null,
      "metadata": {
        "colab": {
          "base_uri": "https://localhost:8080/"
        },
        "id": "IiDJ3mu8Ac90",
        "outputId": "9dfb2b5c-fb57-4fc6-8917-1d7005fd85ca"
      },
      "outputs": [
        {
          "output_type": "stream",
          "name": "stdout",
          "text": [
            "(100, 100, 1)\n"
          ]
        }
      ],
      "source": [
        "# Read a sample\n",
        "import cv2\n",
        "folder_name = '/content/100/1/'\n",
        "filename = '0' + '.jpg'\n",
        "img = cv2.imread(folder_name + filename, cv2.IMREAD_GRAYSCALE).reshape(100, 100, 1)\n",
        "print(img.shape)"
      ]
    },
    {
      "cell_type": "code",
      "source": [
        "print(img[:, :, 0])"
      ],
      "metadata": {
        "id": "JhUSBEwjeCrB",
        "colab": {
          "base_uri": "https://localhost:8080/"
        },
        "outputId": "344bf234-9526-42dc-b492-ed52c0b713c5"
      },
      "execution_count": null,
      "outputs": [
        {
          "output_type": "stream",
          "name": "stdout",
          "text": [
            "[[153 147 138 ... 174 175 177]\n",
            " [143 134 124 ... 175 177 178]\n",
            " [139 127 115 ... 178 179 180]\n",
            " ...\n",
            " [  9  11  14 ... 133 134 132]\n",
            " [  9  12  11 ... 133 133 132]\n",
            " [  6  12  10 ... 131 131 131]]\n"
          ]
        }
      ]
    },
    {
      "cell_type": "code",
      "execution_count": null,
      "metadata": {
        "id": "y6vf7ktbAhWr"
      },
      "outputs": [],
      "source": [
        "def readImages(folder_name, num):\n",
        "    images = []\n",
        "    count = 0\n",
        "    for name in os.listdir(folder_name):\n",
        "      try:\n",
        "        img = cv2.imread(folder_name + name, cv2.IMREAD_GRAYSCALE).reshape(100, 100, 1)\n",
        "      except:\n",
        "        print(name)\n",
        "      images.append(img)\n",
        "      count += 1\n",
        "      if count == num:\n",
        "        break\n",
        "    matrix = np.stack(images, axis=0)\n",
        "    return matrix"
      ]
    },
    {
      "cell_type": "code",
      "source": [
        "images_0 = readImages('/content/100/0/', 5000)\n",
        "images_1 = readImages('/content/100/1/', 5000)\n",
        "images_2 = readImages('/content/100/2/', 5000)\n",
        "images_3 = readImages('/content/100/3/', 5000)"
      ],
      "metadata": {
        "id": "0AZh7U2gu_Ro",
        "colab": {
          "base_uri": "https://localhost:8080/"
        },
        "outputId": "0add76ae-c069-41c4-dec5-a04fa5cac12f"
      },
      "execution_count": null,
      "outputs": [
        {
          "output_type": "stream",
          "name": "stdout",
          "text": [
            ".DS_Store\n"
          ]
        }
      ]
    },
    {
      "cell_type": "code",
      "source": [
        "print(images_0.shape)\n",
        "print(images_1.shape)\n",
        "print(images_2.shape)\n",
        "print(images_3.shape)"
      ],
      "metadata": {
        "colab": {
          "base_uri": "https://localhost:8080/"
        },
        "id": "_I9WWHngurEm",
        "outputId": "d41ba18c-0de0-4a5f-9ae6-f50d3b076d04"
      },
      "execution_count": null,
      "outputs": [
        {
          "output_type": "stream",
          "name": "stdout",
          "text": [
            "(5000, 100, 100, 1)\n",
            "(5000, 100, 100, 1)\n",
            "(5000, 100, 100, 1)\n",
            "(5000, 100, 100, 1)\n"
          ]
        }
      ]
    },
    {
      "cell_type": "code",
      "source": [
        "labels_0 = np.zeros((5000,1), int)\n",
        "labels_1 = np.ones((5000,1), int)\n",
        "labels_2 = np.zeros((5000,1), int)\n",
        "labels_2.fill(2)\n",
        "labels_3 = np.zeros((5000,1), int)\n",
        "labels_3.fill(3)\n",
        "print(labels_0.shape)\n",
        "print(labels_1.shape)\n",
        "print(labels_2.shape)\n",
        "print(labels_3.shape)"
      ],
      "metadata": {
        "colab": {
          "base_uri": "https://localhost:8080/"
        },
        "id": "0_SnBNTewYKb",
        "outputId": "cf97138e-1555-4377-a2b8-a935cb4cc6a1"
      },
      "execution_count": null,
      "outputs": [
        {
          "output_type": "stream",
          "name": "stdout",
          "text": [
            "(5000, 1)\n",
            "(5000, 1)\n",
            "(5000, 1)\n",
            "(5000, 1)\n"
          ]
        }
      ]
    },
    {
      "cell_type": "code",
      "source": [
        "labels = np.concatenate((labels_0, labels_1, labels_2, labels_3), axis=0)\n",
        "y_train_labels = to_categorical(labels)"
      ],
      "metadata": {
        "id": "kAGUziglwsXY"
      },
      "execution_count": null,
      "outputs": []
    },
    {
      "cell_type": "code",
      "source": [
        "images = np.vstack((images_0, images_1, images_2, images_3))"
      ],
      "metadata": {
        "id": "BlyAK60xw0St"
      },
      "execution_count": null,
      "outputs": []
    },
    {
      "cell_type": "code",
      "source": [
        "train_images, test_images, train_labels, test_labels = train_test_split(images, labels, test_size=0.2, random_state=42)"
      ],
      "metadata": {
        "id": "F79QAcduneB1"
      },
      "execution_count": null,
      "outputs": []
    },
    {
      "cell_type": "code",
      "execution_count": null,
      "metadata": {
        "id": "05tJCbRDH2TK"
      },
      "outputs": [],
      "source": [
        "train_images = train_images.astype('float32') / 255\n",
        "test_images = test_images.astype('float32') / 255"
      ]
    },
    {
      "cell_type": "code",
      "source": [
        "y_train_labels = to_categorical(train_labels)\n",
        "y_test_labels = to_categorical(test_labels)"
      ],
      "metadata": {
        "id": "CEUzcMHSnM-C"
      },
      "execution_count": null,
      "outputs": []
    },
    {
      "cell_type": "code",
      "source": [
        "print(train_images.shape)\n",
        "print(y_train_labels.shape)\n",
        "print(test_images.shape)\n",
        "print(y_test_labels.shape)"
      ],
      "metadata": {
        "id": "pJmeOfp0nxcC",
        "colab": {
          "base_uri": "https://localhost:8080/"
        },
        "outputId": "eecfb38b-a7d4-46c6-9bdd-310eeafc97a1"
      },
      "execution_count": null,
      "outputs": [
        {
          "output_type": "stream",
          "name": "stdout",
          "text": [
            "(16000, 100, 100, 1)\n",
            "(16000, 4)\n",
            "(4000, 100, 100, 1)\n",
            "(4000, 4)\n"
          ]
        }
      ]
    },
    {
      "cell_type": "markdown",
      "source": [
        "# Validation Set"
      ],
      "metadata": {
        "id": "3RTVAH3prKZK"
      }
    },
    {
      "cell_type": "code",
      "source": [
        "!unzip \"/content/drive/My Drive/SI699/Validation_100.zip\" -d \"/content\""
      ],
      "metadata": {
        "id": "QyQTaTgurJS4"
      },
      "execution_count": null,
      "outputs": []
    },
    {
      "cell_type": "code",
      "source": [
        "count = 500"
      ],
      "metadata": {
        "id": "KY42fOONumeW"
      },
      "execution_count": null,
      "outputs": []
    },
    {
      "cell_type": "code",
      "source": [
        "images_val_0 = readImages('/content/Validation_100/0/', count)\n",
        "images_val_1 = readImages('/content/Validation_100/1/', count)\n",
        "images_val_2 = readImages('/content/Validation_100/2/', count)\n",
        "images_val_3 = readImages('/content/Validation_100/3/', count)"
      ],
      "metadata": {
        "id": "0OWrHxrrrJwj"
      },
      "execution_count": null,
      "outputs": []
    },
    {
      "cell_type": "code",
      "source": [
        "validation_images = np.vstack((images_val_0, images_val_1, images_val_2, images_val_3))\n",
        "val_images = validation_images.astype('float32') / 255"
      ],
      "metadata": {
        "id": "34LqhKVwsE65"
      },
      "execution_count": null,
      "outputs": []
    },
    {
      "cell_type": "code",
      "source": [
        "labels_val_0 = np.zeros((count,1), int)\n",
        "labels_val_1 = np.ones((count,1), int)\n",
        "labels_val_2 = np.zeros((count,1), int)\n",
        "labels_val_2.fill(2)\n",
        "labels_val_3 = np.zeros((count,1), int)\n",
        "labels_val_3.fill(3)\n",
        "print(labels_val_0.shape)\n",
        "print(labels_val_1.shape)\n",
        "print(labels_val_2.shape)\n",
        "print(labels_val_3.shape)"
      ],
      "metadata": {
        "id": "VIYLPfyrrnwL",
        "colab": {
          "base_uri": "https://localhost:8080/"
        },
        "outputId": "a23676e6-610d-4aad-c51c-ce36774df30e"
      },
      "execution_count": null,
      "outputs": [
        {
          "output_type": "stream",
          "name": "stdout",
          "text": [
            "(500, 1)\n",
            "(500, 1)\n",
            "(500, 1)\n",
            "(500, 1)\n"
          ]
        }
      ]
    },
    {
      "cell_type": "code",
      "source": [
        "print(val_images.shape)"
      ],
      "metadata": {
        "id": "iDfs7wgEhl2i",
        "colab": {
          "base_uri": "https://localhost:8080/"
        },
        "outputId": "c5dd75e0-26f3-47f7-a945-c200356902a3"
      },
      "execution_count": null,
      "outputs": [
        {
          "output_type": "stream",
          "name": "stdout",
          "text": [
            "(2000, 100, 100, 1)\n"
          ]
        }
      ]
    },
    {
      "cell_type": "code",
      "source": [
        "val_labels = np.concatenate((labels_val_0, labels_val_1, labels_val_2, labels_val_3), axis=0)"
      ],
      "metadata": {
        "id": "UGjuOAEBrynf"
      },
      "execution_count": null,
      "outputs": []
    },
    {
      "cell_type": "code",
      "execution_count": null,
      "metadata": {
        "id": "lGnes2UNI4d7"
      },
      "outputs": [],
      "source": [
        "y_val_labels = to_categorical(val_labels)\n"
      ]
    },
    {
      "cell_type": "code",
      "source": [
        "print(train_images.shape)\n",
        "print(y_train_labels.shape)\n",
        "print(val_images.shape)\n",
        "print(y_val_labels.shape)"
      ],
      "metadata": {
        "id": "ZWoRf1ems6UQ",
        "colab": {
          "base_uri": "https://localhost:8080/"
        },
        "outputId": "84334adb-157d-4b0c-fa23-b46c6b9ec642"
      },
      "execution_count": null,
      "outputs": [
        {
          "output_type": "stream",
          "name": "stdout",
          "text": [
            "(16000, 100, 100, 1)\n",
            "(16000, 4)\n",
            "(2000, 100, 100, 1)\n",
            "(2000, 4)\n"
          ]
        }
      ]
    },
    {
      "cell_type": "markdown",
      "source": [
        "# CNN 1"
      ],
      "metadata": {
        "id": "iafvX7W13qDq"
      }
    },
    {
      "cell_type": "code",
      "execution_count": null,
      "metadata": {
        "id": "0GEVBHQyJpyw",
        "colab": {
          "base_uri": "https://localhost:8080/"
        },
        "outputId": "1dc48cfd-643a-40f9-898b-5cc2f3c5039d"
      },
      "outputs": [
        {
          "output_type": "stream",
          "name": "stdout",
          "text": [
            "Model: \"sequential_5\"\n",
            "_________________________________________________________________\n",
            "Layer (type)                 Output Shape              Param #   \n",
            "=================================================================\n",
            "conv2d_23 (Conv2D)           (None, 98, 98, 32)        320       \n",
            "_________________________________________________________________\n",
            "max_pooling2d_10 (MaxPooling (None, 49, 49, 32)        0         \n",
            "_________________________________________________________________\n",
            "conv2d_24 (Conv2D)           (None, 47, 47, 64)        18496     \n",
            "_________________________________________________________________\n",
            "max_pooling2d_11 (MaxPooling (None, 23, 23, 64)        0         \n",
            "_________________________________________________________________\n",
            "conv2d_25 (Conv2D)           (None, 21, 21, 64)        36928     \n",
            "_________________________________________________________________\n",
            "flatten_5 (Flatten)          (None, 28224)             0         \n",
            "_________________________________________________________________\n",
            "dense_11 (Dense)             (None, 64)                1806400   \n",
            "_________________________________________________________________\n",
            "dense_12 (Dense)             (None, 4)                 260       \n",
            "=================================================================\n",
            "Total params: 1,862,404\n",
            "Trainable params: 1,862,404\n",
            "Non-trainable params: 0\n",
            "_________________________________________________________________\n"
          ]
        }
      ],
      "source": [
        "# CNN\n",
        "cnn1 = models.Sequential()\n",
        "cnn1.add(layers.Conv2D(32, (3, 3), activation='relu', input_shape=(100, 100, 1)))\n",
        "cnn1.add(layers.MaxPooling2D((2, 2)))\n",
        "cnn1.add(layers.Conv2D(64, (3, 3), activation='relu'))\n",
        "cnn1.add(layers.MaxPooling2D((2, 2)))\n",
        "cnn1.add(layers.Conv2D(64, (3, 3), activation='relu'))\n",
        "cnn1.add(layers.Flatten())\n",
        "cnn1.add(layers.Dense(64, activation='relu'))\n",
        "cnn1.add(layers.Dense(4, activation='softmax'))\n",
        "cnn1.summary()"
      ]
    },
    {
      "cell_type": "code",
      "source": [
        "cnn1.compile(optimizer='adam',\n",
        "              loss='categorical_crossentropy',\n",
        "              metrics=['accuracy'])\n",
        "history = cnn1.fit(train_images, y_train_labels, epochs=20, batch_size=32, verbose = True, validation_data = (val_images, y_val_labels))"
      ],
      "metadata": {
        "colab": {
          "base_uri": "https://localhost:8080/"
        },
        "id": "y8qN6jdwpZf2",
        "outputId": "b5bffa56-0f06-47c7-dfbe-03dc63ffc767"
      },
      "execution_count": null,
      "outputs": [
        {
          "output_type": "stream",
          "name": "stdout",
          "text": [
            "Epoch 1/20\n",
            "500/500 [==============================] - 6s 11ms/step - loss: 1.2088 - accuracy: 0.4319 - val_loss: 1.0699 - val_accuracy: 0.5225\n",
            "Epoch 2/20\n",
            "500/500 [==============================] - 5s 10ms/step - loss: 1.0268 - accuracy: 0.5591 - val_loss: 1.0085 - val_accuracy: 0.5770\n",
            "Epoch 3/20\n",
            "500/500 [==============================] - 5s 10ms/step - loss: 0.9522 - accuracy: 0.5963 - val_loss: 0.9608 - val_accuracy: 0.6000\n",
            "Epoch 4/20\n",
            "500/500 [==============================] - 5s 10ms/step - loss: 0.8882 - accuracy: 0.6267 - val_loss: 0.9438 - val_accuracy: 0.6025\n",
            "Epoch 5/20\n",
            "500/500 [==============================] - 5s 10ms/step - loss: 0.8325 - accuracy: 0.6528 - val_loss: 0.9568 - val_accuracy: 0.5955\n",
            "Epoch 6/20\n",
            "500/500 [==============================] - 5s 10ms/step - loss: 0.7881 - accuracy: 0.6743 - val_loss: 0.9256 - val_accuracy: 0.6215\n",
            "Epoch 7/20\n",
            "500/500 [==============================] - 5s 10ms/step - loss: 0.7296 - accuracy: 0.7016 - val_loss: 0.9622 - val_accuracy: 0.6060\n",
            "Epoch 8/20\n",
            "500/500 [==============================] - 5s 10ms/step - loss: 0.6644 - accuracy: 0.7299 - val_loss: 0.9694 - val_accuracy: 0.6100\n",
            "Epoch 9/20\n",
            "500/500 [==============================] - 5s 10ms/step - loss: 0.5960 - accuracy: 0.7589 - val_loss: 1.0535 - val_accuracy: 0.6085\n",
            "Epoch 10/20\n",
            "500/500 [==============================] - 5s 10ms/step - loss: 0.5163 - accuracy: 0.7946 - val_loss: 1.2096 - val_accuracy: 0.5795\n",
            "Epoch 11/20\n",
            "500/500 [==============================] - 5s 10ms/step - loss: 0.4368 - accuracy: 0.8291 - val_loss: 1.2547 - val_accuracy: 0.6010\n",
            "Epoch 12/20\n",
            "500/500 [==============================] - 5s 10ms/step - loss: 0.3551 - accuracy: 0.8642 - val_loss: 1.5268 - val_accuracy: 0.5915\n",
            "Epoch 13/20\n",
            "500/500 [==============================] - 5s 10ms/step - loss: 0.2818 - accuracy: 0.8959 - val_loss: 1.6857 - val_accuracy: 0.5865\n",
            "Epoch 14/20\n",
            "500/500 [==============================] - 5s 10ms/step - loss: 0.2121 - accuracy: 0.9210 - val_loss: 1.9900 - val_accuracy: 0.5850\n",
            "Epoch 15/20\n",
            "500/500 [==============================] - 5s 10ms/step - loss: 0.1631 - accuracy: 0.9406 - val_loss: 2.2403 - val_accuracy: 0.5820\n",
            "Epoch 16/20\n",
            "500/500 [==============================] - 5s 10ms/step - loss: 0.1246 - accuracy: 0.9573 - val_loss: 2.4686 - val_accuracy: 0.5795\n",
            "Epoch 17/20\n",
            "500/500 [==============================] - 5s 10ms/step - loss: 0.0998 - accuracy: 0.9660 - val_loss: 2.9163 - val_accuracy: 0.5875\n",
            "Epoch 18/20\n",
            "500/500 [==============================] - 5s 10ms/step - loss: 0.0851 - accuracy: 0.9724 - val_loss: 3.0246 - val_accuracy: 0.5905\n",
            "Epoch 19/20\n",
            "500/500 [==============================] - 5s 10ms/step - loss: 0.0862 - accuracy: 0.9693 - val_loss: 3.2225 - val_accuracy: 0.5735\n",
            "Epoch 20/20\n",
            "500/500 [==============================] - 5s 10ms/step - loss: 0.0833 - accuracy: 0.9719 - val_loss: 3.1961 - val_accuracy: 0.5620\n"
          ]
        }
      ]
    },
    {
      "cell_type": "code",
      "source": [
        "test_loss, test_acc = cnn1.evaluate(test_images, y_test_labels)"
      ],
      "metadata": {
        "id": "edjH-2NrzolE",
        "colab": {
          "base_uri": "https://localhost:8080/"
        },
        "outputId": "eb94362d-d755-4c60-dc5e-a4b43cbce1fd"
      },
      "execution_count": null,
      "outputs": [
        {
          "output_type": "stream",
          "name": "stdout",
          "text": [
            "125/125 [==============================] - 1s 4ms/step - loss: 2.8858 - accuracy: 0.5932\n"
          ]
        }
      ]
    },
    {
      "cell_type": "code",
      "source": [
        "predictions = cnn1.predict(test_images)"
      ],
      "metadata": {
        "id": "1gzZtHG9CTQp"
      },
      "execution_count": null,
      "outputs": []
    },
    {
      "cell_type": "code",
      "source": [
        "def plotConfusionMatrix(predictions):\n",
        "  y_pred=np.argmax(predictions, axis=1)\n",
        "  y_test=np.argmax(y_test_labels, axis=1)\n",
        "\n",
        "  confusion_matrix = metrics.confusion_matrix(y_pred, y_test, normalize='true')\n",
        "\n",
        "  disp = metrics.ConfusionMatrixDisplay(confusion_matrix=confusion_matrix, display_labels=[\"Neutral\", \"Happy\", \"Sad\", \"Surprise\"])\n",
        "  disp.plot()\n",
        "\n",
        "  plt.savefig(\"CNN1.svg\")\n",
        "  plt.show()"
      ],
      "metadata": {
        "id": "1rT9YRRSCfHF"
      },
      "execution_count": null,
      "outputs": []
    },
    {
      "cell_type": "code",
      "source": [
        "plotConfusionMatrix(predictions)"
      ],
      "metadata": {
        "colab": {
          "base_uri": "https://localhost:8080/",
          "height": 449
        },
        "id": "KcVrLCIDC4z2",
        "outputId": "d04c28e3-367c-4db2-f69d-1dc7afa5237f"
      },
      "execution_count": null,
      "outputs": [
        {
          "output_type": "display_data",
          "data": {
            "text/plain": [
              "<Figure size 640x480 with 2 Axes>"
            ],
            "image/png": "[encoded data removed]"
          },
          "metadata": {}
        }
      ]
    },
    {
      "cell_type": "code",
      "source": [
        "def plotAccuracyandLoss(history, name):\n",
        "  print(history.history.keys())\n",
        "  plt.plot(history.history['accuracy'])\n",
        "  plt.plot(history.history['val_accuracy'])\n",
        "  plt.title(f'{name} Accuracy')\n",
        "  plt.ylabel('Accuracy')\n",
        "  plt.xlabel('Epochs')\n",
        "  plt.legend(['training', 'validation'], loc='upper left')\n",
        "  plt.savefig(f\"{name}_acc.svg\")\n",
        "  plt.show()"
      ],
      "metadata": {
        "id": "v0sOWKBPPczg"
      },
      "execution_count": null,
      "outputs": []
    },
    {
      "cell_type": "code",
      "source": [
        "plotAccuracyandLoss(history, \"CNN1\")"
      ],
      "metadata": {
        "colab": {
          "base_uri": "https://localhost:8080/",
          "height": 490
        },
        "id": "dp-cetbIQY3c",
        "outputId": "13aa0bd6-4166-436a-e41b-889645775eca"
      },
      "execution_count": null,
      "outputs": [
        {
          "output_type": "stream",
          "name": "stdout",
          "text": [
            "dict_keys(['loss', 'accuracy', 'val_loss', 'val_accuracy'])\n"
          ]
        },
        {
          "output_type": "display_data",
          "data": {
            "text/plain": [
              "<Figure size 640x480 with 1 Axes>"
            ],
            "image/png": "[encoded data removed]"
          },
          "metadata": {}
        }
      ]
    },
    {
      "cell_type": "markdown",
      "source": [
        "# CNN 2"
      ],
      "metadata": {
        "id": "KanFU2cp3u_a"
      }
    },
    {
      "cell_type": "code",
      "source": [
        "cnn2 = models.Sequential()\n",
        "cnn2.add(layers.Conv2D(32, (3, 3), activation='relu', input_shape=(100, 100, 1)))\n",
        "\n",
        "cnn2.add(layers.MaxPooling2D((2, 2)))\n",
        "cnn2.add(layers.Conv2D(64, (3, 3), activation='relu'))\n",
        "cnn2.add(layers.Conv2D(64, (3, 3), activation='relu'))\n",
        "cnn2.add(layers.MaxPooling2D((2, 2)))\n",
        "cnn2.add(layers.Conv2D(64, (3, 3), activation='relu'))\n",
        "cnn2.add(layers.Conv2D(64, (3, 3), activation='relu'))\n",
        "\n",
        "cnn2.add(layers.Flatten())\n",
        "cnn2.add(layers.Dense(64, activation='relu'))\n",
        "cnn2.add(layers.Dense(4, activation='softmax'))\n",
        "cnn2.summary()"
      ],
      "metadata": {
        "colab": {
          "base_uri": "https://localhost:8080/"
        },
        "id": "nSb7vljNcr4e",
        "outputId": "bb1563e6-7dc5-4532-cf7b-4faddb670b35"
      },
      "execution_count": null,
      "outputs": [
        {
          "output_type": "stream",
          "name": "stdout",
          "text": [
            "Model: \"sequential_6\"\n",
            "_________________________________________________________________\n",
            "Layer (type)                 Output Shape              Param #   \n",
            "=================================================================\n",
            "conv2d_26 (Conv2D)           (None, 98, 98, 32)        320       \n",
            "_________________________________________________________________\n",
            "max_pooling2d_12 (MaxPooling (None, 49, 49, 32)        0         \n",
            "_________________________________________________________________\n",
            "conv2d_27 (Conv2D)           (None, 47, 47, 64)        18496     \n",
            "_________________________________________________________________\n",
            "conv2d_28 (Conv2D)           (None, 45, 45, 64)        36928     \n",
            "_________________________________________________________________\n",
            "max_pooling2d_13 (MaxPooling (None, 22, 22, 64)        0         \n",
            "_________________________________________________________________\n",
            "conv2d_29 (Conv2D)           (None, 20, 20, 64)        36928     \n",
            "_________________________________________________________________\n",
            "conv2d_30 (Conv2D)           (None, 18, 18, 64)        36928     \n",
            "_________________________________________________________________\n",
            "flatten_6 (Flatten)          (None, 20736)             0         \n",
            "_________________________________________________________________\n",
            "dense_13 (Dense)             (None, 64)                1327168   \n",
            "_________________________________________________________________\n",
            "dense_14 (Dense)             (None, 4)                 260       \n",
            "=================================================================\n",
            "Total params: 1,457,028\n",
            "Trainable params: 1,457,028\n",
            "Non-trainable params: 0\n",
            "_________________________________________________________________\n"
          ]
        }
      ]
    },
    {
      "cell_type": "code",
      "source": [
        "cnn2.compile(optimizer='adam',\n",
        "              loss='categorical_crossentropy',\n",
        "              metrics=['accuracy'])\n",
        "history_cnn2 = cnn2.fit(train_images, y_train_labels, epochs=20, batch_size=32, verbose = True, validation_data = (val_images, y_val_labels))"
      ],
      "metadata": {
        "id": "6LhEn553kesd",
        "colab": {
          "base_uri": "https://localhost:8080/"
        },
        "outputId": "59fd5f96-176e-4a21-bfa7-e9136396a976"
      },
      "execution_count": null,
      "outputs": [
        {
          "output_type": "stream",
          "name": "stdout",
          "text": [
            "Epoch 1/20\n",
            "500/500 [==============================] - 8s 15ms/step - loss: 1.3635 - accuracy: 0.2916 - val_loss: 1.2257 - val_accuracy: 0.4220\n",
            "Epoch 2/20\n",
            "500/500 [==============================] - 7s 14ms/step - loss: 1.1009 - accuracy: 0.5191 - val_loss: 1.0160 - val_accuracy: 0.5575\n",
            "Epoch 3/20\n",
            "500/500 [==============================] - 7s 14ms/step - loss: 0.9863 - accuracy: 0.5781 - val_loss: 0.9488 - val_accuracy: 0.5980\n",
            "Epoch 4/20\n",
            "500/500 [==============================] - 7s 14ms/step - loss: 0.9136 - accuracy: 0.6192 - val_loss: 0.9087 - val_accuracy: 0.6210\n",
            "Epoch 5/20\n",
            "500/500 [==============================] - 7s 14ms/step - loss: 0.8506 - accuracy: 0.6453 - val_loss: 0.9013 - val_accuracy: 0.6280\n",
            "Epoch 6/20\n",
            "500/500 [==============================] - 7s 14ms/step - loss: 0.7855 - accuracy: 0.6778 - val_loss: 0.8950 - val_accuracy: 0.6305\n",
            "Epoch 7/20\n",
            "500/500 [==============================] - 7s 14ms/step - loss: 0.7174 - accuracy: 0.7076 - val_loss: 0.9303 - val_accuracy: 0.6335\n",
            "Epoch 8/20\n",
            "500/500 [==============================] - 7s 14ms/step - loss: 0.6390 - accuracy: 0.7444 - val_loss: 0.9467 - val_accuracy: 0.6180\n",
            "Epoch 9/20\n",
            "500/500 [==============================] - 7s 15ms/step - loss: 0.5493 - accuracy: 0.7829 - val_loss: 1.0654 - val_accuracy: 0.6075\n",
            "Epoch 10/20\n",
            "500/500 [==============================] - 7s 14ms/step - loss: 0.4502 - accuracy: 0.8208 - val_loss: 1.1781 - val_accuracy: 0.6065\n",
            "Epoch 11/20\n",
            "500/500 [==============================] - 7s 14ms/step - loss: 0.3512 - accuracy: 0.8629 - val_loss: 1.4172 - val_accuracy: 0.5865\n",
            "Epoch 12/20\n",
            "500/500 [==============================] - 7s 14ms/step - loss: 0.2678 - accuracy: 0.8971 - val_loss: 1.5543 - val_accuracy: 0.6030\n",
            "Epoch 13/20\n",
            "500/500 [==============================] - 7s 14ms/step - loss: 0.2094 - accuracy: 0.9214 - val_loss: 1.9260 - val_accuracy: 0.6045\n",
            "Epoch 14/20\n",
            "500/500 [==============================] - 7s 15ms/step - loss: 0.1575 - accuracy: 0.9426 - val_loss: 2.3368 - val_accuracy: 0.5955\n",
            "Epoch 15/20\n",
            "500/500 [==============================] - 7s 14ms/step - loss: 0.1268 - accuracy: 0.9541 - val_loss: 2.7144 - val_accuracy: 0.5800\n",
            "Epoch 16/20\n",
            "500/500 [==============================] - 7s 14ms/step - loss: 0.1143 - accuracy: 0.9579 - val_loss: 2.7743 - val_accuracy: 0.6000\n",
            "Epoch 17/20\n",
            "500/500 [==============================] - 7s 15ms/step - loss: 0.1085 - accuracy: 0.9619 - val_loss: 2.7342 - val_accuracy: 0.5860\n",
            "Epoch 18/20\n",
            "500/500 [==============================] - 7s 15ms/step - loss: 0.0803 - accuracy: 0.9722 - val_loss: 3.1867 - val_accuracy: 0.5975\n",
            "Epoch 19/20\n",
            "500/500 [==============================] - 7s 14ms/step - loss: 0.0857 - accuracy: 0.9695 - val_loss: 3.1987 - val_accuracy: 0.5940\n",
            "Epoch 20/20\n",
            "500/500 [==============================] - 7s 14ms/step - loss: 0.0806 - accuracy: 0.9720 - val_loss: 3.3152 - val_accuracy: 0.5805\n"
          ]
        }
      ]
    },
    {
      "cell_type": "code",
      "source": [
        "test_loss, test_acc = cnn2.evaluate(test_images, y_test_labels)"
      ],
      "metadata": {
        "id": "f7gniHBuodYj",
        "colab": {
          "base_uri": "https://localhost:8080/"
        },
        "outputId": "ea4470eb-cc36-48d0-f07d-29bb5564236d"
      },
      "execution_count": null,
      "outputs": [
        {
          "output_type": "stream",
          "name": "stdout",
          "text": [
            "125/125 [==============================] - 1s 6ms/step - loss: 3.1981 - accuracy: 0.5925\n"
          ]
        }
      ]
    },
    {
      "cell_type": "code",
      "source": [
        "def plotConfusionMatrix(predictions):\n",
        "  y_pred=np.argmax(predictions, axis=1)\n",
        "  y_test=np.argmax(y_test_labels, axis=1)\n",
        "\n",
        "  confusion_matrix = metrics.confusion_matrix(y_pred, y_test, normalize='true')\n",
        "\n",
        "  disp = metrics.ConfusionMatrixDisplay(confusion_matrix=confusion_matrix, display_labels=[\"Neutral\", \"Happy\", \"Sad\", \"Surprise\"])\n",
        "  disp.plot()\n",
        "\n",
        "  plt.savefig(\"CNN2.svg\")\n",
        "  plt.show()"
      ],
      "metadata": {
        "id": "sVuPdUg4FIvE"
      },
      "execution_count": null,
      "outputs": []
    },
    {
      "cell_type": "code",
      "source": [
        "predictions = cnn2.predict(test_images)\n",
        "plotConfusionMatrix(predictions)"
      ],
      "metadata": {
        "colab": {
          "base_uri": "https://localhost:8080/",
          "height": 449
        },
        "id": "HGVyK29aC9dO",
        "outputId": "1c476814-473c-4d80-aad2-ef9ccd837478"
      },
      "execution_count": null,
      "outputs": [
        {
          "output_type": "display_data",
          "data": {
            "text/plain": [
              "<Figure size 640x480 with 2 Axes>"
            ],
            "image/png": "[encoded data removed]"
          },
          "metadata": {}
        }
      ]
    },
    {
      "cell_type": "code",
      "source": [
        "plotAccuracyandLoss(history_cnn2, \"CNN2\")"
      ],
      "metadata": {
        "colab": {
          "base_uri": "https://localhost:8080/",
          "height": 490
        },
        "id": "9LCQ_3XOFSpu",
        "outputId": "888ea37b-49e1-4618-e662-708ae20b2ea4"
      },
      "execution_count": null,
      "outputs": [
        {
          "output_type": "stream",
          "name": "stdout",
          "text": [
            "dict_keys(['loss', 'accuracy', 'val_loss', 'val_accuracy'])\n"
          ]
        },
        {
          "output_type": "display_data",
          "data": {
            "text/plain": [
              "<Figure size 640x480 with 1 Axes>"
            ],
            "image/png": "[encoded data removed]"
          },
          "metadata": {}
        }
      ]
    },
    {
      "cell_type": "markdown",
      "source": [
        "# CNN 3"
      ],
      "metadata": {
        "id": "w87t5IZo5jD5"
      }
    },
    {
      "cell_type": "code",
      "source": [
        "cnn3 = models.Sequential()\n",
        "cnn3.add(layers.Conv2D(32, (6, 6), activation='relu', input_shape=(100, 100, 1)))\n",
        "\n",
        "cnn3.add(layers.MaxPooling2D((2, 2)))\n",
        "cnn3.add(layers.Conv2D(64, (3, 3), activation='relu'))\n",
        "cnn3.add(layers.Conv2D(64, (3, 3), activation='relu'))\n",
        "cnn3.add(layers.MaxPooling2D((2, 2)))\n",
        "cnn3.add(layers.Conv2D(128, (3, 3), activation='relu'))\n",
        "cnn3.add(layers.Conv2D(128, (3, 3), activation='relu'))\n",
        "\n",
        "cnn3.add(layers.Flatten())\n",
        "cnn3.add(layers.Dense(64, activation='relu'))\n",
        "cnn3.add(layers.Dense(64, activation='relu'))\n",
        "cnn3.add(layers.Dense(4, activation='softmax'))\n",
        "cnn3.summary()"
      ],
      "metadata": {
        "colab": {
          "base_uri": "https://localhost:8080/"
        },
        "id": "5L5FWoMkgH7a",
        "outputId": "8d2db0f5-1e47-47d1-fd87-2aaa0a46309d"
      },
      "execution_count": null,
      "outputs": [
        {
          "output_type": "stream",
          "name": "stdout",
          "text": [
            "Model: \"sequential_8\"\n",
            "_________________________________________________________________\n",
            "Layer (type)                 Output Shape              Param #   \n",
            "=================================================================\n",
            "conv2d_36 (Conv2D)           (None, 95, 95, 32)        1184      \n",
            "_________________________________________________________________\n",
            "max_pooling2d_16 (MaxPooling (None, 47, 47, 32)        0         \n",
            "_________________________________________________________________\n",
            "conv2d_37 (Conv2D)           (None, 45, 45, 64)        18496     \n",
            "_________________________________________________________________\n",
            "conv2d_38 (Conv2D)           (None, 43, 43, 64)        36928     \n",
            "_________________________________________________________________\n",
            "max_pooling2d_17 (MaxPooling (None, 21, 21, 64)        0         \n",
            "_________________________________________________________________\n",
            "conv2d_39 (Conv2D)           (None, 19, 19, 128)       73856     \n",
            "_________________________________________________________________\n",
            "conv2d_40 (Conv2D)           (None, 17, 17, 128)       147584    \n",
            "_________________________________________________________________\n",
            "flatten_8 (Flatten)          (None, 36992)             0         \n",
            "_________________________________________________________________\n",
            "dense_18 (Dense)             (None, 64)                2367552   \n",
            "_________________________________________________________________\n",
            "dense_19 (Dense)             (None, 64)                4160      \n",
            "_________________________________________________________________\n",
            "dense_20 (Dense)             (None, 4)                 260       \n",
            "=================================================================\n",
            "Total params: 2,650,020\n",
            "Trainable params: 2,650,020\n",
            "Non-trainable params: 0\n",
            "_________________________________________________________________\n"
          ]
        }
      ]
    },
    {
      "cell_type": "code",
      "execution_count": null,
      "metadata": {
        "id": "pmbci3cYIN29",
        "colab": {
          "base_uri": "https://localhost:8080/"
        },
        "outputId": "efe5ecfa-1646-4a66-d867-08df6041c490"
      },
      "outputs": [
        {
          "output_type": "stream",
          "name": "stdout",
          "text": [
            "Epoch 1/20\n",
            "250/250 [==============================] - 8s 30ms/step - loss: 1.3864 - accuracy: 0.2567 - val_loss: 1.3774 - val_accuracy: 0.3050\n",
            "Epoch 2/20\n",
            "250/250 [==============================] - 7s 28ms/step - loss: 1.2051 - accuracy: 0.4414 - val_loss: 1.0682 - val_accuracy: 0.5318\n",
            "Epoch 3/20\n",
            "250/250 [==============================] - 7s 28ms/step - loss: 1.0356 - accuracy: 0.5493 - val_loss: 1.0258 - val_accuracy: 0.5462\n",
            "Epoch 4/20\n",
            "250/250 [==============================] - 7s 28ms/step - loss: 0.9607 - accuracy: 0.5909 - val_loss: 0.9317 - val_accuracy: 0.6045\n",
            "Epoch 5/20\n",
            "250/250 [==============================] - 7s 28ms/step - loss: 0.8909 - accuracy: 0.6233 - val_loss: 0.9188 - val_accuracy: 0.5993\n",
            "Epoch 6/20\n",
            "250/250 [==============================] - 7s 28ms/step - loss: 0.8312 - accuracy: 0.6526 - val_loss: 0.8808 - val_accuracy: 0.6270\n",
            "Epoch 7/20\n",
            "250/250 [==============================] - 7s 28ms/step - loss: 0.7717 - accuracy: 0.6844 - val_loss: 0.8845 - val_accuracy: 0.6258\n",
            "Epoch 8/20\n",
            "250/250 [==============================] - 7s 28ms/step - loss: 0.7083 - accuracy: 0.7079 - val_loss: 0.9074 - val_accuracy: 0.6187\n",
            "Epoch 9/20\n",
            "250/250 [==============================] - 7s 28ms/step - loss: 0.6328 - accuracy: 0.7459 - val_loss: 0.9655 - val_accuracy: 0.6143\n",
            "Epoch 10/20\n",
            "250/250 [==============================] - 7s 28ms/step - loss: 0.5454 - accuracy: 0.7789 - val_loss: 1.0563 - val_accuracy: 0.6115\n",
            "Epoch 11/20\n",
            "250/250 [==============================] - 7s 28ms/step - loss: 0.4554 - accuracy: 0.8208 - val_loss: 1.1103 - val_accuracy: 0.5955\n",
            "Epoch 12/20\n",
            "250/250 [==============================] - 7s 28ms/step - loss: 0.3791 - accuracy: 0.8506 - val_loss: 1.3496 - val_accuracy: 0.6040\n",
            "Epoch 13/20\n",
            "250/250 [==============================] - 7s 28ms/step - loss: 0.2995 - accuracy: 0.8832 - val_loss: 1.5758 - val_accuracy: 0.5903\n",
            "Epoch 14/20\n",
            "250/250 [==============================] - 7s 28ms/step - loss: 0.2355 - accuracy: 0.9079 - val_loss: 1.6909 - val_accuracy: 0.5968\n",
            "Epoch 15/20\n",
            "250/250 [==============================] - 7s 28ms/step - loss: 0.1884 - accuracy: 0.9299 - val_loss: 2.1622 - val_accuracy: 0.5763\n",
            "Epoch 16/20\n",
            "250/250 [==============================] - 7s 28ms/step - loss: 0.1476 - accuracy: 0.9454 - val_loss: 2.2088 - val_accuracy: 0.5798\n",
            "Epoch 17/20\n",
            "250/250 [==============================] - 7s 28ms/step - loss: 0.1234 - accuracy: 0.9551 - val_loss: 2.5800 - val_accuracy: 0.5792\n",
            "Epoch 18/20\n",
            "250/250 [==============================] - 7s 28ms/step - loss: 0.1046 - accuracy: 0.9634 - val_loss: 3.3240 - val_accuracy: 0.5782\n",
            "Epoch 19/20\n",
            "250/250 [==============================] - 7s 28ms/step - loss: 0.1074 - accuracy: 0.9619 - val_loss: 2.8564 - val_accuracy: 0.5810\n",
            "Epoch 20/20\n",
            "250/250 [==============================] - 7s 28ms/step - loss: 0.0682 - accuracy: 0.9776 - val_loss: 3.3288 - val_accuracy: 0.5748\n"
          ]
        }
      ],
      "source": [
        "cnn3.compile(optimizer='adam',\n",
        "              loss='categorical_crossentropy',\n",
        "              metrics=['accuracy'])\n",
        "history_cnn3 = cnn3.fit(train_images, y_train_labels, epochs = 20, batch_size=64, verbose = True, validation_data = (test_images, y_test_labels))"
      ]
    },
    {
      "cell_type": "code",
      "source": [
        "test_loss, test_acc = cnn3.evaluate(test_images, y_test_labels)"
      ],
      "metadata": {
        "colab": {
          "base_uri": "https://localhost:8080/"
        },
        "id": "I0Soy0PihJ9q",
        "outputId": "da32fc8c-c034-4696-cf26-0e4bc313fecc"
      },
      "execution_count": null,
      "outputs": [
        {
          "output_type": "stream",
          "name": "stdout",
          "text": [
            "125/125 [==============================] - 1s 5ms/step - loss: 3.3288 - accuracy: 0.5748\n"
          ]
        }
      ]
    },
    {
      "cell_type": "code",
      "source": [
        "def plotConfusionMatrix(predictions):\n",
        "  y_pred=np.argmax(predictions, axis=1)\n",
        "  y_test=np.argmax(y_test_labels, axis=1)\n",
        "\n",
        "  confusion_matrix = metrics.confusion_matrix(y_pred, y_test, normalize='true')\n",
        "\n",
        "  disp = metrics.ConfusionMatrixDisplay(confusion_matrix=confusion_matrix, display_labels=[\"Neutral\", \"Happy\", \"Sad\", \"Surprise\"])\n",
        "  disp.plot()\n",
        "\n",
        "  plt.savefig(\"CNN3.svg\")\n",
        "  plt.show()"
      ],
      "metadata": {
        "id": "-tkmNXNUPSSq"
      },
      "execution_count": null,
      "outputs": []
    },
    {
      "cell_type": "code",
      "source": [
        "predictions = cnn3.predict(test_images)\n",
        "plotConfusionMatrix(predictions)"
      ],
      "metadata": {
        "colab": {
          "base_uri": "https://localhost:8080/",
          "height": 449
        },
        "id": "0-nLcq5iDEtT",
        "outputId": "52263ba2-8fe5-4788-c819-f0ae6150b313"
      },
      "execution_count": null,
      "outputs": [
        {
          "output_type": "display_data",
          "data": {
            "text/plain": [
              "<Figure size 640x480 with 2 Axes>"
            ],
            "image/png": "[encoded data removed]"
          },
          "metadata": {}
        }
      ]
    },
    {
      "cell_type": "code",
      "source": [
        "plotAccuracyandLoss(history_cnn3, \"CNN3\")"
      ],
      "metadata": {
        "colab": {
          "base_uri": "https://localhost:8080/",
          "height": 490
        },
        "id": "b3aLbXCTQ7oE",
        "outputId": "efdb7f2c-e49d-4248-aedf-f911a6e11736"
      },
      "execution_count": null,
      "outputs": [
        {
          "output_type": "stream",
          "name": "stdout",
          "text": [
            "dict_keys(['loss', 'accuracy', 'val_loss', 'val_accuracy'])\n"
          ]
        },
        {
          "output_type": "display_data",
          "data": {
            "text/plain": [
              "<Figure size 640x480 with 1 Axes>"
            ],
            "image/png": "[encoded data removed]"
          },
          "metadata": {}
        }
      ]
    },
    {
      "cell_type": "code",
      "execution_count": null,
      "metadata": {
        "id": "KVxuZoogIqpT"
      },
      "outputs": [],
      "source": [
        "# model.save('baseline_model.h5')\n",
        "# model_test.save('baseline_model.h5')\n",
        "# cnn3.save('cnn3.h5')\n",
        "# from google.colab import files\n",
        "# files.download('cnn3.h5') "
      ]
    },
    {
      "cell_type": "code",
      "source": [],
      "metadata": {
        "id": "H3SrwvaO10SN"
      },
      "execution_count": null,
      "outputs": []
    }
  ],
  "metadata": {
    "accelerator": "GPU",
    "colab": {
      "machine_shape": "hm",
      "provenance": []
    },
    "gpuClass": "standard",
    "kernelspec": {
      "display_name": "Python 3",
      "name": "python3"
    },
    "language_info": {
      "name": "python"
    }
  },
  "nbformat": 4,
  "nbformat_minor": 0
}