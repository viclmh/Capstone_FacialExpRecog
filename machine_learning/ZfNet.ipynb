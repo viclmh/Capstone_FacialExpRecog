{
  "cells": [
    {
      "cell_type": "code",
      "execution_count": null,
      "metadata": {
        "colab": {
          "base_uri": "https://localhost:8080/"
        },
        "id": "vilbbSu17GHo",
        "outputId": "a08fddc3-9a89-4f4a-af3f-e93a594179aa"
      },
      "outputs": [
        {
          "output_type": "stream",
          "name": "stdout",
          "text": [
            "Mounted at /content/drive\n"
          ]
        }
      ],
      "source": [
        "from google.colab import drive\n",
        "drive.mount('/content/drive', force_remount=True)"
      ]
    },
    {
      "cell_type": "code",
      "source": [
        "!unzip \"/content/drive/My Drive/SI699/100.zip\" -d \"/content\""
      ],
      "metadata": {
        "id": "OKPySF9Esm9Q"
      },
      "execution_count": null,
      "outputs": []
    },
    {
      "cell_type": "code",
      "execution_count": null,
      "metadata": {
        "id": "UC35lPG85T1Z",
        "colab": {
          "base_uri": "https://localhost:8080/"
        },
        "outputId": "24639add-6be0-4e51-b850-a73848d09d69"
      },
      "outputs": [
        {
          "output_type": "stream",
          "name": "stdout",
          "text": [
            "Looking in indexes: https://pypi.org/simple, https://us-python.pkg.dev/colab-wheels/public/simple/\n",
            "Collecting keras==2.6.0\n",
            "  Downloading keras-2.6.0-py2.py3-none-any.whl (1.3 MB)\n",
            "\u001b[2K     \u001b[90m━━━━━━━━━━━━━━━━━━━━━━━━━━━━━━━━━━━━━━━━\u001b[0m \u001b[32m1.3/1.3 MB\u001b[0m \u001b[31m6.1 MB/s\u001b[0m eta \u001b[36m0:00:00\u001b[0m\n",
            "\u001b[?25hInstalling collected packages: keras\n",
            "  Attempting uninstall: keras\n",
            "    Found existing installation: keras 2.12.0\n",
            "    Uninstalling keras-2.12.0:\n",
            "      Successfully uninstalled keras-2.12.0\n",
            "\u001b[31mERROR: pip's dependency resolver does not currently take into account all the packages that are installed. This behaviour is the source of the following dependency conflicts.\n",
            "tensorflow 2.12.0 requires keras<2.13,>=2.12.0, but you have keras 2.6.0 which is incompatible.\u001b[0m\u001b[31m\n",
            "\u001b[0mSuccessfully installed keras-2.6.0\n",
            "Looking in indexes: https://pypi.org/simple, https://us-python.pkg.dev/colab-wheels/public/simple/\n",
            "Collecting tensorflow==2.6.0\n",
            "  Downloading tensorflow-2.6.0-cp39-cp39-manylinux2010_x86_64.whl (458.4 MB)\n",
            "\u001b[2K     \u001b[90m━━━━━━━━━━━━━━━━━━━━━━━━━━━━━━━━━━━━━━━\u001b[0m \u001b[32m458.4/458.4 MB\u001b[0m \u001b[31m3.1 MB/s\u001b[0m eta \u001b[36m0:00:00\u001b[0m\n",
            "\u001b[?25hCollecting termcolor~=1.1.0\n",
            "  Downloading termcolor-1.1.0.tar.gz (3.9 kB)\n",
            "  Preparing metadata (setup.py) ... \u001b[?25l\u001b[?25hdone\n",
            "Collecting six~=1.15.0\n",
            "  Downloading six-1.15.0-py2.py3-none-any.whl (10 kB)\n",
            "Collecting typing-extensions~=3.7.4\n",
            "  Downloading typing_extensions-3.7.4.3-py3-none-any.whl (22 kB)\n",
            "Collecting numpy~=1.19.2\n",
            "  Downloading numpy-1.19.5-cp39-cp39-manylinux2010_x86_64.whl (14.9 MB)\n",
            "\u001b[2K     \u001b[90m━━━━━━━━━━━━━━━━━━━━━━━━━━━━━━━━━━━━━━━━\u001b[0m \u001b[32m14.9/14.9 MB\u001b[0m \u001b[31m92.4 MB/s\u001b[0m eta \u001b[36m0:00:00\u001b[0m\n",
            "\u001b[?25hRequirement already satisfied: tensorboard~=2.6 in /usr/local/lib/python3.9/dist-packages (from tensorflow==2.6.0) (2.12.1)\n",
            "Requirement already satisfied: protobuf>=3.9.2 in /usr/local/lib/python3.9/dist-packages (from tensorflow==2.6.0) (3.20.3)\n",
            "Collecting clang~=5.0\n",
            "  Downloading clang-5.0.tar.gz (30 kB)\n",
            "  Preparing metadata (setup.py) ... \u001b[?25l\u001b[?25hdone\n",
            "Collecting wrapt~=1.12.1\n",
            "  Downloading wrapt-1.12.1.tar.gz (27 kB)\n",
            "  Preparing metadata (setup.py) ... \u001b[?25l\u001b[?25hdone\n",
            "Requirement already satisfied: gast==0.4.0 in /usr/local/lib/python3.9/dist-packages (from tensorflow==2.6.0) (0.4.0)\n",
            "Requirement already satisfied: google-pasta~=0.2 in /usr/local/lib/python3.9/dist-packages (from tensorflow==2.6.0) (0.2.0)\n",
            "Collecting flatbuffers~=1.12.0\n",
            "  Downloading flatbuffers-1.12-py2.py3-none-any.whl (15 kB)\n",
            "Collecting keras-preprocessing~=1.1.2\n",
            "  Downloading Keras_Preprocessing-1.1.2-py2.py3-none-any.whl (42 kB)\n",
            "\u001b[2K     \u001b[90m━━━━━━━━━━━━━━━━━━━━━━━━━━━━━━━━━━━━━━━━\u001b[0m \u001b[32m42.6/42.6 kB\u001b[0m \u001b[31m6.0 MB/s\u001b[0m eta \u001b[36m0:00:00\u001b[0m\n",
            "\u001b[?25hCollecting absl-py~=0.10\n",
            "  Downloading absl_py-0.15.0-py3-none-any.whl (132 kB)\n",
            "\u001b[2K     \u001b[90m━━━━━━━━━━━━━━━━━━━━━━━━━━━━━━━━━━━━━━\u001b[0m \u001b[32m132.0/132.0 kB\u001b[0m \u001b[31m18.3 MB/s\u001b[0m eta \u001b[36m0:00:00\u001b[0m\n",
            "\u001b[?25hRequirement already satisfied: wheel~=0.35 in /usr/local/lib/python3.9/dist-packages (from tensorflow==2.6.0) (0.40.0)\n",
            "Requirement already satisfied: opt-einsum~=3.3.0 in /usr/local/lib/python3.9/dist-packages (from tensorflow==2.6.0) (3.3.0)\n",
            "Collecting h5py~=3.1.0\n",
            "  Downloading h5py-3.1.0-cp39-cp39-manylinux1_x86_64.whl (4.4 MB)\n",
            "\u001b[2K     \u001b[90m━━━━━━━━━━━━━━━━━━━━━━━━━━━━━━━━━━━━━━━━\u001b[0m \u001b[32m4.4/4.4 MB\u001b[0m \u001b[31m107.2 MB/s\u001b[0m eta \u001b[36m0:00:00\u001b[0m\n",
            "\u001b[?25hRequirement already satisfied: tensorflow-estimator~=2.6 in /usr/local/lib/python3.9/dist-packages (from tensorflow==2.6.0) (2.12.0)\n",
            "Requirement already satisfied: keras~=2.6 in /usr/local/lib/python3.9/dist-packages (from tensorflow==2.6.0) (2.6.0)\n",
            "Requirement already satisfied: astunparse~=1.6.3 in /usr/local/lib/python3.9/dist-packages (from tensorflow==2.6.0) (1.6.3)\n",
            "Requirement already satisfied: grpcio<2.0,>=1.37.0 in /usr/local/lib/python3.9/dist-packages (from tensorflow==2.6.0) (1.53.0)\n",
            "Requirement already satisfied: markdown>=2.6.8 in /usr/local/lib/python3.9/dist-packages (from tensorboard~=2.6->tensorflow==2.6.0) (3.4.3)\n",
            "Requirement already satisfied: google-auth-oauthlib<1.1,>=0.5 in /usr/local/lib/python3.9/dist-packages (from tensorboard~=2.6->tensorflow==2.6.0) (1.0.0)\n",
            "Requirement already satisfied: tensorboard-plugin-wit>=1.6.0 in /usr/local/lib/python3.9/dist-packages (from tensorboard~=2.6->tensorflow==2.6.0) (1.8.1)\n",
            "Requirement already satisfied: requests<3,>=2.21.0 in /usr/local/lib/python3.9/dist-packages (from tensorboard~=2.6->tensorflow==2.6.0) (2.27.1)\n",
            "Requirement already satisfied: google-auth<3,>=1.6.3 in /usr/local/lib/python3.9/dist-packages (from tensorboard~=2.6->tensorflow==2.6.0) (2.17.2)\n",
            "Requirement already satisfied: tensorboard-data-server<0.8.0,>=0.7.0 in /usr/local/lib/python3.9/dist-packages (from tensorboard~=2.6->tensorflow==2.6.0) (0.7.0)\n",
            "Requirement already satisfied: setuptools>=41.0.0 in /usr/local/lib/python3.9/dist-packages (from tensorboard~=2.6->tensorflow==2.6.0) (67.6.1)\n",
            "Requirement already satisfied: werkzeug>=1.0.1 in /usr/local/lib/python3.9/dist-packages (from tensorboard~=2.6->tensorflow==2.6.0) (2.2.3)\n",
            "Requirement already satisfied: pyasn1-modules>=0.2.1 in /usr/local/lib/python3.9/dist-packages (from google-auth<3,>=1.6.3->tensorboard~=2.6->tensorflow==2.6.0) (0.2.8)\n",
            "Requirement already satisfied: rsa<5,>=3.1.4 in /usr/local/lib/python3.9/dist-packages (from google-auth<3,>=1.6.3->tensorboard~=2.6->tensorflow==2.6.0) (4.9)\n",
            "Requirement already satisfied: cachetools<6.0,>=2.0.0 in /usr/local/lib/python3.9/dist-packages (from google-auth<3,>=1.6.3->tensorboard~=2.6->tensorflow==2.6.0) (5.3.0)\n",
            "Requirement already satisfied: requests-oauthlib>=0.7.0 in /usr/local/lib/python3.9/dist-packages (from google-auth-oauthlib<1.1,>=0.5->tensorboard~=2.6->tensorflow==2.6.0) (1.3.1)\n",
            "Requirement already satisfied: importlib-metadata>=4.4 in /usr/local/lib/python3.9/dist-packages (from markdown>=2.6.8->tensorboard~=2.6->tensorflow==2.6.0) (6.3.0)\n",
            "Requirement already satisfied: idna<4,>=2.5 in /usr/local/lib/python3.9/dist-packages (from requests<3,>=2.21.0->tensorboard~=2.6->tensorflow==2.6.0) (3.4)\n",
            "Requirement already satisfied: certifi>=2017.4.17 in /usr/local/lib/python3.9/dist-packages (from requests<3,>=2.21.0->tensorboard~=2.6->tensorflow==2.6.0) (2022.12.7)\n",
            "Requirement already satisfied: urllib3<1.27,>=1.21.1 in /usr/local/lib/python3.9/dist-packages (from requests<3,>=2.21.0->tensorboard~=2.6->tensorflow==2.6.0) (1.26.15)\n",
            "Requirement already satisfied: charset-normalizer~=2.0.0 in /usr/local/lib/python3.9/dist-packages (from requests<3,>=2.21.0->tensorboard~=2.6->tensorflow==2.6.0) (2.0.12)\n",
            "Requirement already satisfied: MarkupSafe>=2.1.1 in /usr/local/lib/python3.9/dist-packages (from werkzeug>=1.0.1->tensorboard~=2.6->tensorflow==2.6.0) (2.1.2)\n",
            "Requirement already satisfied: zipp>=0.5 in /usr/local/lib/python3.9/dist-packages (from importlib-metadata>=4.4->markdown>=2.6.8->tensorboard~=2.6->tensorflow==2.6.0) (3.15.0)\n",
            "Requirement already satisfied: pyasn1<0.5.0,>=0.4.6 in /usr/local/lib/python3.9/dist-packages (from pyasn1-modules>=0.2.1->google-auth<3,>=1.6.3->tensorboard~=2.6->tensorflow==2.6.0) (0.4.8)\n",
            "Requirement already satisfied: oauthlib>=3.0.0 in /usr/local/lib/python3.9/dist-packages (from requests-oauthlib>=0.7.0->google-auth-oauthlib<1.1,>=0.5->tensorboard~=2.6->tensorflow==2.6.0) (3.2.2)\n",
            "Building wheels for collected packages: clang, termcolor, wrapt\n",
            "  Building wheel for clang (setup.py) ... \u001b[?25l\u001b[?25hdone\n",
            "  Created wheel for clang: filename=clang-5.0-py3-none-any.whl size=30692 sha256=399ad4d450c487fa593d2b5aeea5cac7b28b648476aca98ab8c4ccc55b6cc76d\n",
            "  Stored in directory: /root/.cache/pip/wheels/3a/ce/7a/27094f689461801c934296d07078773603663dfcaca63bb064\n",
            "  Building wheel for termcolor (setup.py) ... \u001b[?25l\u001b[?25hdone\n",
            "  Created wheel for termcolor: filename=termcolor-1.1.0-py3-none-any.whl size=4845 sha256=42be2eec72d99938bf6354471e98acbef25bc3c80aece45cd6074d7d9e4e478f\n",
            "  Stored in directory: /root/.cache/pip/wheels/b6/0d/90/0d1bbd99855f99cb2f6c2e5ff96f8023fad8ec367695f7d72d\n",
            "  Building wheel for wrapt (setup.py) ... \u001b[?25l\u001b[?25hdone\n",
            "  Created wheel for wrapt: filename=wrapt-1.12.1-cp39-cp39-linux_x86_64.whl size=75960 sha256=07c7f4fb3bf7e75a9464109374962710e7f7a8db36a143d01ab6155d87fbba46\n",
            "  Stored in directory: /root/.cache/pip/wheels/98/23/68/efe259aaca055e93b08e74fbe512819c69a2155c11ba3c0f10\n",
            "Successfully built clang termcolor wrapt\n",
            "Installing collected packages: wrapt, typing-extensions, termcolor, flatbuffers, clang, six, numpy, keras-preprocessing, h5py, absl-py, tensorflow\n",
            "  Attempting uninstall: wrapt\n",
            "    Found existing installation: wrapt 1.14.1\n",
            "    Uninstalling wrapt-1.14.1:\n",
            "      Successfully uninstalled wrapt-1.14.1\n",
            "  Attempting uninstall: typing-extensions\n",
            "    Found existing installation: typing_extensions 4.5.0\n",
            "    Uninstalling typing_extensions-4.5.0:\n",
            "      Successfully uninstalled typing_extensions-4.5.0\n",
            "  Attempting uninstall: termcolor\n",
            "    Found existing installation: termcolor 2.2.0\n",
            "    Uninstalling termcolor-2.2.0:\n",
            "      Successfully uninstalled termcolor-2.2.0\n",
            "  Attempting uninstall: flatbuffers\n",
            "    Found existing installation: flatbuffers 23.3.3\n",
            "    Uninstalling flatbuffers-23.3.3:\n",
            "      Successfully uninstalled flatbuffers-23.3.3\n",
            "  Attempting uninstall: six\n",
            "    Found existing installation: six 1.16.0\n",
            "    Uninstalling six-1.16.0:\n",
            "      Successfully uninstalled six-1.16.0\n",
            "  Attempting uninstall: numpy\n",
            "    Found existing installation: numpy 1.22.4\n",
            "    Uninstalling numpy-1.22.4:\n",
            "      Successfully uninstalled numpy-1.22.4\n",
            "  Attempting uninstall: h5py\n",
            "    Found existing installation: h5py 3.8.0\n",
            "    Uninstalling h5py-3.8.0:\n",
            "      Successfully uninstalled h5py-3.8.0\n",
            "  Attempting uninstall: absl-py\n",
            "    Found existing installation: absl-py 1.4.0\n",
            "    Uninstalling absl-py-1.4.0:\n",
            "      Successfully uninstalled absl-py-1.4.0\n",
            "  Attempting uninstall: tensorflow\n",
            "    Found existing installation: tensorflow 2.12.0\n",
            "    Uninstalling tensorflow-2.12.0:\n",
            "      Successfully uninstalled tensorflow-2.12.0\n",
            "\u001b[31mERROR: pip's dependency resolver does not currently take into account all the packages that are installed. This behaviour is the source of the following dependency conflicts.\n",
            "xarray 2022.12.0 requires numpy>=1.20, but you have numpy 1.19.5 which is incompatible.\n",
            "xarray-einstats 0.5.1 requires numpy>=1.20, but you have numpy 1.19.5 which is incompatible.\n",
            "sqlalchemy 2.0.9 requires typing-extensions>=4.2.0, but you have typing-extensions 3.7.4.3 which is incompatible.\n",
            "pydantic 1.10.7 requires typing-extensions>=4.2.0, but you have typing-extensions 3.7.4.3 which is incompatible.\n",
            "pandas 1.5.3 requires numpy>=1.20.3; python_version < \"3.10\", but you have numpy 1.19.5 which is incompatible.\n",
            "optax 0.1.4 requires typing-extensions>=3.10.0, but you have typing-extensions 3.7.4.3 which is incompatible.\n",
            "ml-dtypes 0.0.4 requires numpy>1.20, but you have numpy 1.19.5 which is incompatible.\n",
            "matplotlib 3.7.1 requires numpy>=1.20, but you have numpy 1.19.5 which is incompatible.\n",
            "librosa 0.10.0.post2 requires numpy!=1.22.0,!=1.22.1,!=1.22.2,>=1.20.3, but you have numpy 1.19.5 which is incompatible.\n",
            "librosa 0.10.0.post2 requires typing-extensions>=4.1.1, but you have typing-extensions 3.7.4.3 which is incompatible.\n",
            "jaxlib 0.4.7+cuda11.cudnn86 requires numpy>=1.21, but you have numpy 1.19.5 which is incompatible.\n",
            "jax 0.4.8 requires numpy>=1.21, but you have numpy 1.19.5 which is incompatible.\n",
            "flax 0.6.8 requires typing-extensions>=4.1.1, but you have typing-extensions 3.7.4.3 which is incompatible.\n",
            "cupy-cuda11x 11.0.0 requires numpy<1.26,>=1.20, but you have numpy 1.19.5 which is incompatible.\n",
            "cmdstanpy 1.1.0 requires numpy>=1.21, but you have numpy 1.19.5 which is incompatible.\n",
            "chex 0.1.7 requires typing-extensions>=4.2.0; python_version < \"3.11\", but you have typing-extensions 3.7.4.3 which is incompatible.\n",
            "bokeh 2.4.3 requires typing-extensions>=3.10.0, but you have typing-extensions 3.7.4.3 which is incompatible.\n",
            "astropy 5.2.2 requires numpy>=1.20, but you have numpy 1.19.5 which is incompatible.\n",
            "arviz 0.15.1 requires numpy>=1.20.0, but you have numpy 1.19.5 which is incompatible.\n",
            "arviz 0.15.1 requires typing-extensions>=4.1.0, but you have typing-extensions 3.7.4.3 which is incompatible.\u001b[0m\u001b[31m\n",
            "\u001b[0mSuccessfully installed absl-py-0.15.0 clang-5.0 flatbuffers-1.12 h5py-3.1.0 keras-preprocessing-1.1.2 numpy-1.19.5 six-1.15.0 tensorflow-2.6.0 termcolor-1.1.0 typing-extensions-3.7.4.3 wrapt-1.12.1\n"
          ]
        }
      ],
      "source": [
        "!pip install keras==2.6.0\n",
        "!pip install tensorflow==2.6.0"
      ]
    },
    {
      "cell_type": "code",
      "execution_count": null,
      "metadata": {
        "id": "Re0oDrRb5AIf"
      },
      "outputs": [],
      "source": [
        "import tensorflow as tf\n",
        "import keras\n",
        "import numpy as np\n",
        "import cv2\n",
        "import os\n",
        "# import matplotlib.pyplot as plt\n",
        "from sklearn.model_selection import train_test_split\n",
        "from tensorflow.keras import datasets, layers, models\n",
        "from tensorflow.keras.utils import to_categorical\n",
        "from tensorflow.keras.metrics import BinaryAccuracy\n",
        "from tensorflow.keras.layers import Dense\n",
        "from sklearn.metrics import confusion_matrix, ConfusionMatrixDisplay\n",
        "import matplotlib.pyplot as plt\n",
        "from sklearn import metrics"
      ]
    },
    {
      "cell_type": "code",
      "execution_count": null,
      "metadata": {
        "colab": {
          "base_uri": "https://localhost:8080/"
        },
        "id": "gwvTk-sh5G9S",
        "outputId": "88d314ab-f2e0-4de5-bcef-6755766dc8dc"
      },
      "outputs": [
        {
          "output_type": "stream",
          "name": "stdout",
          "text": [
            "2.6.0\n",
            "2.6.0\n"
          ]
        }
      ],
      "source": [
        "print(tf.__version__)\n",
        "print(keras.__version__)"
      ]
    },
    {
      "cell_type": "code",
      "execution_count": null,
      "metadata": {
        "id": "YmoUGgqm72T9",
        "colab": {
          "base_uri": "https://localhost:8080/"
        },
        "outputId": "6f327fd9-841d-4643-985d-d117e940b899"
      },
      "outputs": [
        {
          "output_type": "stream",
          "name": "stdout",
          "text": [
            "Fri Apr 14 20:21:55 2023       \n",
            "+-----------------------------------------------------------------------------+\n",
            "| NVIDIA-SMI 525.85.12    Driver Version: 525.85.12    CUDA Version: 12.0     |\n",
            "|-------------------------------+----------------------+----------------------+\n",
            "| GPU  Name        Persistence-M| Bus-Id        Disp.A | Volatile Uncorr. ECC |\n",
            "| Fan  Temp  Perf  Pwr:Usage/Cap|         Memory-Usage | GPU-Util  Compute M. |\n",
            "|                               |                      |               MIG M. |\n",
            "|===============================+======================+======================|\n",
            "|   0  Tesla T4            Off  | 00000000:00:04.0 Off |                    0 |\n",
            "| N/A   35C    P8     9W /  70W |      0MiB / 15360MiB |      0%      Default |\n",
            "|                               |                      |                  N/A |\n",
            "+-------------------------------+----------------------+----------------------+\n",
            "                                                                               \n",
            "+-----------------------------------------------------------------------------+\n",
            "| Processes:                                                                  |\n",
            "|  GPU   GI   CI        PID   Type   Process name                  GPU Memory |\n",
            "|        ID   ID                                                   Usage      |\n",
            "|=============================================================================|\n",
            "|  No running processes found                                                 |\n",
            "+-----------------------------------------------------------------------------+\n"
          ]
        }
      ],
      "source": [
        "gpu_info = !nvidia-smi\n",
        "gpu_info = '\\n'.join(gpu_info)\n",
        "if gpu_info.find('failed') >= 0:\n",
        "  print('Not connected to a GPU')\n",
        "else:\n",
        "  print(gpu_info)"
      ]
    },
    {
      "cell_type": "markdown",
      "source": [
        "\n",
        "# Training Set & Testing Set"
      ],
      "metadata": {
        "id": "wi5E293fb8z4"
      }
    },
    {
      "cell_type": "code",
      "execution_count": null,
      "metadata": {
        "colab": {
          "base_uri": "https://localhost:8080/"
        },
        "id": "IiDJ3mu8Ac90",
        "outputId": "e433bf59-d5b4-4151-c4ee-7a29cfb3de85"
      },
      "outputs": [
        {
          "output_type": "stream",
          "name": "stdout",
          "text": [
            "(100, 100, 1)\n"
          ]
        }
      ],
      "source": [
        "# Read a sample\n",
        "import cv2\n",
        "folder_name = '/content/100/1/'\n",
        "filename = '0' + '.jpg'\n",
        "img = cv2.imread(folder_name + filename, cv2.IMREAD_GRAYSCALE).reshape(100, 100, 1)\n",
        "print(img.shape)"
      ]
    },
    {
      "cell_type": "code",
      "source": [
        "print(img[:, :, 0])"
      ],
      "metadata": {
        "id": "JhUSBEwjeCrB",
        "colab": {
          "base_uri": "https://localhost:8080/"
        },
        "outputId": "7a9cae1d-e27f-4155-98b8-c0060e646bfc"
      },
      "execution_count": null,
      "outputs": [
        {
          "output_type": "stream",
          "name": "stdout",
          "text": [
            "[[153 147 138 ... 174 175 177]\n",
            " [143 134 124 ... 175 177 178]\n",
            " [139 127 115 ... 178 179 180]\n",
            " ...\n",
            " [  9  11  14 ... 133 134 132]\n",
            " [  9  12  11 ... 133 133 132]\n",
            " [  6  12  10 ... 131 131 131]]\n"
          ]
        }
      ]
    },
    {
      "cell_type": "code",
      "execution_count": null,
      "metadata": {
        "id": "y6vf7ktbAhWr"
      },
      "outputs": [],
      "source": [
        "def readImages(folder_name, num):\n",
        "    images = []\n",
        "    count = 0\n",
        "    for name in os.listdir(folder_name):\n",
        "      try:\n",
        "        img = cv2.imread(folder_name + name, cv2.IMREAD_GRAYSCALE).reshape(100, 100, 1)\n",
        "      except:\n",
        "        print(name)\n",
        "      images.append(img)\n",
        "      count += 1\n",
        "      if count == num:\n",
        "        break\n",
        "    matrix = np.stack(images, axis=0)\n",
        "    return matrix"
      ]
    },
    {
      "cell_type": "code",
      "source": [
        "images_0 = readImages('/content/100/0/', 5000)\n",
        "images_1 = readImages('/content/100/1/', 5000)\n",
        "images_2 = readImages('/content/100/2/', 5000)\n",
        "images_3 = readImages('/content/100/3/', 5000)"
      ],
      "metadata": {
        "id": "0AZh7U2gu_Ro",
        "colab": {
          "base_uri": "https://localhost:8080/"
        },
        "outputId": "701d602c-3f9f-4e37-8b41-621c63d04821"
      },
      "execution_count": null,
      "outputs": [
        {
          "output_type": "stream",
          "name": "stdout",
          "text": [
            ".DS_Store\n"
          ]
        }
      ]
    },
    {
      "cell_type": "code",
      "source": [
        "print(images_0.shape)\n",
        "print(images_1.shape)\n",
        "print(images_2.shape)\n",
        "print(images_3.shape)"
      ],
      "metadata": {
        "colab": {
          "base_uri": "https://localhost:8080/"
        },
        "id": "_I9WWHngurEm",
        "outputId": "f3155deb-faf3-4f2f-b5fc-b3c96ade5f13"
      },
      "execution_count": null,
      "outputs": [
        {
          "output_type": "stream",
          "name": "stdout",
          "text": [
            "(5000, 100, 100, 1)\n",
            "(5000, 100, 100, 1)\n",
            "(5000, 100, 100, 1)\n",
            "(5000, 100, 100, 1)\n"
          ]
        }
      ]
    },
    {
      "cell_type": "code",
      "source": [
        "labels_0 = np.zeros((5000,1), int)\n",
        "labels_1 = np.ones((5000,1), int)\n",
        "labels_2 = np.zeros((5000,1), int)\n",
        "labels_2.fill(2)\n",
        "labels_3 = np.zeros((5000,1), int)\n",
        "labels_3.fill(3)\n",
        "print(labels_0.shape)\n",
        "print(labels_1.shape)\n",
        "print(labels_2.shape)\n",
        "print(labels_3.shape)"
      ],
      "metadata": {
        "colab": {
          "base_uri": "https://localhost:8080/"
        },
        "id": "0_SnBNTewYKb",
        "outputId": "1918f86b-2c16-476c-c4a6-46615cdf2cdd"
      },
      "execution_count": null,
      "outputs": [
        {
          "output_type": "stream",
          "name": "stdout",
          "text": [
            "(5000, 1)\n",
            "(5000, 1)\n",
            "(5000, 1)\n",
            "(5000, 1)\n"
          ]
        }
      ]
    },
    {
      "cell_type": "code",
      "source": [
        "labels = np.concatenate((labels_0, labels_1, labels_2, labels_3), axis=0)\n",
        "y_train_labels = to_categorical(labels)"
      ],
      "metadata": {
        "id": "kAGUziglwsXY"
      },
      "execution_count": null,
      "outputs": []
    },
    {
      "cell_type": "code",
      "source": [
        "images = np.vstack((images_0, images_1, images_2, images_3))"
      ],
      "metadata": {
        "id": "BlyAK60xw0St"
      },
      "execution_count": null,
      "outputs": []
    },
    {
      "cell_type": "code",
      "source": [
        "train_images, test_images, train_labels, test_labels = train_test_split(images, labels, test_size=0.2, random_state=42)"
      ],
      "metadata": {
        "id": "F79QAcduneB1"
      },
      "execution_count": null,
      "outputs": []
    },
    {
      "cell_type": "code",
      "execution_count": null,
      "metadata": {
        "id": "05tJCbRDH2TK"
      },
      "outputs": [],
      "source": [
        "train_images = train_images.astype('float32') / 255\n",
        "test_images = test_images.astype('float32') / 255"
      ]
    },
    {
      "cell_type": "code",
      "source": [
        "y_train_labels = to_categorical(train_labels)\n",
        "y_test_labels = to_categorical(test_labels)"
      ],
      "metadata": {
        "id": "CEUzcMHSnM-C"
      },
      "execution_count": null,
      "outputs": []
    },
    {
      "cell_type": "code",
      "source": [
        "print(train_images.shape)\n",
        "print(y_train_labels.shape)\n",
        "print(test_images.shape)\n",
        "print(y_test_labels.shape)"
      ],
      "metadata": {
        "id": "pJmeOfp0nxcC",
        "colab": {
          "base_uri": "https://localhost:8080/"
        },
        "outputId": "d6eb938b-5b68-4ef7-e1a8-3a2df51e0119"
      },
      "execution_count": null,
      "outputs": [
        {
          "output_type": "stream",
          "name": "stdout",
          "text": [
            "(16000, 100, 100, 1)\n",
            "(16000, 4)\n",
            "(4000, 100, 100, 1)\n",
            "(4000, 4)\n"
          ]
        }
      ]
    },
    {
      "cell_type": "markdown",
      "source": [
        "# Validation Set"
      ],
      "metadata": {
        "id": "3RTVAH3prKZK"
      }
    },
    {
      "cell_type": "code",
      "source": [
        "!unzip \"/content/drive/My Drive/SI699/Validation_100.zip\" -d \"/content\""
      ],
      "metadata": {
        "id": "QyQTaTgurJS4"
      },
      "execution_count": null,
      "outputs": []
    },
    {
      "cell_type": "code",
      "source": [
        "count = 500"
      ],
      "metadata": {
        "id": "KY42fOONumeW"
      },
      "execution_count": null,
      "outputs": []
    },
    {
      "cell_type": "code",
      "source": [
        "images_val_0 = readImages('/content/Validation_100/0/', count)\n",
        "images_val_1 = readImages('/content/Validation_100/1/', count)\n",
        "images_val_2 = readImages('/content/Validation_100/2/', count)\n",
        "images_val_3 = readImages('/content/Validation_100/3/', count)"
      ],
      "metadata": {
        "id": "0OWrHxrrrJwj"
      },
      "execution_count": null,
      "outputs": []
    },
    {
      "cell_type": "code",
      "source": [
        "validation_images = np.vstack((images_val_0, images_val_1, images_val_2, images_val_3))\n",
        "val_images = validation_images.astype('float32') / 255"
      ],
      "metadata": {
        "id": "34LqhKVwsE65"
      },
      "execution_count": null,
      "outputs": []
    },
    {
      "cell_type": "code",
      "source": [
        "labels_val_0 = np.zeros((count,1), int)\n",
        "labels_val_1 = np.ones((count,1), int)\n",
        "labels_val_2 = np.zeros((count,1), int)\n",
        "labels_val_2.fill(2)\n",
        "labels_val_3 = np.zeros((count,1), int)\n",
        "labels_val_3.fill(3)\n",
        "print(labels_val_0.shape)\n",
        "print(labels_val_1.shape)\n",
        "print(labels_val_2.shape)\n",
        "print(labels_val_3.shape)"
      ],
      "metadata": {
        "id": "VIYLPfyrrnwL",
        "colab": {
          "base_uri": "https://localhost:8080/"
        },
        "outputId": "a317e566-1966-4be8-ab42-ac94e303792f"
      },
      "execution_count": null,
      "outputs": [
        {
          "output_type": "stream",
          "name": "stdout",
          "text": [
            "(500, 1)\n",
            "(500, 1)\n",
            "(500, 1)\n",
            "(500, 1)\n"
          ]
        }
      ]
    },
    {
      "cell_type": "code",
      "source": [
        "print(val_images.shape)"
      ],
      "metadata": {
        "id": "iDfs7wgEhl2i",
        "colab": {
          "base_uri": "https://localhost:8080/"
        },
        "outputId": "8b43c58c-87ba-4b13-96e5-2db0705e6933"
      },
      "execution_count": null,
      "outputs": [
        {
          "output_type": "stream",
          "name": "stdout",
          "text": [
            "(2000, 100, 100, 1)\n"
          ]
        }
      ]
    },
    {
      "cell_type": "code",
      "source": [
        "val_labels = np.concatenate((labels_val_0, labels_val_1, labels_val_2, labels_val_3), axis=0)"
      ],
      "metadata": {
        "id": "UGjuOAEBrynf"
      },
      "execution_count": null,
      "outputs": []
    },
    {
      "cell_type": "code",
      "execution_count": null,
      "metadata": {
        "id": "lGnes2UNI4d7"
      },
      "outputs": [],
      "source": [
        "y_val_labels = to_categorical(val_labels)\n"
      ]
    },
    {
      "cell_type": "code",
      "source": [
        "print(train_images.shape)\n",
        "print(y_train_labels.shape)\n",
        "print(val_images.shape)\n",
        "print(y_val_labels.shape)"
      ],
      "metadata": {
        "id": "ZWoRf1ems6UQ",
        "colab": {
          "base_uri": "https://localhost:8080/"
        },
        "outputId": "9878f796-40d9-4017-9848-5dc4bee64bd9"
      },
      "execution_count": null,
      "outputs": [
        {
          "output_type": "stream",
          "name": "stdout",
          "text": [
            "(16000, 100, 100, 1)\n",
            "(16000, 4)\n",
            "(2000, 100, 100, 1)\n",
            "(2000, 4)\n"
          ]
        }
      ]
    },
    {
      "cell_type": "markdown",
      "source": [
        "# ZFNet"
      ],
      "metadata": {
        "id": "YVwnFKEADSqO"
      }
    },
    {
      "cell_type": "code",
      "source": [
        "# ZFNet architecture is referenced from: Zeiler, M., & Fergus, R. (n.d.). Visualizing and Understanding Convolutional Networks. https://arxiv.org/pdf/1311.2901.pdf\n",
        "\n",
        "zf = models.Sequential()\n",
        "zf.add(layers.Conv2D(filters=96, kernel_size=(7,7), strides=(2,2), activation='relu', input_shape=(100,100,1)))\n",
        "zf.add(layers.MaxPool2D(pool_size=(3,3), strides=(2,2)))\n",
        "zf.add(layers.BatchNormalization())\n",
        "\n",
        "zf.add(layers.Conv2D(filters=256, kernel_size=(3,3), strides=(2,2), activation='relu', padding=\"same\"))\n",
        "zf.add(layers.MaxPool2D(pool_size=(3,3), strides=(2,2)))\n",
        "zf.add(layers.BatchNormalization())\n",
        "\n",
        "\n",
        "zf.add(layers.Conv2D(filters=384, kernel_size=(3,3), activation='relu', padding=\"same\"))\n",
        "zf.add(layers.BatchNormalization())\n",
        "\n",
        "\n",
        "zf.add(layers.Conv2D(filters=384, kernel_size=(3,3), activation='relu', padding=\"same\"))\n",
        "zf.add(layers.BatchNormalization())\n",
        "\n",
        "zf.add(layers.Conv2D(filters=256, kernel_size=(3,3), activation='relu', padding=\"same\"))\n",
        "zf.add(layers.MaxPool2D(pool_size=(3,3), strides=(2,2)))\n",
        "zf.add(layers.BatchNormalization())      \n",
        "\n",
        "\n",
        "\n",
        "zf.add(layers.Flatten())\n",
        "zf.add(layers.Dense(4096, activation='relu'))\n",
        "zf.add(layers.Dense(4096, activation='relu'))\n",
        "zf.add(layers.Dense(4, activation='softmax'))\n",
        "zf.summary()"
      ],
      "metadata": {
        "colab": {
          "base_uri": "https://localhost:8080/"
        },
        "id": "zxWoaAsTDVNR",
        "outputId": "ac62bb8d-0657-4c6c-b81a-b627c9547568"
      },
      "execution_count": null,
      "outputs": [
        {
          "output_type": "stream",
          "name": "stdout",
          "text": [
            "Model: \"sequential\"\n",
            "_________________________________________________________________\n",
            "Layer (type)                 Output Shape              Param #   \n",
            "=================================================================\n",
            "conv2d (Conv2D)              (None, 47, 47, 96)        4800      \n",
            "_________________________________________________________________\n",
            "max_pooling2d (MaxPooling2D) (None, 23, 23, 96)        0         \n",
            "_________________________________________________________________\n",
            "batch_normalization (BatchNo (None, 23, 23, 96)        384       \n",
            "_________________________________________________________________\n",
            "conv2d_1 (Conv2D)            (None, 12, 12, 256)       221440    \n",
            "_________________________________________________________________\n",
            "max_pooling2d_1 (MaxPooling2 (None, 5, 5, 256)         0         \n",
            "_________________________________________________________________\n",
            "batch_normalization_1 (Batch (None, 5, 5, 256)         1024      \n",
            "_________________________________________________________________\n",
            "conv2d_2 (Conv2D)            (None, 5, 5, 384)         885120    \n",
            "_________________________________________________________________\n",
            "batch_normalization_2 (Batch (None, 5, 5, 384)         1536      \n",
            "_________________________________________________________________\n",
            "conv2d_3 (Conv2D)            (None, 5, 5, 384)         1327488   \n",
            "_________________________________________________________________\n",
            "batch_normalization_3 (Batch (None, 5, 5, 384)         1536      \n",
            "_________________________________________________________________\n",
            "conv2d_4 (Conv2D)            (None, 5, 5, 256)         884992    \n",
            "_________________________________________________________________\n",
            "max_pooling2d_2 (MaxPooling2 (None, 2, 2, 256)         0         \n",
            "_________________________________________________________________\n",
            "batch_normalization_4 (Batch (None, 2, 2, 256)         1024      \n",
            "_________________________________________________________________\n",
            "flatten (Flatten)            (None, 1024)              0         \n",
            "_________________________________________________________________\n",
            "dense (Dense)                (None, 4096)              4198400   \n",
            "_________________________________________________________________\n",
            "dense_1 (Dense)              (None, 4096)              16781312  \n",
            "_________________________________________________________________\n",
            "dense_2 (Dense)              (None, 4)                 16388     \n",
            "=================================================================\n",
            "Total params: 24,325,444\n",
            "Trainable params: 24,322,692\n",
            "Non-trainable params: 2,752\n",
            "_________________________________________________________________\n"
          ]
        }
      ]
    },
    {
      "cell_type": "code",
      "source": [
        "# Set SGD as the optimizer\n",
        "optimizer = tf.keras.optimizers.SGD(lr = 0.01, momentum = 0.9)\n",
        "zf.compile(loss='categorical_crossentropy', optimizer=optimizer, metrics=['accuracy'])\n",
        "\n",
        "# Training\n",
        "history = zf.fit(train_images, y_train_labels, batch_size=128, epochs=50, validation_data=(val_images, y_val_labels),\n",
        "       verbose=2)"
      ],
      "metadata": {
        "id": "jj_aTjaMEEIx",
        "colab": {
          "base_uri": "https://localhost:8080/"
        },
        "outputId": "383b660f-0866-4217-bf22-9f56d8ad0c89"
      },
      "execution_count": null,
      "outputs": [
        {
          "output_type": "stream",
          "name": "stderr",
          "text": [
            "/usr/local/lib/python3.9/dist-packages/keras/optimizer_v2/optimizer_v2.py:355: UserWarning: The `lr` argument is deprecated, use `learning_rate` instead.\n",
            "  warnings.warn(\n"
          ]
        },
        {
          "output_type": "stream",
          "name": "stdout",
          "text": [
            "Epoch 1/50\n",
            "125/125 - 15s - loss: 1.3524 - accuracy: 0.3676 - val_loss: 1.5046 - val_accuracy: 0.3215\n",
            "Epoch 2/50\n",
            "125/125 - 5s - loss: 1.0876 - accuracy: 0.5211 - val_loss: 1.2020 - val_accuracy: 0.4435\n",
            "Epoch 3/50\n",
            "125/125 - 5s - loss: 0.9523 - accuracy: 0.5866 - val_loss: 1.1463 - val_accuracy: 0.4995\n",
            "Epoch 4/50\n",
            "125/125 - 5s - loss: 0.8503 - accuracy: 0.6440 - val_loss: 1.3446 - val_accuracy: 0.4465\n",
            "Epoch 5/50\n",
            "125/125 - 5s - loss: 0.7437 - accuracy: 0.6946 - val_loss: 1.1065 - val_accuracy: 0.5730\n",
            "Epoch 6/50\n",
            "125/125 - 5s - loss: 0.6491 - accuracy: 0.7371 - val_loss: 1.0110 - val_accuracy: 0.6060\n",
            "Epoch 7/50\n",
            "125/125 - 5s - loss: 0.5546 - accuracy: 0.7745 - val_loss: 1.1018 - val_accuracy: 0.5395\n",
            "Epoch 8/50\n",
            "125/125 - 5s - loss: 0.4668 - accuracy: 0.8139 - val_loss: 1.1013 - val_accuracy: 0.5930\n",
            "Epoch 9/50\n",
            "125/125 - 5s - loss: 0.3625 - accuracy: 0.8586 - val_loss: 1.2362 - val_accuracy: 0.6140\n",
            "Epoch 10/50\n",
            "125/125 - 5s - loss: 0.2935 - accuracy: 0.8862 - val_loss: 2.2924 - val_accuracy: 0.4710\n",
            "Epoch 11/50\n",
            "125/125 - 5s - loss: 0.2552 - accuracy: 0.9019 - val_loss: 1.4679 - val_accuracy: 0.5780\n",
            "Epoch 12/50\n",
            "125/125 - 5s - loss: 0.1975 - accuracy: 0.9250 - val_loss: 1.5523 - val_accuracy: 0.5635\n",
            "Epoch 13/50\n",
            "125/125 - 5s - loss: 0.1441 - accuracy: 0.9470 - val_loss: 1.6897 - val_accuracy: 0.6080\n",
            "Epoch 14/50\n",
            "125/125 - 5s - loss: 0.1150 - accuracy: 0.9586 - val_loss: 2.1074 - val_accuracy: 0.5680\n",
            "Epoch 15/50\n",
            "125/125 - 5s - loss: 0.0928 - accuracy: 0.9674 - val_loss: 1.9358 - val_accuracy: 0.6100\n",
            "Epoch 16/50\n",
            "125/125 - 5s - loss: 0.0763 - accuracy: 0.9743 - val_loss: 2.0086 - val_accuracy: 0.6110\n",
            "Epoch 17/50\n",
            "125/125 - 5s - loss: 0.0906 - accuracy: 0.9696 - val_loss: 1.9933 - val_accuracy: 0.5980\n",
            "Epoch 18/50\n",
            "125/125 - 5s - loss: 0.0594 - accuracy: 0.9815 - val_loss: 1.9057 - val_accuracy: 0.6060\n",
            "Epoch 19/50\n",
            "125/125 - 5s - loss: 0.0493 - accuracy: 0.9829 - val_loss: 2.1332 - val_accuracy: 0.6110\n",
            "Epoch 20/50\n",
            "125/125 - 5s - loss: 0.0301 - accuracy: 0.9911 - val_loss: 2.2514 - val_accuracy: 0.6170\n",
            "Epoch 21/50\n",
            "125/125 - 5s - loss: 0.0347 - accuracy: 0.9889 - val_loss: 2.6194 - val_accuracy: 0.6000\n",
            "Epoch 22/50\n",
            "125/125 - 5s - loss: 0.0333 - accuracy: 0.9887 - val_loss: 2.3216 - val_accuracy: 0.6300\n",
            "Epoch 23/50\n",
            "125/125 - 5s - loss: 0.0243 - accuracy: 0.9936 - val_loss: 2.4390 - val_accuracy: 0.6160\n",
            "Epoch 24/50\n",
            "125/125 - 5s - loss: 0.0207 - accuracy: 0.9936 - val_loss: 2.5119 - val_accuracy: 0.6010\n",
            "Epoch 25/50\n",
            "125/125 - 5s - loss: 0.0211 - accuracy: 0.9928 - val_loss: 2.5827 - val_accuracy: 0.6175\n",
            "Epoch 26/50\n",
            "125/125 - 5s - loss: 0.0162 - accuracy: 0.9955 - val_loss: 2.5116 - val_accuracy: 0.6075\n",
            "Epoch 27/50\n",
            "125/125 - 5s - loss: 0.0118 - accuracy: 0.9966 - val_loss: 2.5284 - val_accuracy: 0.6155\n",
            "Epoch 28/50\n",
            "125/125 - 5s - loss: 0.0079 - accuracy: 0.9980 - val_loss: 2.6385 - val_accuracy: 0.6210\n",
            "Epoch 29/50\n",
            "125/125 - 5s - loss: 0.0088 - accuracy: 0.9972 - val_loss: 2.6033 - val_accuracy: 0.6230\n",
            "Epoch 30/50\n",
            "125/125 - 5s - loss: 0.0044 - accuracy: 0.9988 - val_loss: 2.6158 - val_accuracy: 0.6335\n",
            "Epoch 31/50\n",
            "125/125 - 5s - loss: 0.0024 - accuracy: 0.9992 - val_loss: 2.7822 - val_accuracy: 0.6225\n",
            "Epoch 32/50\n",
            "125/125 - 5s - loss: 0.0019 - accuracy: 0.9992 - val_loss: 2.5950 - val_accuracy: 0.6340\n",
            "Epoch 33/50\n",
            "125/125 - 5s - loss: 0.0013 - accuracy: 0.9994 - val_loss: 2.6704 - val_accuracy: 0.6280\n",
            "Epoch 34/50\n",
            "125/125 - 5s - loss: 0.0012 - accuracy: 0.9994 - val_loss: 2.6483 - val_accuracy: 0.6305\n",
            "Epoch 35/50\n",
            "125/125 - 5s - loss: 0.0011 - accuracy: 0.9993 - val_loss: 2.6398 - val_accuracy: 0.6280\n",
            "Epoch 36/50\n",
            "125/125 - 5s - loss: 0.0010 - accuracy: 0.9994 - val_loss: 2.7433 - val_accuracy: 0.6240\n",
            "Epoch 37/50\n",
            "125/125 - 5s - loss: 0.0011 - accuracy: 0.9994 - val_loss: 2.6924 - val_accuracy: 0.6295\n",
            "Epoch 38/50\n",
            "125/125 - 5s - loss: 9.7225e-04 - accuracy: 0.9994 - val_loss: 2.7176 - val_accuracy: 0.6280\n",
            "Epoch 39/50\n",
            "125/125 - 5s - loss: 9.6297e-04 - accuracy: 0.9995 - val_loss: 2.7346 - val_accuracy: 0.6305\n",
            "Epoch 40/50\n",
            "125/125 - 5s - loss: 9.9704e-04 - accuracy: 0.9994 - val_loss: 2.7203 - val_accuracy: 0.6315\n",
            "Epoch 41/50\n",
            "125/125 - 5s - loss: 9.3084e-04 - accuracy: 0.9994 - val_loss: 2.7335 - val_accuracy: 0.6325\n",
            "Epoch 42/50\n",
            "125/125 - 5s - loss: 8.3429e-04 - accuracy: 0.9996 - val_loss: 2.7556 - val_accuracy: 0.6270\n",
            "Epoch 43/50\n",
            "125/125 - 5s - loss: 9.2976e-04 - accuracy: 0.9995 - val_loss: 2.7311 - val_accuracy: 0.6285\n",
            "Epoch 44/50\n",
            "125/125 - 5s - loss: 8.2323e-04 - accuracy: 0.9994 - val_loss: 2.7433 - val_accuracy: 0.6315\n",
            "Epoch 45/50\n",
            "125/125 - 5s - loss: 7.7311e-04 - accuracy: 0.9996 - val_loss: 2.7436 - val_accuracy: 0.6285\n",
            "Epoch 46/50\n",
            "125/125 - 5s - loss: 8.1868e-04 - accuracy: 0.9996 - val_loss: 2.7591 - val_accuracy: 0.6280\n",
            "Epoch 47/50\n",
            "125/125 - 5s - loss: 8.1335e-04 - accuracy: 0.9994 - val_loss: 2.7636 - val_accuracy: 0.6285\n",
            "Epoch 48/50\n",
            "125/125 - 5s - loss: 8.5605e-04 - accuracy: 0.9994 - val_loss: 2.7735 - val_accuracy: 0.6285\n",
            "Epoch 49/50\n",
            "125/125 - 5s - loss: 8.6540e-04 - accuracy: 0.9993 - val_loss: 2.7639 - val_accuracy: 0.6280\n",
            "Epoch 50/50\n",
            "125/125 - 5s - loss: 7.8999e-04 - accuracy: 0.9996 - val_loss: 2.7692 - val_accuracy: 0.6295\n"
          ]
        }
      ]
    },
    {
      "cell_type": "code",
      "source": [
        "test_loss, test_acc = zf.evaluate(test_images, y_test_labels)"
      ],
      "metadata": {
        "colab": {
          "base_uri": "https://localhost:8080/"
        },
        "id": "wVUf4OA1fqWR",
        "outputId": "2ec77ffc-c1bd-4684-ff9a-c297ed43e050"
      },
      "execution_count": null,
      "outputs": [
        {
          "output_type": "stream",
          "name": "stdout",
          "text": [
            "125/125 [==============================] - 1s 5ms/step - loss: 2.5012 - accuracy: 0.6480\n"
          ]
        }
      ]
    },
    {
      "cell_type": "code",
      "source": [
        "predictions = zf.predict(test_images)"
      ],
      "metadata": {
        "id": "lp1M2Einfrgf"
      },
      "execution_count": null,
      "outputs": []
    },
    {
      "cell_type": "code",
      "source": [
        "def plotConfusionMatrix(predictions):\n",
        "  y_pred=np.argmax(predictions, axis=1)\n",
        "  y_test=np.argmax(y_test_labels, axis=1)\n",
        "\n",
        "  confusion_matrix = metrics.confusion_matrix(y_pred, y_test, normalize='true')\n",
        "\n",
        "  disp = metrics.ConfusionMatrixDisplay(confusion_matrix=confusion_matrix, display_labels=[\"Neutral\", \"Happy\", \"Sad\", \"Surprise\"])\n",
        "  disp.plot()\n",
        "\n",
        "  plt.savefig(\"ZFNet.svg\")\n",
        "  plt.show()"
      ],
      "metadata": {
        "id": "JTB_wdeBftZm"
      },
      "execution_count": null,
      "outputs": []
    },
    {
      "cell_type": "code",
      "source": [
        "plotConfusionMatrix(predictions)"
      ],
      "metadata": {
        "colab": {
          "base_uri": "https://localhost:8080/",
          "height": 449
        },
        "id": "2YSgidv3fxYy",
        "outputId": "bc2ff011-6982-4cfb-fc71-cb5ed545e7a3"
      },
      "execution_count": null,
      "outputs": [
        {
          "output_type": "display_data",
          "data": {
            "text/plain": [
              "<Figure size 640x480 with 2 Axes>"
            ],
            "image/png": "[encoded data removed]"
          },
          "metadata": {}
        }
      ]
    },
    {
      "cell_type": "code",
      "source": [
        "def plotAccuracyandLoss(history, name):\n",
        "  print(history.history.keys())\n",
        "  plt.plot(history.history['accuracy'])\n",
        "  plt.plot(history.history['val_accuracy'])\n",
        "  plt.title(f'{name} Accuracy')\n",
        "  plt.ylabel('Accuracy')\n",
        "  plt.xlabel('Epochs')\n",
        "  plt.legend(['training', 'validation'], loc='upper left')\n",
        "  plt.savefig(f\"{name}_acc.svg\")\n",
        "  plt.show()"
      ],
      "metadata": {
        "id": "Wv_jGg4sbbjO"
      },
      "execution_count": null,
      "outputs": []
    },
    {
      "cell_type": "code",
      "source": [
        "plotAccuracyandLoss(history, \"ZFNet\")"
      ],
      "metadata": {
        "colab": {
          "base_uri": "https://localhost:8080/",
          "height": 490
        },
        "id": "RBWN_Fg0bdcj",
        "outputId": "4201c059-8f82-486d-b6a9-abd6b8a82aef"
      },
      "execution_count": null,
      "outputs": [
        {
          "output_type": "stream",
          "name": "stdout",
          "text": [
            "dict_keys(['loss', 'accuracy', 'val_loss', 'val_accuracy'])\n"
          ]
        },
        {
          "output_type": "display_data",
          "data": {
            "text/plain": [
              "<Figure size 640x480 with 1 Axes>"
            ],
            "image/png": "[encoded data removed]"
          },
          "metadata": {}
        }
      ]
    },
    {
      "cell_type": "code",
      "source": [
        "# zf.save('ZFNet.h5')"
      ],
      "metadata": {
        "id": "CW2AeRcaQkmS"
      },
      "execution_count": null,
      "outputs": []
    },
    {
      "cell_type": "code",
      "source": [
        "# from google.colab import files\n",
        "# files.download('ZFNet.h5') "
      ],
      "metadata": {
        "id": "A2mm3q_6Svee"
      },
      "execution_count": null,
      "outputs": []
    }
  ],
  "metadata": {
    "accelerator": "GPU",
    "colab": {
      "machine_shape": "hm",
      "provenance": []
    },
    "gpuClass": "standard",
    "kernelspec": {
      "display_name": "Python 3",
      "name": "python3"
    },
    "language_info": {
      "name": "python"
    }
  },
  "nbformat": 4,
  "nbformat_minor": 0
}